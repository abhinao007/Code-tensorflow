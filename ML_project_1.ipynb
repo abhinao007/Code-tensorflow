{
  "nbformat": 4,
  "nbformat_minor": 0,
  "metadata": {
    "colab": {
      "name": "ML project_1.ipynb",
      "provenance": [],
      "collapsed_sections": [],
      "authorship_tag": "ABX9TyNrtC+BQz3vv1rcJCHpNyUX",
      "include_colab_link": true
    },
    "kernelspec": {
      "name": "python3",
      "display_name": "Python 3"
    },
    "language_info": {
      "name": "python"
    }
  },
  "cells": [
    {
      "cell_type": "markdown",
      "metadata": {
        "id": "view-in-github",
        "colab_type": "text"
      },
      "source": [
        "<a href=\"https://colab.research.google.com/github/abhinao007/Code-tensorflow/blob/main/ML_project_1.ipynb\" target=\"_parent\"><img src=\"https://colab.research.google.com/assets/colab-badge.svg\" alt=\"Open In Colab\"/></a>"
      ]
    },
    {
      "cell_type": "code",
      "metadata": {
        "id": "bsOiP2S9pksK"
      },
      "source": [
        "import numpy as np \n",
        "import pandas as pd \n",
        "from textblob import TextBlob\n",
        "import matplotlib.pyplot as plt\n",
        "from google.colab import files\n",
        "import keras\n",
        "import tensorflow as tf\n",
        "from keras.models import Sequential\n",
        "from keras.layers import Dense,LSTM,Dropout,Activation,Embedding,Bidirectional"
      ],
      "execution_count": 2,
      "outputs": []
    },
    {
      "cell_type": "code",
      "metadata": {
        "id": "Dlx9fDm58709",
        "colab": {
          "resources": {
            "http://localhost:8080/nbextensions/google.colab/files.js": {
              "data": "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",
              "ok": true,
              "headers": [
                [
                  "content-type",
                  "application/javascript"
                ]
              ],
              "status": 200,
              "status_text": ""
            }
          },
          "base_uri": "https://localhost:8080/",
          "height": 72
        },
        "outputId": "c2255a41-776e-4c7b-de4e-0d09fabf85bf"
      },
      "source": [
        "\n",
        "\n",
        "# Install Kaggle library\n",
        "!pip install -q kaggle\n",
        "uploaded = files.upload()"
      ],
      "execution_count": 3,
      "outputs": [
        {
          "output_type": "display_data",
          "data": {
            "text/html": [
              "\n",
              "     <input type=\"file\" id=\"files-1ef58b5d-1df9-4d1b-a02a-088221b0005a\" name=\"files[]\" multiple disabled\n",
              "        style=\"border:none\" />\n",
              "     <output id=\"result-1ef58b5d-1df9-4d1b-a02a-088221b0005a\">\n",
              "      Upload widget is only available when the cell has been executed in the\n",
              "      current browser session. Please rerun this cell to enable.\n",
              "      </output>\n",
              "      <script src=\"/nbextensions/google.colab/files.js\"></script> "
            ],
            "text/plain": [
              "<IPython.core.display.HTML object>"
            ]
          },
          "metadata": {
            "tags": []
          }
        },
        {
          "output_type": "stream",
          "text": [
            "Saving kaggle.json to kaggle.json\n"
          ],
          "name": "stdout"
        }
      ]
    },
    {
      "cell_type": "code",
      "metadata": {
        "id": "QAmazcqO_0Ex"
      },
      "source": [
        "!mkdir -p ~/.kaggle\n",
        "!cp kaggle.json ~/.kaggle"
      ],
      "execution_count": 4,
      "outputs": []
    },
    {
      "cell_type": "code",
      "metadata": {
        "id": "ykQr3EAnAW30"
      },
      "source": [
        "!chmod 600 ~/.kaggle/kaggle.json"
      ],
      "execution_count": 5,
      "outputs": []
    },
    {
      "cell_type": "code",
      "metadata": {
        "colab": {
          "base_uri": "https://localhost:8080/"
        },
        "id": "rTw32u0yAoSH",
        "outputId": "fc730b33-1d05-405f-9bca-0c6dcaeb2da3"
      },
      "source": [
        "!kaggle datasets download -d alaix14/bitcoin-tweets-20160101-to-20190329\n"
      ],
      "execution_count": 6,
      "outputs": [
        {
          "output_type": "stream",
          "text": [
            "Downloading bitcoin-tweets-20160101-to-20190329.zip to /content\n",
            " 99% 1.57G/1.58G [00:12<00:00, 101MB/s]\n",
            "100% 1.58G/1.58G [00:12<00:00, 133MB/s]\n"
          ],
          "name": "stdout"
        }
      ]
    },
    {
      "cell_type": "code",
      "metadata": {
        "colab": {
          "base_uri": "https://localhost:8080/"
        },
        "id": "frxMw54hAzJF",
        "outputId": "d7489623-e984-4e27-ab79-46afb8a332e3"
      },
      "source": [
        "\n",
        "from zipfile import ZipFile\n",
        "\n",
        "file_name = \"bitcoin-tweets-20160101-to-20190329.zip\"\n",
        "\n",
        "with ZipFile(file_name, \"r\") as zip:\n",
        "  zip.extractall()\n",
        "  print(\"done\")"
      ],
      "execution_count": 7,
      "outputs": [
        {
          "output_type": "stream",
          "text": [
            "done\n"
          ],
          "name": "stdout"
        }
      ]
    },
    {
      "cell_type": "code",
      "metadata": {
        "id": "l5sD1vTrFlHt"
      },
      "source": [
        "import pandas as pd\n",
        "df = pd.read_csv('tweets.csv', sep=';',nrows=20000)"
      ],
      "execution_count": 8,
      "outputs": []
    },
    {
      "cell_type": "code",
      "metadata": {
        "colab": {
          "base_uri": "https://localhost:8080/"
        },
        "id": "i9sDbi-WFtOT",
        "outputId": "dbfc008d-67d1-4630-e0e5-910be83b2af7"
      },
      "source": [
        "#predit the language to filter for English \n",
        "!pip install whatthelang\n",
        "from whatthelang import WhatTheLang\n",
        "\n",
        "wtl = WhatTheLang()\n",
        "L=[]\n",
        "for row in df['text']:\n",
        "    if len(row)!=0:\n",
        "        L.append(wtl.predict_lang(row))\n",
        "    else:\n",
        "        L.append(None)\n",
        "        \n",
        "df['lang'] = L\n",
        "df.head()\n",
        "df = df[df[\"lang\"] == 'en']"
      ],
      "execution_count": 9,
      "outputs": [
        {
          "output_type": "stream",
          "text": [
            "Collecting whatthelang\n",
            "\u001b[?25l  Downloading https://files.pythonhosted.org/packages/8a/28/2abb6e71271e91eaf67fc2279f1abbae3a0200122c71fb1db518717909ae/whatthelang-1.0.1.tar.gz (786kB)\n",
            "\u001b[K     |████████████████████████████████| 788kB 5.1MB/s \n",
            "\u001b[?25hRequirement already satisfied: Cython in /usr/local/lib/python3.7/dist-packages (from whatthelang) (0.29.23)\n",
            "Collecting cysignals\n",
            "\u001b[?25l  Downloading https://files.pythonhosted.org/packages/c5/fc/0307a46e79ad4423975554438df12c3a0dd8b93f9aeeb3a6ca7b2c6595f1/cysignals-1.10.3.tar.gz (455kB)\n",
            "\u001b[K     |████████████████████████████████| 460kB 14.9MB/s \n",
            "\u001b[?25hCollecting pyfasttext\n",
            "\u001b[?25l  Downloading https://files.pythonhosted.org/packages/f5/ef/90606442481d1e4ab10eba8c2b2c449ceaa70c60e9b8d5898bb7504e3634/pyfasttext-0.4.6.tar.gz (244kB)\n",
            "\u001b[K     |████████████████████████████████| 245kB 17.8MB/s \n",
            "\u001b[?25hRequirement already satisfied: future in /usr/local/lib/python3.7/dist-packages (from pyfasttext->whatthelang) (0.16.0)\n",
            "Requirement already satisfied: numpy in /usr/local/lib/python3.7/dist-packages (from pyfasttext->whatthelang) (1.19.5)\n",
            "Building wheels for collected packages: whatthelang, cysignals, pyfasttext\n",
            "  Building wheel for whatthelang (setup.py) ... \u001b[?25l\u001b[?25hdone\n",
            "  Created wheel for whatthelang: filename=whatthelang-1.0.1-cp37-none-any.whl size=789821 sha256=c9f7a1c2eeb5236aee6b8f98a43c248f362300ed476d3e5a06f8a10810a470ca\n",
            "  Stored in directory: /root/.cache/pip/wheels/54/ec/de/379ea04fcc427c46fe3ecd21a5041875fcb41bbd81062abba5\n",
            "  Building wheel for cysignals (setup.py) ... \u001b[?25l\u001b[?25hdone\n",
            "  Created wheel for cysignals: filename=cysignals-1.10.3-cp37-cp37m-linux_x86_64.whl size=706042 sha256=755479240ff88b50111d0fd41987b26e698327e09a6cfcd922392268ba6007e8\n",
            "  Stored in directory: /root/.cache/pip/wheels/1d/de/c9/22c3a5adc6ff0dd19904d4cab0677410e53f4fdd42188ae123\n",
            "  Building wheel for pyfasttext (setup.py) ... \u001b[?25l\u001b[?25hdone\n",
            "  Created wheel for pyfasttext: filename=pyfasttext-0.4.6-cp37-cp37m-linux_x86_64.whl size=1460774 sha256=27b102d7c9f30cc501ddd093f6c97b173525d135d74fd3d23063393b687eef3d\n",
            "  Stored in directory: /root/.cache/pip/wheels/25/de/c6/3d26a304c069689a7bf5ef2cc774588663700c8381dbf3d947\n",
            "Successfully built whatthelang cysignals pyfasttext\n",
            "Installing collected packages: cysignals, pyfasttext, whatthelang\n",
            "Successfully installed cysignals-1.10.3 pyfasttext-0.4.6 whatthelang-1.0.1\n"
          ],
          "name": "stdout"
        }
      ]
    },
    {
      "cell_type": "code",
      "metadata": {
        "colab": {
          "resources": {
            "http://localhost:8080/nbextensions/google.colab/files.js": {
              "data": "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",
              "ok": true,
              "headers": [
                [
                  "content-type",
                  "application/javascript"
                ]
              ],
              "status": 200,
              "status_text": ""
            }
          },
          "base_uri": "https://localhost:8080/",
          "height": 72
        },
        "id": "F6VFuX_yG0kT",
        "outputId": "b45d9aa7-9476-459a-d3d4-701b7517c987"
      },
      "source": [
        "#upload files for Bitcoin trading\n",
        "\n",
        "uploaded = files.upload()"
      ],
      "execution_count": 10,
      "outputs": [
        {
          "output_type": "display_data",
          "data": {
            "text/html": [
              "\n",
              "     <input type=\"file\" id=\"files-9e7715b9-336a-41c0-a8b6-2f8d2e1bb5a4\" name=\"files[]\" multiple disabled\n",
              "        style=\"border:none\" />\n",
              "     <output id=\"result-9e7715b9-336a-41c0-a8b6-2f8d2e1bb5a4\">\n",
              "      Upload widget is only available when the cell has been executed in the\n",
              "      current browser session. Please rerun this cell to enable.\n",
              "      </output>\n",
              "      <script src=\"/nbextensions/google.colab/files.js\"></script> "
            ],
            "text/plain": [
              "<IPython.core.display.HTML object>"
            ]
          },
          "metadata": {
            "tags": []
          }
        },
        {
          "output_type": "stream",
          "text": [
            "Saving BTC_USD_2013-10-01_2021-07-02-CoinDesk.csv to BTC_USD_2013-10-01_2021-07-02-CoinDesk.csv\n"
          ],
          "name": "stdout"
        }
      ]
    },
    {
      "cell_type": "code",
      "metadata": {
        "id": "Om2LeMc0G9Ls",
        "colab": {
          "base_uri": "https://localhost:8080/",
          "height": 204
        },
        "outputId": "8422c1e6-edb1-459e-d662-41daface6c22"
      },
      "source": [
        "df_btc = pd.read_csv(\"BTC_USD_2013-10-01_2021-07-02-CoinDesk.csv\")\n",
        "df_btc.head()"
      ],
      "execution_count": 11,
      "outputs": [
        {
          "output_type": "execute_result",
          "data": {
            "text/html": [
              "<div>\n",
              "<style scoped>\n",
              "    .dataframe tbody tr th:only-of-type {\n",
              "        vertical-align: middle;\n",
              "    }\n",
              "\n",
              "    .dataframe tbody tr th {\n",
              "        vertical-align: top;\n",
              "    }\n",
              "\n",
              "    .dataframe thead th {\n",
              "        text-align: right;\n",
              "    }\n",
              "</style>\n",
              "<table border=\"1\" class=\"dataframe\">\n",
              "  <thead>\n",
              "    <tr style=\"text-align: right;\">\n",
              "      <th></th>\n",
              "      <th>Currency</th>\n",
              "      <th>Date</th>\n",
              "      <th>Closing Price (USD)</th>\n",
              "      <th>24h Open (USD)</th>\n",
              "      <th>24h High (USD)</th>\n",
              "      <th>24h Low (USD)</th>\n",
              "    </tr>\n",
              "  </thead>\n",
              "  <tbody>\n",
              "    <tr>\n",
              "      <th>0</th>\n",
              "      <td>BTC</td>\n",
              "      <td>2013-10-01</td>\n",
              "      <td>123.65499</td>\n",
              "      <td>124.30466</td>\n",
              "      <td>124.75166</td>\n",
              "      <td>122.56349</td>\n",
              "    </tr>\n",
              "    <tr>\n",
              "      <th>1</th>\n",
              "      <td>BTC</td>\n",
              "      <td>2013-10-02</td>\n",
              "      <td>125.45500</td>\n",
              "      <td>123.65499</td>\n",
              "      <td>125.75850</td>\n",
              "      <td>123.63383</td>\n",
              "    </tr>\n",
              "    <tr>\n",
              "      <th>2</th>\n",
              "      <td>BTC</td>\n",
              "      <td>2013-10-03</td>\n",
              "      <td>108.58483</td>\n",
              "      <td>125.45500</td>\n",
              "      <td>125.66566</td>\n",
              "      <td>83.32833</td>\n",
              "    </tr>\n",
              "    <tr>\n",
              "      <th>3</th>\n",
              "      <td>BTC</td>\n",
              "      <td>2013-10-04</td>\n",
              "      <td>118.67466</td>\n",
              "      <td>108.58483</td>\n",
              "      <td>118.67500</td>\n",
              "      <td>107.05816</td>\n",
              "    </tr>\n",
              "    <tr>\n",
              "      <th>4</th>\n",
              "      <td>BTC</td>\n",
              "      <td>2013-10-05</td>\n",
              "      <td>121.33866</td>\n",
              "      <td>118.67466</td>\n",
              "      <td>121.93633</td>\n",
              "      <td>118.00566</td>\n",
              "    </tr>\n",
              "  </tbody>\n",
              "</table>\n",
              "</div>"
            ],
            "text/plain": [
              "  Currency        Date  ...  24h High (USD)  24h Low (USD)\n",
              "0      BTC  2013-10-01  ...       124.75166      122.56349\n",
              "1      BTC  2013-10-02  ...       125.75850      123.63383\n",
              "2      BTC  2013-10-03  ...       125.66566       83.32833\n",
              "3      BTC  2013-10-04  ...       118.67500      107.05816\n",
              "4      BTC  2013-10-05  ...       121.93633      118.00566\n",
              "\n",
              "[5 rows x 6 columns]"
            ]
          },
          "metadata": {
            "tags": []
          },
          "execution_count": 11
        }
      ]
    },
    {
      "cell_type": "code",
      "metadata": {
        "id": "je1DxqORqkF0"
      },
      "source": [
        "df_btc[\"Date_Time\"]=pd.to_datetime(df_btc[\"Date\"], format='%Y%m%d', errors='ignore')"
      ],
      "execution_count": 12,
      "outputs": []
    },
    {
      "cell_type": "code",
      "metadata": {
        "colab": {
          "base_uri": "https://localhost:8080/",
          "height": 204
        },
        "id": "Vly4IKwmqk_9",
        "outputId": "363ef9d5-99df-43f1-b259-e2207c118058"
      },
      "source": [
        "df_btc['Date_Time']= pd.to_datetime(df_btc['Date'])\n",
        "df_btc.head()\n"
      ],
      "execution_count": 13,
      "outputs": [
        {
          "output_type": "execute_result",
          "data": {
            "text/html": [
              "<div>\n",
              "<style scoped>\n",
              "    .dataframe tbody tr th:only-of-type {\n",
              "        vertical-align: middle;\n",
              "    }\n",
              "\n",
              "    .dataframe tbody tr th {\n",
              "        vertical-align: top;\n",
              "    }\n",
              "\n",
              "    .dataframe thead th {\n",
              "        text-align: right;\n",
              "    }\n",
              "</style>\n",
              "<table border=\"1\" class=\"dataframe\">\n",
              "  <thead>\n",
              "    <tr style=\"text-align: right;\">\n",
              "      <th></th>\n",
              "      <th>Currency</th>\n",
              "      <th>Date</th>\n",
              "      <th>Closing Price (USD)</th>\n",
              "      <th>24h Open (USD)</th>\n",
              "      <th>24h High (USD)</th>\n",
              "      <th>24h Low (USD)</th>\n",
              "      <th>Date_Time</th>\n",
              "    </tr>\n",
              "  </thead>\n",
              "  <tbody>\n",
              "    <tr>\n",
              "      <th>0</th>\n",
              "      <td>BTC</td>\n",
              "      <td>2013-10-01</td>\n",
              "      <td>123.65499</td>\n",
              "      <td>124.30466</td>\n",
              "      <td>124.75166</td>\n",
              "      <td>122.56349</td>\n",
              "      <td>2013-10-01</td>\n",
              "    </tr>\n",
              "    <tr>\n",
              "      <th>1</th>\n",
              "      <td>BTC</td>\n",
              "      <td>2013-10-02</td>\n",
              "      <td>125.45500</td>\n",
              "      <td>123.65499</td>\n",
              "      <td>125.75850</td>\n",
              "      <td>123.63383</td>\n",
              "      <td>2013-10-02</td>\n",
              "    </tr>\n",
              "    <tr>\n",
              "      <th>2</th>\n",
              "      <td>BTC</td>\n",
              "      <td>2013-10-03</td>\n",
              "      <td>108.58483</td>\n",
              "      <td>125.45500</td>\n",
              "      <td>125.66566</td>\n",
              "      <td>83.32833</td>\n",
              "      <td>2013-10-03</td>\n",
              "    </tr>\n",
              "    <tr>\n",
              "      <th>3</th>\n",
              "      <td>BTC</td>\n",
              "      <td>2013-10-04</td>\n",
              "      <td>118.67466</td>\n",
              "      <td>108.58483</td>\n",
              "      <td>118.67500</td>\n",
              "      <td>107.05816</td>\n",
              "      <td>2013-10-04</td>\n",
              "    </tr>\n",
              "    <tr>\n",
              "      <th>4</th>\n",
              "      <td>BTC</td>\n",
              "      <td>2013-10-05</td>\n",
              "      <td>121.33866</td>\n",
              "      <td>118.67466</td>\n",
              "      <td>121.93633</td>\n",
              "      <td>118.00566</td>\n",
              "      <td>2013-10-05</td>\n",
              "    </tr>\n",
              "  </tbody>\n",
              "</table>\n",
              "</div>"
            ],
            "text/plain": [
              "  Currency        Date  ...  24h Low (USD)  Date_Time\n",
              "0      BTC  2013-10-01  ...      122.56349 2013-10-01\n",
              "1      BTC  2013-10-02  ...      123.63383 2013-10-02\n",
              "2      BTC  2013-10-03  ...       83.32833 2013-10-03\n",
              "3      BTC  2013-10-04  ...      107.05816 2013-10-04\n",
              "4      BTC  2013-10-05  ...      118.00566 2013-10-05\n",
              "\n",
              "[5 rows x 7 columns]"
            ]
          },
          "metadata": {
            "tags": []
          },
          "execution_count": 13
        }
      ]
    },
    {
      "cell_type": "code",
      "metadata": {
        "colab": {
          "base_uri": "https://localhost:8080/",
          "height": 289
        },
        "id": "sEg7AYk8s_MC",
        "outputId": "6db5fde8-291a-40f9-d5a4-14ffd42327f5"
      },
      "source": [
        "df['Date_Time']= pd.to_datetime(df['timestamp'], format='%Y-%m-%d')\n",
        "\n",
        "df['Date_Time']= pd.to_datetime(df['Date_Time']).dt.date\n",
        "df['Date_Time']= pd.to_datetime(df['Date_Time'])\n",
        "df.head()"
      ],
      "execution_count": 14,
      "outputs": [
        {
          "output_type": "execute_result",
          "data": {
            "text/html": [
              "<div>\n",
              "<style scoped>\n",
              "    .dataframe tbody tr th:only-of-type {\n",
              "        vertical-align: middle;\n",
              "    }\n",
              "\n",
              "    .dataframe tbody tr th {\n",
              "        vertical-align: top;\n",
              "    }\n",
              "\n",
              "    .dataframe thead th {\n",
              "        text-align: right;\n",
              "    }\n",
              "</style>\n",
              "<table border=\"1\" class=\"dataframe\">\n",
              "  <thead>\n",
              "    <tr style=\"text-align: right;\">\n",
              "      <th></th>\n",
              "      <th>id</th>\n",
              "      <th>user</th>\n",
              "      <th>fullname</th>\n",
              "      <th>url</th>\n",
              "      <th>timestamp</th>\n",
              "      <th>replies</th>\n",
              "      <th>likes</th>\n",
              "      <th>retweets</th>\n",
              "      <th>text</th>\n",
              "      <th>lang</th>\n",
              "      <th>Date_Time</th>\n",
              "    </tr>\n",
              "  </thead>\n",
              "  <tbody>\n",
              "    <tr>\n",
              "      <th>1</th>\n",
              "      <td>1132977073402736640</td>\n",
              "      <td>bitcointe</td>\n",
              "      <td>Bitcointe</td>\n",
              "      <td>NaN</td>\n",
              "      <td>2019-05-27 11:49:18+00</td>\n",
              "      <td>0</td>\n",
              "      <td>0</td>\n",
              "      <td>0</td>\n",
              "      <td>Cardano: Digitize Currencies; EOS https://t.co...</td>\n",
              "      <td>en</td>\n",
              "      <td>2019-05-27</td>\n",
              "    </tr>\n",
              "    <tr>\n",
              "      <th>2</th>\n",
              "      <td>1132977023893139456</td>\n",
              "      <td>3eyedbran</td>\n",
              "      <td>Bran - 3 Eyed Raven</td>\n",
              "      <td>NaN</td>\n",
              "      <td>2019-05-27 11:49:06+00</td>\n",
              "      <td>0</td>\n",
              "      <td>2</td>\n",
              "      <td>1</td>\n",
              "      <td>Another Test tweet that wasn't caught in the s...</td>\n",
              "      <td>en</td>\n",
              "      <td>2019-05-27</td>\n",
              "    </tr>\n",
              "    <tr>\n",
              "      <th>3</th>\n",
              "      <td>1132977089089556481</td>\n",
              "      <td>DetroitCrypto</td>\n",
              "      <td>J. Scardina</td>\n",
              "      <td>NaN</td>\n",
              "      <td>2019-05-27 11:49:22+00</td>\n",
              "      <td>0</td>\n",
              "      <td>0</td>\n",
              "      <td>0</td>\n",
              "      <td>Current Crypto Prices! \\n\\nBTC: $8721.99 USD\\n...</td>\n",
              "      <td>en</td>\n",
              "      <td>2019-05-27</td>\n",
              "    </tr>\n",
              "    <tr>\n",
              "      <th>4</th>\n",
              "      <td>1132977092340191232</td>\n",
              "      <td>mmursaleen72</td>\n",
              "      <td>Muhammad Mursaleen</td>\n",
              "      <td>NaN</td>\n",
              "      <td>2019-05-27 11:49:23+00</td>\n",
              "      <td>0</td>\n",
              "      <td>0</td>\n",
              "      <td>0</td>\n",
              "      <td>Spiv (Nosar Baz): BITCOIN Is An Asset &amp;amp; NO...</td>\n",
              "      <td>en</td>\n",
              "      <td>2019-05-27</td>\n",
              "    </tr>\n",
              "    <tr>\n",
              "      <th>6</th>\n",
              "      <td>1132977101638897665</td>\n",
              "      <td>evilrobotted</td>\n",
              "      <td>evilrobotted</td>\n",
              "      <td>NaN</td>\n",
              "      <td>2019-05-27 11:49:25+00</td>\n",
              "      <td>0</td>\n",
              "      <td>0</td>\n",
              "      <td>0</td>\n",
              "      <td>@nwoodfine We have been building on the real #...</td>\n",
              "      <td>en</td>\n",
              "      <td>2019-05-27</td>\n",
              "    </tr>\n",
              "  </tbody>\n",
              "</table>\n",
              "</div>"
            ],
            "text/plain": [
              "                    id           user  ... lang  Date_Time\n",
              "1  1132977073402736640      bitcointe  ...   en 2019-05-27\n",
              "2  1132977023893139456      3eyedbran  ...   en 2019-05-27\n",
              "3  1132977089089556481  DetroitCrypto  ...   en 2019-05-27\n",
              "4  1132977092340191232   mmursaleen72  ...   en 2019-05-27\n",
              "6  1132977101638897665   evilrobotted  ...   en 2019-05-27\n",
              "\n",
              "[5 rows x 11 columns]"
            ]
          },
          "metadata": {
            "tags": []
          },
          "execution_count": 14
        }
      ]
    },
    {
      "cell_type": "code",
      "metadata": {
        "colab": {
          "base_uri": "https://localhost:8080/",
          "height": 295
        },
        "id": "Xnv69ieE20wJ",
        "outputId": "43f8447b-73a9-4a91-c314-5c0b8befb68b"
      },
      "source": [
        "!pip install nltk\n",
        "!pip install re\n",
        "\n",
        "import nltk\n",
        "import re\n",
        "nltk.download(\"stopwords\")\n",
        "from nltk.corpus import stopwords\n",
        "\n",
        "def text_cleaning(text):\n",
        "    forbidden_words = set(stopwords.words('english'))\n",
        "    text = ' '.join(text.split('.'))\n",
        "    text = re.sub('\\/',' ',text)\n",
        "    text = text.strip('\\'\"')\n",
        "    text = re.sub(r'@([^\\s]+)',r'\\1',text)\n",
        "    text = re.sub(r'\\\\',' ',text)\n",
        "    text = text.lower()\n",
        "    text = re.sub('[\\s]+', ' ', text)\n",
        "    text = re.sub(r'#([^\\s]+)', r'\\1', text)\n",
        "    text = re.sub('((www\\.[^\\s]+)|(https?://[^\\s]+))',' ',text)\n",
        "    text = re.sub(r'((http)\\S+)','',text)\n",
        "    text = re.sub(r'\\s+', ' ', re.sub('[^A-Za-z]', ' ', text.strip().lower())).strip()\n",
        "    text = re.sub(r'\\W+', ' ', text.strip().lower()).strip()\n",
        "    text = [word for word in text.split() if word not in forbidden_words]\n",
        "    return ' '.join(text)\n",
        "\n",
        "df['text'] = df['text'].apply(lambda text: text_cleaning(text))\n",
        "df.sample(3)"
      ],
      "execution_count": 15,
      "outputs": [
        {
          "output_type": "stream",
          "text": [
            "Requirement already satisfied: nltk in /usr/local/lib/python3.7/dist-packages (3.2.5)\n",
            "Requirement already satisfied: six in /usr/local/lib/python3.7/dist-packages (from nltk) (1.15.0)\n",
            "\u001b[31mERROR: Could not find a version that satisfies the requirement re (from versions: none)\u001b[0m\n",
            "\u001b[31mERROR: No matching distribution found for re\u001b[0m\n",
            "[nltk_data] Downloading package stopwords to /root/nltk_data...\n",
            "[nltk_data]   Unzipping corpora/stopwords.zip.\n"
          ],
          "name": "stdout"
        },
        {
          "output_type": "execute_result",
          "data": {
            "text/html": [
              "<div>\n",
              "<style scoped>\n",
              "    .dataframe tbody tr th:only-of-type {\n",
              "        vertical-align: middle;\n",
              "    }\n",
              "\n",
              "    .dataframe tbody tr th {\n",
              "        vertical-align: top;\n",
              "    }\n",
              "\n",
              "    .dataframe thead th {\n",
              "        text-align: right;\n",
              "    }\n",
              "</style>\n",
              "<table border=\"1\" class=\"dataframe\">\n",
              "  <thead>\n",
              "    <tr style=\"text-align: right;\">\n",
              "      <th></th>\n",
              "      <th>id</th>\n",
              "      <th>user</th>\n",
              "      <th>fullname</th>\n",
              "      <th>url</th>\n",
              "      <th>timestamp</th>\n",
              "      <th>replies</th>\n",
              "      <th>likes</th>\n",
              "      <th>retweets</th>\n",
              "      <th>text</th>\n",
              "      <th>lang</th>\n",
              "      <th>Date_Time</th>\n",
              "    </tr>\n",
              "  </thead>\n",
              "  <tbody>\n",
              "    <tr>\n",
              "      <th>10058</th>\n",
              "      <td>1126846443568947201</td>\n",
              "      <td>Social_Tweetx</td>\n",
              "      <td>Shair Afzal</td>\n",
              "      <td>NaN</td>\n",
              "      <td>2019-05-10 11:48:22+00</td>\n",
              "      <td>0</td>\n",
              "      <td>0</td>\n",
              "      <td>0</td>\n",
              "      <td>earn crypto token listening music join cyfm co...</td>\n",
              "      <td>en</td>\n",
              "      <td>2019-05-10</td>\n",
              "    </tr>\n",
              "    <tr>\n",
              "      <th>16592</th>\n",
              "      <td>1126871300973178882</td>\n",
              "      <td>mfoupouendoun</td>\n",
              "      <td>MFOUPOUENDOUN JERMIE</td>\n",
              "      <td>NaN</td>\n",
              "      <td>2019-05-10 13:27:09+00</td>\n",
              "      <td>0</td>\n",
              "      <td>0</td>\n",
              "      <td>0</td>\n",
              "      <td>bitcoin black v bitcoin get free coins value c...</td>\n",
              "      <td>en</td>\n",
              "      <td>2019-05-10</td>\n",
              "    </tr>\n",
              "    <tr>\n",
              "      <th>19251</th>\n",
              "      <td>1126880453036843008</td>\n",
              "      <td>jamesburrell2</td>\n",
              "      <td>James Burrell II 🔑</td>\n",
              "      <td>NaN</td>\n",
              "      <td>2019-05-10 17:21:32+00</td>\n",
              "      <td>0</td>\n",
              "      <td>2</td>\n",
              "      <td>1</td>\n",
              "      <td>bitcoindood dummies worried bitcoin worried ch...</td>\n",
              "      <td>en</td>\n",
              "      <td>2019-05-10</td>\n",
              "    </tr>\n",
              "  </tbody>\n",
              "</table>\n",
              "</div>"
            ],
            "text/plain": [
              "                        id           user  ... lang  Date_Time\n",
              "10058  1126846443568947201  Social_Tweetx  ...   en 2019-05-10\n",
              "16592  1126871300973178882  mfoupouendoun  ...   en 2019-05-10\n",
              "19251  1126880453036843008  jamesburrell2  ...   en 2019-05-10\n",
              "\n",
              "[3 rows x 11 columns]"
            ]
          },
          "metadata": {
            "tags": []
          },
          "execution_count": 15
        }
      ]
    },
    {
      "cell_type": "code",
      "metadata": {
        "id": "HlnjzCS54SoX"
      },
      "source": [
        "df_j = pd.merge(df, df_btc, how='left', on = 'Date_Time')"
      ],
      "execution_count": 16,
      "outputs": []
    },
    {
      "cell_type": "code",
      "metadata": {
        "colab": {
          "base_uri": "https://localhost:8080/",
          "height": 283
        },
        "id": "o1dwao0v_8iz",
        "outputId": "041d4b70-bcbb-48b3-98a7-e2ba4291ecde"
      },
      "source": [
        "# all the words wordcloud\n",
        "!pip install wordcloud\n",
        "from wordcloud import WordCloud\n",
        "allTheWords=\" \".join( [twts for twts in df_j['text']])\n",
        "wordCloud =WordCloud(width = 500, height = 300 , random_state = 21, max_font_size = 119).generate(allTheWords)\n",
        "plt.imshow(wordCloud , interpolation= 'bilinear')\n",
        "plt.axis('off')\n",
        "plt.show()"
      ],
      "execution_count": 17,
      "outputs": [
        {
          "output_type": "stream",
          "text": [
            "Requirement already satisfied: wordcloud in /usr/local/lib/python3.7/dist-packages (1.5.0)\n",
            "Requirement already satisfied: pillow in /usr/local/lib/python3.7/dist-packages (from wordcloud) (7.1.2)\n",
            "Requirement already satisfied: numpy>=1.6.1 in /usr/local/lib/python3.7/dist-packages (from wordcloud) (1.19.5)\n"
          ],
          "name": "stdout"
        },
        {
          "output_type": "display_data",
          "data": {
            "image/png": "[encoded data removed]",
            "text/plain": [
              "<Figure size 432x288 with 1 Axes>"
            ]
          },
          "metadata": {
            "tags": [],
            "needs_background": "light"
          }
        }
      ]
    },
    {
      "cell_type": "code",
      "metadata": {
        "colab": {
          "base_uri": "https://localhost:8080/",
          "height": 974
        },
        "id": "bHe8u131AKkC",
        "outputId": "b570413c-316c-4196-ad09-0a1d008d8785"
      },
      "source": [
        "from textblob import TextBlob\n",
        "\n",
        "def getPolarity(txt):\n",
        "    return TextBlob(txt).sentiment.polarity\n",
        "\n",
        "def getSubjectivity(txt):\n",
        "    return TextBlob(txt).sentiment.subjectivity\n",
        "\n",
        "\n",
        "df_j['polarity'] = df_j['text'].apply(lambda txt: getPolarity(txt))      # new column of sentiment\n",
        "df_j['Subjectivity'] = df_j['text'].apply(lambda txt: getSubjectivity(txt))  \n",
        "\n",
        "df_j.sample(10)"
      ],
      "execution_count": 18,
      "outputs": [
        {
          "output_type": "execute_result",
          "data": {
            "text/html": [
              "<div>\n",
              "<style scoped>\n",
              "    .dataframe tbody tr th:only-of-type {\n",
              "        vertical-align: middle;\n",
              "    }\n",
              "\n",
              "    .dataframe tbody tr th {\n",
              "        vertical-align: top;\n",
              "    }\n",
              "\n",
              "    .dataframe thead th {\n",
              "        text-align: right;\n",
              "    }\n",
              "</style>\n",
              "<table border=\"1\" class=\"dataframe\">\n",
              "  <thead>\n",
              "    <tr style=\"text-align: right;\">\n",
              "      <th></th>\n",
              "      <th>id</th>\n",
              "      <th>user</th>\n",
              "      <th>fullname</th>\n",
              "      <th>url</th>\n",
              "      <th>timestamp</th>\n",
              "      <th>replies</th>\n",
              "      <th>likes</th>\n",
              "      <th>retweets</th>\n",
              "      <th>text</th>\n",
              "      <th>lang</th>\n",
              "      <th>Date_Time</th>\n",
              "      <th>Currency</th>\n",
              "      <th>Date</th>\n",
              "      <th>Closing Price (USD)</th>\n",
              "      <th>24h Open (USD)</th>\n",
              "      <th>24h High (USD)</th>\n",
              "      <th>24h Low (USD)</th>\n",
              "      <th>polarity</th>\n",
              "      <th>Subjectivity</th>\n",
              "    </tr>\n",
              "  </thead>\n",
              "  <tbody>\n",
              "    <tr>\n",
              "      <th>7215</th>\n",
              "      <td>1126843289284554752</td>\n",
              "      <td>echarkov</td>\n",
              "      <td>eugene charkov</td>\n",
              "      <td>NaN</td>\n",
              "      <td>2019-05-10 11:35:50+00</td>\n",
              "      <td>0</td>\n",
              "      <td>0</td>\n",
              "      <td>0</td>\n",
              "      <td>spx ndx es f tsla btc qqq resistance es stays ...</td>\n",
              "      <td>en</td>\n",
              "      <td>2019-05-10</td>\n",
              "      <td>BTC</td>\n",
              "      <td>2019-05-10</td>\n",
              "      <td>6387.829450</td>\n",
              "      <td>6159.689544</td>\n",
              "      <td>6426.831207</td>\n",
              "      <td>6098.157976</td>\n",
              "      <td>0.0000</td>\n",
              "      <td>0.000</td>\n",
              "    </tr>\n",
              "    <tr>\n",
              "      <th>7300</th>\n",
              "      <td>1126843705359568896</td>\n",
              "      <td>MRZ1W3le6361</td>\n",
              "      <td>NEHİR İLİK</td>\n",
              "      <td>NaN</td>\n",
              "      <td>2019-05-10 11:37:29+00</td>\n",
              "      <td>0</td>\n",
              "      <td>0</td>\n",
              "      <td>0</td>\n",
              "      <td>xblock blockchain crypto ether ethereum bitcoi...</td>\n",
              "      <td>en</td>\n",
              "      <td>2019-05-10</td>\n",
              "      <td>BTC</td>\n",
              "      <td>2019-05-10</td>\n",
              "      <td>6387.829450</td>\n",
              "      <td>6159.689544</td>\n",
              "      <td>6426.831207</td>\n",
              "      <td>6098.157976</td>\n",
              "      <td>0.0000</td>\n",
              "      <td>0.000</td>\n",
              "    </tr>\n",
              "    <tr>\n",
              "      <th>1242</th>\n",
              "      <td>1132981279702568961</td>\n",
              "      <td>DanyaLukov</td>\n",
              "      <td>Даниил Луков</td>\n",
              "      <td>NaN</td>\n",
              "      <td>2019-05-27 12:06:01+00</td>\n",
              "      <td>0</td>\n",
              "      <td>0</td>\n",
              "      <td>0</td>\n",
              "      <td>bulletin en looks like btc starting grow found...</td>\n",
              "      <td>en</td>\n",
              "      <td>2019-05-27</td>\n",
              "      <td>BTC</td>\n",
              "      <td>2019-05-27</td>\n",
              "      <td>8800.346606</td>\n",
              "      <td>8653.151802</td>\n",
              "      <td>8937.246491</td>\n",
              "      <td>8621.572192</td>\n",
              "      <td>0.2000</td>\n",
              "      <td>0.450</td>\n",
              "    </tr>\n",
              "    <tr>\n",
              "      <th>13489</th>\n",
              "      <td>1126872046497984512</td>\n",
              "      <td>BitcoinEdu</td>\n",
              "      <td>Bitcoin EDU</td>\n",
              "      <td>NaN</td>\n",
              "      <td>2019-05-10 13:30:06+00</td>\n",
              "      <td>0</td>\n",
              "      <td>0</td>\n",
              "      <td>0</td>\n",
              "      <td>emergent market businesses bitcoin world finan...</td>\n",
              "      <td>en</td>\n",
              "      <td>2019-05-10</td>\n",
              "      <td>BTC</td>\n",
              "      <td>2019-05-10</td>\n",
              "      <td>6387.829450</td>\n",
              "      <td>6159.689544</td>\n",
              "      <td>6426.831207</td>\n",
              "      <td>6098.157976</td>\n",
              "      <td>0.0000</td>\n",
              "      <td>0.000</td>\n",
              "    </tr>\n",
              "    <tr>\n",
              "      <th>7876</th>\n",
              "      <td>1126618635345252352</td>\n",
              "      <td>1980SteveH36</td>\n",
              "      <td>S1980⚡️</td>\n",
              "      <td>NaN</td>\n",
              "      <td>2019-05-11 13:00:55+00</td>\n",
              "      <td>8</td>\n",
              "      <td>70</td>\n",
              "      <td>9</td>\n",
              "      <td>people fomo xrp btc financial advise warned bi...</td>\n",
              "      <td>en</td>\n",
              "      <td>2019-05-11</td>\n",
              "      <td>BTC</td>\n",
              "      <td>2019-05-11</td>\n",
              "      <td>7254.805536</td>\n",
              "      <td>6347.706737</td>\n",
              "      <td>7337.322181</td>\n",
              "      <td>6346.331889</td>\n",
              "      <td>0.0000</td>\n",
              "      <td>0.000</td>\n",
              "    </tr>\n",
              "    <tr>\n",
              "      <th>10672</th>\n",
              "      <td>1126859790863351808</td>\n",
              "      <td>Adrian_Xt</td>\n",
              "      <td>Adrian X</td>\n",
              "      <td>NaN</td>\n",
              "      <td>2019-05-10 12:41:24+00</td>\n",
              "      <td>0</td>\n",
              "      <td>0</td>\n",
              "      <td>0</td>\n",
              "      <td>arminvanbitcoin zbingledack mskieller madinmel...</td>\n",
              "      <td>en</td>\n",
              "      <td>2019-05-10</td>\n",
              "      <td>BTC</td>\n",
              "      <td>2019-05-10</td>\n",
              "      <td>6387.829450</td>\n",
              "      <td>6159.689544</td>\n",
              "      <td>6426.831207</td>\n",
              "      <td>6098.157976</td>\n",
              "      <td>0.1125</td>\n",
              "      <td>0.525</td>\n",
              "    </tr>\n",
              "    <tr>\n",
              "      <th>13131</th>\n",
              "      <td>1126651569661972482</td>\n",
              "      <td>gurugarzah</td>\n",
              "      <td>Guru^garzaH</td>\n",
              "      <td>NaN</td>\n",
              "      <td>2019-05-10 13:25:45+00</td>\n",
              "      <td>0</td>\n",
              "      <td>18</td>\n",
              "      <td>7</td>\n",
              "      <td>thecryptodog brad sherman bitcoin guys pajamas...</td>\n",
              "      <td>en</td>\n",
              "      <td>2019-05-10</td>\n",
              "      <td>BTC</td>\n",
              "      <td>2019-05-10</td>\n",
              "      <td>6387.829450</td>\n",
              "      <td>6159.689544</td>\n",
              "      <td>6426.831207</td>\n",
              "      <td>6098.157976</td>\n",
              "      <td>0.3750</td>\n",
              "      <td>0.750</td>\n",
              "    </tr>\n",
              "    <tr>\n",
              "      <th>224</th>\n",
              "      <td>1132977917133295616</td>\n",
              "      <td>coinspectator</td>\n",
              "      <td>Coin Spectator - Real-time cryptocurrency news</td>\n",
              "      <td>NaN</td>\n",
              "      <td>2019-05-27 11:52:39+00</td>\n",
              "      <td>0</td>\n",
              "      <td>0</td>\n",
              "      <td>0</td>\n",
              "      <td>situation complicates cryptopia arizona demand...</td>\n",
              "      <td>en</td>\n",
              "      <td>2019-05-27</td>\n",
              "      <td>BTC</td>\n",
              "      <td>2019-05-27</td>\n",
              "      <td>8800.346606</td>\n",
              "      <td>8653.151802</td>\n",
              "      <td>8937.246491</td>\n",
              "      <td>8621.572192</td>\n",
              "      <td>0.0000</td>\n",
              "      <td>0.000</td>\n",
              "    </tr>\n",
              "    <tr>\n",
              "      <th>13872</th>\n",
              "      <td>1126874420776095744</td>\n",
              "      <td>kayaponpon</td>\n",
              "      <td>kapo</td>\n",
              "      <td>NaN</td>\n",
              "      <td>2019-05-10 13:39:32+00</td>\n",
              "      <td>0</td>\n",
              "      <td>0</td>\n",
              "      <td>0</td>\n",
              "      <td>want buy bitcoin account current price send dm...</td>\n",
              "      <td>en</td>\n",
              "      <td>2019-05-10</td>\n",
              "      <td>BTC</td>\n",
              "      <td>2019-05-10</td>\n",
              "      <td>6387.829450</td>\n",
              "      <td>6159.689544</td>\n",
              "      <td>6426.831207</td>\n",
              "      <td>6098.157976</td>\n",
              "      <td>0.0000</td>\n",
              "      <td>0.400</td>\n",
              "    </tr>\n",
              "    <tr>\n",
              "      <th>4299</th>\n",
              "      <td>1126830255010828288</td>\n",
              "      <td>Criptomonedaico</td>\n",
              "      <td>Criptomonedaseico</td>\n",
              "      <td>NaN</td>\n",
              "      <td>2019-05-10 10:44:02+00</td>\n",
              "      <td>0</td>\n",
              "      <td>0</td>\n",
              "      <td>0</td>\n",
              "      <td>millones binance crooks shuffle carteras crypt...</td>\n",
              "      <td>en</td>\n",
              "      <td>2019-05-10</td>\n",
              "      <td>BTC</td>\n",
              "      <td>2019-05-10</td>\n",
              "      <td>6387.829450</td>\n",
              "      <td>6159.689544</td>\n",
              "      <td>6426.831207</td>\n",
              "      <td>6098.157976</td>\n",
              "      <td>0.0000</td>\n",
              "      <td>0.000</td>\n",
              "    </tr>\n",
              "  </tbody>\n",
              "</table>\n",
              "</div>"
            ],
            "text/plain": [
              "                        id             user  ... polarity Subjectivity\n",
              "7215   1126843289284554752         echarkov  ...   0.0000        0.000\n",
              "7300   1126843705359568896     MRZ1W3le6361  ...   0.0000        0.000\n",
              "1242   1132981279702568961       DanyaLukov  ...   0.2000        0.450\n",
              "13489  1126872046497984512       BitcoinEdu  ...   0.0000        0.000\n",
              "7876   1126618635345252352     1980SteveH36  ...   0.0000        0.000\n",
              "10672  1126859790863351808        Adrian_Xt  ...   0.1125        0.525\n",
              "13131  1126651569661972482       gurugarzah  ...   0.3750        0.750\n",
              "224    1132977917133295616    coinspectator  ...   0.0000        0.000\n",
              "13872  1126874420776095744       kayaponpon  ...   0.0000        0.400\n",
              "4299   1126830255010828288  Criptomonedaico  ...   0.0000        0.000\n",
              "\n",
              "[10 rows x 19 columns]"
            ]
          },
          "metadata": {
            "tags": []
          },
          "execution_count": 18
        }
      ]
    },
    {
      "cell_type": "code",
      "metadata": {
        "colab": {
          "base_uri": "https://localhost:8080/",
          "height": 279
        },
        "id": "JgCTMZ4xzDLL",
        "outputId": "c73516a0-6af1-4793-d048-529bf03bf7fc"
      },
      "source": [
        "import matplotlib.pyplot as plt\n",
        "import numpy as np\n",
        "%matplotlib inline\n",
        "\n",
        "np.random.seed(42)\n",
        "x = np.random.normal(size=1000)\n",
        "\n",
        "plt.hist(df_j['polarity'], density=True, bins=300)  # density=False would make counts\n",
        "plt.ylabel('Probability')\n",
        "plt.xlabel('Data');\n"
      ],
      "execution_count": 19,
      "outputs": [
        {
          "output_type": "display_data",
          "data": {
            "image/png": "[encoded data removed]",
            "text/plain": [
              "<Figure size 432x288 with 1 Axes>"
            ]
          },
          "metadata": {
            "tags": [],
            "needs_background": "light"
          }
        }
      ]
    },
    {
      "cell_type": "code",
      "metadata": {
        "colab": {
          "base_uri": "https://localhost:8080/",
          "height": 279
        },
        "id": "VDN8ZLPD0rbl",
        "outputId": "069628df-99da-4dce-e84a-fa94eff1f2d8"
      },
      "source": [
        "import matplotlib.pyplot as plt\n",
        "import numpy as np\n",
        "%matplotlib inline\n",
        "\n",
        "np.random.seed(42)\n",
        "x = np.random.normal(size=1000)\n",
        "\n",
        "plt.hist(df_j['Subjectivity'], density=True, bins=300)  # density=False would make counts\n",
        "plt.ylabel('Probability')\n",
        "plt.xlabel('Data');\n"
      ],
      "execution_count": 20,
      "outputs": [
        {
          "output_type": "display_data",
          "data": {
            "image/png": "[encoded data removed]",
            "text/plain": [
              "<Figure size 432x288 with 1 Axes>"
            ]
          },
          "metadata": {
            "tags": [],
            "needs_background": "light"
          }
        }
      ]
    },
    {
      "cell_type": "code",
      "metadata": {
        "id": "mE4EJUfPz_TF"
      },
      "source": [
        "\n",
        "# Bucket the score \n",
        "\n",
        "def getAnalysis(Score):\n",
        "  if Score < 0 :\n",
        "    return \"Negative\"\n",
        "  elif Score >0:\n",
        "    return \"Positive\"\n",
        "  else:\n",
        "     return \"Neutral\"\n",
        "\n",
        "df_j[\"polarity_bkt \"] = df_j[\"polarity\"].apply(getAnalysis)\n"
      ],
      "execution_count": 21,
      "outputs": []
    },
    {
      "cell_type": "code",
      "metadata": {
        "colab": {
          "base_uri": "https://localhost:8080/"
        },
        "id": "gOZNrk5C1417",
        "outputId": "21a2a335-694c-49dd-debf-1c26f87dfb87"
      },
      "source": [
        "Index(['id', 'user', 'fullname', 'url', 'timestamp', 'replies', 'likes',\n",
        "       'retweets', 'text', 'lang', 'Date_Time', 'Currency', 'Date',\n",
        "       'Closing Price (USD)', '24h Open (USD)', '24h High (USD)',\n",
        "       '24h Low (USD)', 'polarity', 'Subjectivity', 'polarity_bkt '],\n",
        "      dtype='object')"
      ],
      "execution_count": 23,
      "outputs": [
        {
          "output_type": "execute_result",
          "data": {
            "text/plain": [
              "Index(['id', 'user', 'fullname', 'url', 'timestamp', 'replies', 'likes',\n",
              "       'retweets', 'text', 'lang', 'Date_Time', 'Currency', 'Date',\n",
              "       'Closing Price (USD)', '24h Open (USD)', '24h High (USD)',\n",
              "       '24h Low (USD)', 'polarity', 'Subjectivity', 'polarity_bkt '],\n",
              "      dtype='object')"
            ]
          },
          "metadata": {
            "tags": []
          },
          "execution_count": 23
        }
      ]
    },
    {
      "cell_type": "code",
      "metadata": {
        "colab": {
          "base_uri": "https://localhost:8080/",
          "height": 666
        },
        "id": "3mdUA-TrrtdZ",
        "outputId": "3e108cce-fd6f-421b-908b-af552cc6ef02"
      },
      "source": [
        "df_j[\"PercentageChange\"]= (df_j['Closing Price (USD)']- df_j['24h Open (USD)'] )*100/df_j['24h Open (USD)'] \n",
        "\n",
        "\n",
        "df_j.head()\n"
      ],
      "execution_count": 29,
      "outputs": [
        {
          "output_type": "execute_result",
          "data": {
            "text/html": [
              "<div>\n",
              "<style scoped>\n",
              "    .dataframe tbody tr th:only-of-type {\n",
              "        vertical-align: middle;\n",
              "    }\n",
              "\n",
              "    .dataframe tbody tr th {\n",
              "        vertical-align: top;\n",
              "    }\n",
              "\n",
              "    .dataframe thead th {\n",
              "        text-align: right;\n",
              "    }\n",
              "</style>\n",
              "<table border=\"1\" class=\"dataframe\">\n",
              "  <thead>\n",
              "    <tr style=\"text-align: right;\">\n",
              "      <th></th>\n",
              "      <th>id</th>\n",
              "      <th>user</th>\n",
              "      <th>fullname</th>\n",
              "      <th>url</th>\n",
              "      <th>timestamp</th>\n",
              "      <th>replies</th>\n",
              "      <th>likes</th>\n",
              "      <th>retweets</th>\n",
              "      <th>text</th>\n",
              "      <th>lang</th>\n",
              "      <th>Date_Time</th>\n",
              "      <th>Currency</th>\n",
              "      <th>Date</th>\n",
              "      <th>Closing Price (USD)</th>\n",
              "      <th>24h Open (USD)</th>\n",
              "      <th>24h High (USD)</th>\n",
              "      <th>24h Low (USD)</th>\n",
              "      <th>polarity</th>\n",
              "      <th>Subjectivity</th>\n",
              "      <th>polarity_bkt</th>\n",
              "      <th>PercentageChange</th>\n",
              "    </tr>\n",
              "  </thead>\n",
              "  <tbody>\n",
              "    <tr>\n",
              "      <th>0</th>\n",
              "      <td>1132977073402736640</td>\n",
              "      <td>bitcointe</td>\n",
              "      <td>Bitcointe</td>\n",
              "      <td>NaN</td>\n",
              "      <td>2019-05-27 11:49:18+00</td>\n",
              "      <td>0</td>\n",
              "      <td>0</td>\n",
              "      <td>0</td>\n",
              "      <td>cardano digitize currencies eos co ktkqkebls r...</td>\n",
              "      <td>en</td>\n",
              "      <td>2019-05-27</td>\n",
              "      <td>BTC</td>\n",
              "      <td>2019-05-27</td>\n",
              "      <td>8800.346606</td>\n",
              "      <td>8653.151802</td>\n",
              "      <td>8937.246491</td>\n",
              "      <td>8621.572192</td>\n",
              "      <td>0.0</td>\n",
              "      <td>0.00</td>\n",
              "      <td>Neutral</td>\n",
              "      <td>1.701054</td>\n",
              "    </tr>\n",
              "    <tr>\n",
              "      <th>1</th>\n",
              "      <td>1132977023893139456</td>\n",
              "      <td>3eyedbran</td>\n",
              "      <td>Bran - 3 Eyed Raven</td>\n",
              "      <td>NaN</td>\n",
              "      <td>2019-05-27 11:49:06+00</td>\n",
              "      <td>0</td>\n",
              "      <td>2</td>\n",
              "      <td>1</td>\n",
              "      <td>another test tweet caught stream bitcoin</td>\n",
              "      <td>en</td>\n",
              "      <td>2019-05-27</td>\n",
              "      <td>BTC</td>\n",
              "      <td>2019-05-27</td>\n",
              "      <td>8800.346606</td>\n",
              "      <td>8653.151802</td>\n",
              "      <td>8937.246491</td>\n",
              "      <td>8621.572192</td>\n",
              "      <td>0.0</td>\n",
              "      <td>0.00</td>\n",
              "      <td>Neutral</td>\n",
              "      <td>1.701054</td>\n",
              "    </tr>\n",
              "    <tr>\n",
              "      <th>2</th>\n",
              "      <td>1132977089089556481</td>\n",
              "      <td>DetroitCrypto</td>\n",
              "      <td>J. Scardina</td>\n",
              "      <td>NaN</td>\n",
              "      <td>2019-05-27 11:49:22+00</td>\n",
              "      <td>0</td>\n",
              "      <td>0</td>\n",
              "      <td>0</td>\n",
              "      <td>current crypto prices btc usd eth usd ltc usd ...</td>\n",
              "      <td>en</td>\n",
              "      <td>2019-05-27</td>\n",
              "      <td>BTC</td>\n",
              "      <td>2019-05-27</td>\n",
              "      <td>8800.346606</td>\n",
              "      <td>8653.151802</td>\n",
              "      <td>8937.246491</td>\n",
              "      <td>8621.572192</td>\n",
              "      <td>0.0</td>\n",
              "      <td>0.40</td>\n",
              "      <td>Neutral</td>\n",
              "      <td>1.701054</td>\n",
              "    </tr>\n",
              "    <tr>\n",
              "      <th>3</th>\n",
              "      <td>1132977092340191232</td>\n",
              "      <td>mmursaleen72</td>\n",
              "      <td>Muhammad Mursaleen</td>\n",
              "      <td>NaN</td>\n",
              "      <td>2019-05-27 11:49:23+00</td>\n",
              "      <td>0</td>\n",
              "      <td>0</td>\n",
              "      <td>0</td>\n",
              "      <td>spiv nosar baz bitcoin asset amp currency co f...</td>\n",
              "      <td>en</td>\n",
              "      <td>2019-05-27</td>\n",
              "      <td>BTC</td>\n",
              "      <td>2019-05-27</td>\n",
              "      <td>8800.346606</td>\n",
              "      <td>8653.151802</td>\n",
              "      <td>8937.246491</td>\n",
              "      <td>8621.572192</td>\n",
              "      <td>0.0</td>\n",
              "      <td>0.00</td>\n",
              "      <td>Neutral</td>\n",
              "      <td>1.701054</td>\n",
              "    </tr>\n",
              "    <tr>\n",
              "      <th>4</th>\n",
              "      <td>1132977101638897665</td>\n",
              "      <td>evilrobotted</td>\n",
              "      <td>evilrobotted</td>\n",
              "      <td>NaN</td>\n",
              "      <td>2019-05-27 11:49:25+00</td>\n",
              "      <td>0</td>\n",
              "      <td>0</td>\n",
              "      <td>0</td>\n",
              "      <td>nwoodfine building real bitcoin sv building br...</td>\n",
              "      <td>en</td>\n",
              "      <td>2019-05-27</td>\n",
              "      <td>BTC</td>\n",
              "      <td>2019-05-27</td>\n",
              "      <td>8800.346606</td>\n",
              "      <td>8653.151802</td>\n",
              "      <td>8937.246491</td>\n",
              "      <td>8621.572192</td>\n",
              "      <td>-0.1</td>\n",
              "      <td>0.35</td>\n",
              "      <td>Negative</td>\n",
              "      <td>1.701054</td>\n",
              "    </tr>\n",
              "  </tbody>\n",
              "</table>\n",
              "</div>"
            ],
            "text/plain": [
              "                    id           user  ... polarity_bkt  PercentageChange\n",
              "0  1132977073402736640      bitcointe  ...       Neutral         1.701054\n",
              "1  1132977023893139456      3eyedbran  ...       Neutral         1.701054\n",
              "2  1132977089089556481  DetroitCrypto  ...       Neutral         1.701054\n",
              "3  1132977092340191232   mmursaleen72  ...       Neutral         1.701054\n",
              "4  1132977101638897665   evilrobotted  ...      Negative         1.701054\n",
              "\n",
              "[5 rows x 21 columns]"
            ]
          },
          "metadata": {
            "tags": []
          },
          "execution_count": 29
        }
      ]
    },
    {
      "cell_type": "code",
      "metadata": {
        "colab": {
          "base_uri": "https://localhost:8080/"
        },
        "id": "SeUDLxH3BdsC",
        "outputId": "a05c6b6d-47ea-4be4-f8f2-c0236c5566d4"
      },
      "source": [
        "from numpy.random import RandomState\n",
        "\n",
        "rng = RandomState()\n",
        "train_data = df_j.sample(frac=0.8, random_state=rng)\n",
        "test_data = df_j.loc[~df_j.index.isin(train_data.index)]"
      ],
      "execution_count": 61,
      "outputs": [
        {
          "output_type": "stream",
          "text": [
            "La taille des données d entrinement: 12796\n",
            "La taille des données de test: 3199\n"
          ],
          "name": "stdout"
        }
      ]
    },
    {
      "cell_type": "code",
      "metadata": {
        "id": "Wi2VihRrDf9v"
      },
      "source": [
        "max_features = 20000  # Only consider the top 20k words\n",
        "maxlen = 200"
      ],
      "execution_count": 77,
      "outputs": []
    },
    {
      "cell_type": "code",
      "metadata": {
        "colab": {
          "base_uri": "https://localhost:8080/",
          "height": 855
        },
        "id": "vQcOw97BDiCv",
        "outputId": "e62d04bd-0b1c-4520-ee75-ed1c3dcd01a1"
      },
      "source": [
        "train_data['flag'] = 'TRAIN'\n",
        "test_data['flag'] = 'TEST'\n",
        "\n",
        "\n",
        "total_docs = pd.concat([train_data,test_data],axis = 0,ignore_index = True)\n",
        "phrases = total_docs['text'].tolist()\n",
        "\n",
        "total_docs.sample(10)"
      ],
      "execution_count": 66,
      "outputs": [
        {
          "output_type": "stream",
          "text": [
            "/usr/local/lib/python3.7/dist-packages/ipykernel_launcher.py:2: SettingWithCopyWarning: \n",
            "A value is trying to be set on a copy of a slice from a DataFrame.\n",
            "Try using .loc[row_indexer,col_indexer] = value instead\n",
            "\n",
            "See the caveats in the documentation: https://pandas.pydata.org/pandas-docs/stable/user_guide/indexing.html#returning-a-view-versus-a-copy\n",
            "  \n"
          ],
          "name": "stderr"
        },
        {
          "output_type": "execute_result",
          "data": {
            "text/html": [
              "<div>\n",
              "<style scoped>\n",
              "    .dataframe tbody tr th:only-of-type {\n",
              "        vertical-align: middle;\n",
              "    }\n",
              "\n",
              "    .dataframe tbody tr th {\n",
              "        vertical-align: top;\n",
              "    }\n",
              "\n",
              "    .dataframe thead th {\n",
              "        text-align: right;\n",
              "    }\n",
              "</style>\n",
              "<table border=\"1\" class=\"dataframe\">\n",
              "  <thead>\n",
              "    <tr style=\"text-align: right;\">\n",
              "      <th></th>\n",
              "      <th>id</th>\n",
              "      <th>user</th>\n",
              "      <th>fullname</th>\n",
              "      <th>url</th>\n",
              "      <th>timestamp</th>\n",
              "      <th>replies</th>\n",
              "      <th>likes</th>\n",
              "      <th>retweets</th>\n",
              "      <th>text</th>\n",
              "      <th>lang</th>\n",
              "      <th>Date_Time</th>\n",
              "      <th>Currency</th>\n",
              "      <th>Date</th>\n",
              "      <th>Closing Price (USD)</th>\n",
              "      <th>24h Open (USD)</th>\n",
              "      <th>24h High (USD)</th>\n",
              "      <th>24h Low (USD)</th>\n",
              "      <th>sentiment</th>\n",
              "      <th>flag</th>\n",
              "    </tr>\n",
              "  </thead>\n",
              "  <tbody>\n",
              "    <tr>\n",
              "      <th>5108</th>\n",
              "      <td>1126855830219845632</td>\n",
              "      <td>CharlieIsBig</td>\n",
              "      <td>Charlie Browner</td>\n",
              "      <td>NaN</td>\n",
              "      <td>2019-05-10 12:25:40+00</td>\n",
              "      <td>0</td>\n",
              "      <td>0</td>\n",
              "      <td>0</td>\n",
              "      <td>justinsuntron binance cz binance hero give btc...</td>\n",
              "      <td>en</td>\n",
              "      <td>2019-05-10</td>\n",
              "      <td>BTC</td>\n",
              "      <td>2019-05-10</td>\n",
              "      <td>6387.829450</td>\n",
              "      <td>6159.689544</td>\n",
              "      <td>6426.831207</td>\n",
              "      <td>6098.157976</td>\n",
              "      <td>0.500000</td>\n",
              "      <td>TRAIN</td>\n",
              "    </tr>\n",
              "    <tr>\n",
              "      <th>10734</th>\n",
              "      <td>1126861571899252738</td>\n",
              "      <td>wanderingsadhak</td>\n",
              "      <td>the wandering sadhaka</td>\n",
              "      <td>NaN</td>\n",
              "      <td>2019-05-10 12:48:29+00</td>\n",
              "      <td>0</td>\n",
              "      <td>0</td>\n",
              "      <td>0</td>\n",
              "      <td>possible ban btc bitcoin congress rep sherman ...</td>\n",
              "      <td>en</td>\n",
              "      <td>2019-05-10</td>\n",
              "      <td>BTC</td>\n",
              "      <td>2019-05-10</td>\n",
              "      <td>6387.829450</td>\n",
              "      <td>6159.689544</td>\n",
              "      <td>6426.831207</td>\n",
              "      <td>6098.157976</td>\n",
              "      <td>-0.050000</td>\n",
              "      <td>TRAIN</td>\n",
              "    </tr>\n",
              "    <tr>\n",
              "      <th>2328</th>\n",
              "      <td>1126830542073286656</td>\n",
              "      <td>BruceDayne</td>\n",
              "      <td>Khareem Sudlow</td>\n",
              "      <td>NaN</td>\n",
              "      <td>2019-05-10 10:45:11+00</td>\n",
              "      <td>0</td>\n",
              "      <td>0</td>\n",
              "      <td>0</td>\n",
              "      <td>cryptocurrency btcnews binance co ahyq kbo jpm...</td>\n",
              "      <td>en</td>\n",
              "      <td>2019-05-10</td>\n",
              "      <td>BTC</td>\n",
              "      <td>2019-05-10</td>\n",
              "      <td>6387.829450</td>\n",
              "      <td>6159.689544</td>\n",
              "      <td>6426.831207</td>\n",
              "      <td>6098.157976</td>\n",
              "      <td>0.000000</td>\n",
              "      <td>TRAIN</td>\n",
              "    </tr>\n",
              "    <tr>\n",
              "      <th>5604</th>\n",
              "      <td>1116850088347746305</td>\n",
              "      <td>AfricanCoinExch</td>\n",
              "      <td>African Coin Exchange</td>\n",
              "      <td>NaN</td>\n",
              "      <td>2019-04-12 23:46:25+00</td>\n",
              "      <td>0</td>\n",
              "      <td>65</td>\n",
              "      <td>55</td>\n",
              "      <td>africancoinexchange cryptocurrency buybtc cryp...</td>\n",
              "      <td>en</td>\n",
              "      <td>2019-04-12</td>\n",
              "      <td>BTC</td>\n",
              "      <td>2019-04-12</td>\n",
              "      <td>5077.515864</td>\n",
              "      <td>5042.402341</td>\n",
              "      <td>5098.606039</td>\n",
              "      <td>4894.733180</td>\n",
              "      <td>0.000000</td>\n",
              "      <td>TRAIN</td>\n",
              "    </tr>\n",
              "    <tr>\n",
              "      <th>12779</th>\n",
              "      <td>1126860842702602240</td>\n",
              "      <td>deYummyEvents</td>\n",
              "      <td>deYummy Events</td>\n",
              "      <td>NaN</td>\n",
              "      <td>2019-05-10 12:45:35+00</td>\n",
              "      <td>0</td>\n",
              "      <td>0</td>\n",
              "      <td>0</td>\n",
              "      <td>latest deyummy sexsational events co ctciugibc...</td>\n",
              "      <td>en</td>\n",
              "      <td>2019-05-10</td>\n",
              "      <td>BTC</td>\n",
              "      <td>2019-05-10</td>\n",
              "      <td>6387.829450</td>\n",
              "      <td>6159.689544</td>\n",
              "      <td>6426.831207</td>\n",
              "      <td>6098.157976</td>\n",
              "      <td>0.350000</td>\n",
              "      <td>TRAIN</td>\n",
              "    </tr>\n",
              "    <tr>\n",
              "      <th>15630</th>\n",
              "      <td>1126875252380897280</td>\n",
              "      <td>PrettyHatMech</td>\n",
              "      <td>🄿🅁🄴🅃🅃🅈 🄷🄰🅃 🄼🄰🄲🄷🄸🄽🄴</td>\n",
              "      <td>NaN</td>\n",
              "      <td>2019-05-10 13:42:51+00</td>\n",
              "      <td>0</td>\n",
              "      <td>0</td>\n",
              "      <td>0</td>\n",
              "      <td>khaleesi rises rationalwiki use paypal going s...</td>\n",
              "      <td>en</td>\n",
              "      <td>2019-05-10</td>\n",
              "      <td>BTC</td>\n",
              "      <td>2019-05-10</td>\n",
              "      <td>6387.829450</td>\n",
              "      <td>6159.689544</td>\n",
              "      <td>6426.831207</td>\n",
              "      <td>6098.157976</td>\n",
              "      <td>0.000000</td>\n",
              "      <td>TEST</td>\n",
              "    </tr>\n",
              "    <tr>\n",
              "      <th>860</th>\n",
              "      <td>1126842347336105984</td>\n",
              "      <td>KevinEllah1</td>\n",
              "      <td>Kevin</td>\n",
              "      <td>NaN</td>\n",
              "      <td>2019-05-10 11:32:05+00</td>\n",
              "      <td>0</td>\n",
              "      <td>0</td>\n",
              "      <td>0</td>\n",
              "      <td>fidelity stick top cryptos like bitcoin xrp sa...</td>\n",
              "      <td>en</td>\n",
              "      <td>2019-05-10</td>\n",
              "      <td>BTC</td>\n",
              "      <td>2019-05-10</td>\n",
              "      <td>6387.829450</td>\n",
              "      <td>6159.689544</td>\n",
              "      <td>6426.831207</td>\n",
              "      <td>6098.157976</td>\n",
              "      <td>0.500000</td>\n",
              "      <td>TRAIN</td>\n",
              "    </tr>\n",
              "    <tr>\n",
              "      <th>8646</th>\n",
              "      <td>1126859813617410049</td>\n",
              "      <td>SusantiNuris</td>\n",
              "      <td>nuris susanti</td>\n",
              "      <td>NaN</td>\n",
              "      <td>2019-05-10 12:41:30+00</td>\n",
              "      <td>0</td>\n",
              "      <td>0</td>\n",
              "      <td>0</td>\n",
              "      <td>win pxb amp btc sign awesome contest co pl jnb...</td>\n",
              "      <td>en</td>\n",
              "      <td>2019-05-10</td>\n",
              "      <td>BTC</td>\n",
              "      <td>2019-05-10</td>\n",
              "      <td>6387.829450</td>\n",
              "      <td>6159.689544</td>\n",
              "      <td>6426.831207</td>\n",
              "      <td>6098.157976</td>\n",
              "      <td>0.658333</td>\n",
              "      <td>TRAIN</td>\n",
              "    </tr>\n",
              "    <tr>\n",
              "      <th>9646</th>\n",
              "      <td>1126869022744563712</td>\n",
              "      <td>MercadosBitcoin</td>\n",
              "      <td>Mercados ฿itcoin</td>\n",
              "      <td>NaN</td>\n",
              "      <td>2019-05-10 13:18:05+00</td>\n",
              "      <td>0</td>\n",
              "      <td>0</td>\n",
              "      <td>0</td>\n",
              "      <td>holding back bitcoin venezuela group investiga...</td>\n",
              "      <td>en</td>\n",
              "      <td>2019-05-10</td>\n",
              "      <td>BTC</td>\n",
              "      <td>2019-05-10</td>\n",
              "      <td>6387.829450</td>\n",
              "      <td>6159.689544</td>\n",
              "      <td>6426.831207</td>\n",
              "      <td>6098.157976</td>\n",
              "      <td>0.000000</td>\n",
              "      <td>TRAIN</td>\n",
              "    </tr>\n",
              "    <tr>\n",
              "      <th>14634</th>\n",
              "      <td>1126853279009218564</td>\n",
              "      <td>PlanetaryDice</td>\n",
              "      <td>Demogorgon</td>\n",
              "      <td>NaN</td>\n",
              "      <td>2019-05-10 12:15:32+00</td>\n",
              "      <td>0</td>\n",
              "      <td>0</td>\n",
              "      <td>0</td>\n",
              "      <td>marvinchebbi thecryptomonk scrolling elf power...</td>\n",
              "      <td>en</td>\n",
              "      <td>2019-05-10</td>\n",
              "      <td>BTC</td>\n",
              "      <td>2019-05-10</td>\n",
              "      <td>6387.829450</td>\n",
              "      <td>6159.689544</td>\n",
              "      <td>6426.831207</td>\n",
              "      <td>6098.157976</td>\n",
              "      <td>0.400000</td>\n",
              "      <td>TEST</td>\n",
              "    </tr>\n",
              "  </tbody>\n",
              "</table>\n",
              "</div>"
            ],
            "text/plain": [
              "                        id             user  ... sentiment   flag\n",
              "5108   1126855830219845632     CharlieIsBig  ...  0.500000  TRAIN\n",
              "10734  1126861571899252738  wanderingsadhak  ... -0.050000  TRAIN\n",
              "2328   1126830542073286656       BruceDayne  ...  0.000000  TRAIN\n",
              "5604   1116850088347746305  AfricanCoinExch  ...  0.000000  TRAIN\n",
              "12779  1126860842702602240    deYummyEvents  ...  0.350000  TRAIN\n",
              "15630  1126875252380897280    PrettyHatMech  ...  0.000000   TEST\n",
              "860    1126842347336105984      KevinEllah1  ...  0.500000  TRAIN\n",
              "8646   1126859813617410049     SusantiNuris  ...  0.658333  TRAIN\n",
              "9646   1126869022744563712  MercadosBitcoin  ...  0.000000  TRAIN\n",
              "14634  1126853279009218564    PlanetaryDice  ...  0.400000   TEST\n",
              "\n",
              "[10 rows x 19 columns]"
            ]
          },
          "metadata": {
            "tags": []
          },
          "execution_count": 66
        }
      ]
    },
    {
      "cell_type": "code",
      "metadata": {
        "id": "Xs7bEl0BDkdd"
      },
      "source": [
        "from keras.preprocessing.text import one_hot\n",
        "vocab_size = 50000\n",
        "encoded_phrases = [one_hot(d, vocab_size) for d in phrases]\n",
        "total_docs['Phrase'] = encoded_phrases\n",
        "train_data = total_docs[total_docs['flag'] == 'TRAIN']\n",
        "test_data = total_docs[total_docs['flag'] == 'TEST']\n",
        "x_train = train_data['Phrase']\n",
        "y_train = train_data['sentiment']\n",
        "x_val = test_data['Phrase']\n",
        "y_val = test_data['sentiment']"
      ],
      "execution_count": 76,
      "outputs": []
    },
    {
      "cell_type": "code",
      "metadata": {
        "id": "2G_-pZYOEhl-"
      },
      "source": [
        "x_train = keras.preprocessing.sequence.pad_sequences(x_train, maxlen=maxlen)\n",
        "x_val = keras.preprocessing.sequence.pad_sequences(x_val, maxlen=maxlen)"
      ],
      "execution_count": 78,
      "outputs": []
    },
    {
      "cell_type": "code",
      "metadata": {
        "colab": {
          "base_uri": "https://localhost:8080/"
        },
        "id": "0jGIaQ9tEk-8",
        "outputId": "2d2d89a6-a780-48b2-9b0c-88b2d94b79e8"
      },
      "source": [
        "model = Sequential()\n",
        "inputs = keras.Input(shape=(None,), dtype=\"int32\")\n",
        "\n",
        "# Embed each integer in a 128-dimensional vector\n",
        "model.add(inputs)\n",
        "model.add(Embedding(50000, 32))\n",
        "model.add(LSTM(32, return_sequences=True))\n",
        "model.add(LSTM(32))\n",
        "\n",
        "# Add a classifier\n",
        "model.add(Dense(1, activation=\"sigmoid\"))\n",
        "\n",
        "model.summary()"
      ],
      "execution_count": 79,
      "outputs": [
        {
          "output_type": "stream",
          "text": [
            "WARNING:tensorflow:Please add `keras.layers.InputLayer` instead of `keras.Input` to Sequential model. `keras.Input` is intended to be used by Functional model.\n",
            "Model: \"sequential\"\n",
            "_________________________________________________________________\n",
            "Layer (type)                 Output Shape              Param #   \n",
            "=================================================================\n",
            "embedding (Embedding)        (None, None, 32)          1600000   \n",
            "_________________________________________________________________\n",
            "lstm (LSTM)                  (None, None, 32)          8320      \n",
            "_________________________________________________________________\n",
            "lstm_1 (LSTM)                (None, 32)                8320      \n",
            "_________________________________________________________________\n",
            "dense (Dense)                (None, 1)                 33        \n",
            "=================================================================\n",
            "Total params: 1,616,673\n",
            "Trainable params: 1,616,673\n",
            "Non-trainable params: 0\n",
            "_________________________________________________________________\n"
          ],
          "name": "stdout"
        }
      ]
    },
    {
      "cell_type": "code",
      "metadata": {
        "colab": {
          "base_uri": "https://localhost:8080/"
        },
        "id": "LIPokJPzGcIc",
        "outputId": "27eaae2c-3aad-4dc8-f0da-5cfd0ad916ef"
      },
      "source": [
        "model.compile(optimizer='rmsprop', \n",
        "              loss='binary_crossentropy', \n",
        "              metrics=[\"accuracy\"])\n",
        "\n",
        "model.fit(x_train, y_train, \n",
        "          batch_size=128, \n",
        "          epochs=20, \n",
        "          validation_data=(x_val, y_val),\n",
        "          validation_steps=20)"
      ],
      "execution_count": 80,
      "outputs": [
        {
          "output_type": "stream",
          "text": [
            "Epoch 1/20\n",
            "100/100 [==============================] - 49s 280ms/step - loss: 0.3659 - accuracy: 0.4874 - val_loss: 0.2566 - val_accuracy: 0.4945\n",
            "Epoch 2/20\n",
            "100/100 [==============================] - 27s 269ms/step - loss: 0.1991 - accuracy: 0.4981 - val_loss: 0.1502 - val_accuracy: 0.4949\n",
            "Epoch 3/20\n",
            "100/100 [==============================] - 27s 265ms/step - loss: 0.0762 - accuracy: 0.4989 - val_loss: 0.0980 - val_accuracy: 0.4953\n",
            "Epoch 4/20\n",
            "100/100 [==============================] - 27s 267ms/step - loss: 0.0460 - accuracy: 0.4984 - val_loss: 0.6406 - val_accuracy: 0.4945\n",
            "Epoch 5/20\n",
            "100/100 [==============================] - 27s 267ms/step - loss: 0.2743 - accuracy: 0.4951 - val_loss: 0.0378 - val_accuracy: 0.4957\n",
            "Epoch 6/20\n",
            "100/100 [==============================] - 27s 268ms/step - loss: -0.0982 - accuracy: 0.4989 - val_loss: -0.0140 - val_accuracy: 0.4957\n",
            "Epoch 7/20\n",
            "100/100 [==============================] - 27s 267ms/step - loss: -0.1871 - accuracy: 0.5029 - val_loss: -0.0707 - val_accuracy: 0.4961\n",
            "Epoch 8/20\n",
            "100/100 [==============================] - 27s 267ms/step - loss: -0.2316 - accuracy: 0.5022 - val_loss: -0.1383 - val_accuracy: 0.4965\n",
            "Epoch 9/20\n",
            "100/100 [==============================] - 27s 269ms/step - loss: -0.3333 - accuracy: 0.4954 - val_loss: -0.1779 - val_accuracy: 0.4965\n",
            "Epoch 10/20\n",
            "100/100 [==============================] - 27s 269ms/step - loss: -0.4117 - accuracy: 0.5050 - val_loss: -0.2406 - val_accuracy: 0.4969\n",
            "Epoch 11/20\n",
            "100/100 [==============================] - 27s 269ms/step - loss: -0.5105 - accuracy: 0.5041 - val_loss: -0.2530 - val_accuracy: 0.4973\n",
            "Epoch 12/20\n",
            "100/100 [==============================] - 27s 271ms/step - loss: -0.5924 - accuracy: 0.4990 - val_loss: -0.3196 - val_accuracy: 0.4969\n",
            "Epoch 13/20\n",
            "100/100 [==============================] - 27s 268ms/step - loss: -0.6509 - accuracy: 0.5056 - val_loss: -0.3702 - val_accuracy: 0.4969\n",
            "Epoch 14/20\n",
            "100/100 [==============================] - 27s 267ms/step - loss: -0.6456 - accuracy: 0.5138 - val_loss: -0.4386 - val_accuracy: 0.4965\n",
            "Epoch 15/20\n",
            "100/100 [==============================] - 27s 267ms/step - loss: -0.7713 - accuracy: 0.5003 - val_loss: -0.4807 - val_accuracy: 0.4961\n",
            "Epoch 16/20\n",
            "100/100 [==============================] - 27s 268ms/step - loss: -0.8260 - accuracy: 0.5076 - val_loss: -0.4865 - val_accuracy: 0.4957\n",
            "Epoch 17/20\n",
            "100/100 [==============================] - 27s 268ms/step - loss: -0.9579 - accuracy: 0.5020 - val_loss: -0.5807 - val_accuracy: 0.4957\n",
            "Epoch 18/20\n",
            "100/100 [==============================] - 27s 268ms/step - loss: -1.0030 - accuracy: 0.5004 - val_loss: -0.6410 - val_accuracy: 0.4953\n",
            "Epoch 19/20\n",
            "100/100 [==============================] - 27s 268ms/step - loss: -1.1298 - accuracy: 0.5053 - val_loss: -0.6642 - val_accuracy: 0.4961\n",
            "Epoch 20/20\n",
            "100/100 [==============================] - 27s 268ms/step - loss: -1.1039 - accuracy: 0.5003 - val_loss: -0.7142 - val_accuracy: 0.4961\n"
          ],
          "name": "stdout"
        },
        {
          "output_type": "execute_result",
          "data": {
            "text/plain": [
              "<keras.callbacks.History at 0x7f1fb6050050>"
            ]
          },
          "metadata": {
            "tags": []
          },
          "execution_count": 80
        }
      ]
    },
    {
      "cell_type": "code",
      "metadata": {
        "colab": {
          "base_uri": "https://localhost:8080/"
        },
        "id": "nOWgvK66GiOv",
        "outputId": "0b276c69-d4a3-45e3-8da7-a7f6e18e282e"
      },
      "source": [
        "test_loss, test_acc = model.evaluate(x=x_val, y=y_val)\n",
        "\n",
        "print('Test Loss: {}'.format(test_loss))\n",
        "print('Test Accuracy: {}'.format(test_acc))\n",
        "\n",
        "sample_text = ('Bitcoin just lost half its value overnight. Sorry all you savvy investors ')\n",
        "vocab_size = 50000\n",
        "\n",
        "model.predict(one_hot(sample_text, vocab_size))"
      ],
      "execution_count": 81,
      "outputs": [
        {
          "output_type": "stream",
          "text": [
            "100/100 [==============================] - 4s 36ms/step - loss: -0.6237 - accuracy: 0.4986\n",
            "Test Loss: -0.623680591583252\n",
            "Test Accuracy: 0.4985933005809784\n"
          ],
          "name": "stdout"
        },
        {
          "output_type": "execute_result",
          "data": {
            "text/plain": [
              "array([[1.0762587e-01],\n",
              "       [1.8603727e-01],\n",
              "       [1.5957099e-01],\n",
              "       [1.1550453e-09],\n",
              "       [2.2997433e-01],\n",
              "       [6.8857670e-02],\n",
              "       [1.8781424e-03],\n",
              "       [4.6504616e-11],\n",
              "       [1.3946167e-01],\n",
              "       [1.8456548e-02],\n",
              "       [5.9124231e-03],\n",
              "       [1.7454177e-02]], dtype=float32)"
            ]
          },
          "metadata": {
            "tags": []
          },
          "execution_count": 81
        }
      ]
    },
    {
      "cell_type": "code",
      "metadata": {
        "colab": {
          "base_uri": "https://localhost:8080/"
        },
        "id": "_8cEMZZeO_SO",
        "outputId": "3314fd03-9793-4547-c42e-7a5e339c69e8"
      },
      "source": [
        "stopwords.words('english')"
      ],
      "execution_count": 4,
      "outputs": [
        {
          "output_type": "execute_result",
          "data": {
            "text/plain": [
              "['i',\n",
              " 'me',\n",
              " 'my',\n",
              " 'myself',\n",
              " 'we',\n",
              " 'our',\n",
              " 'ours',\n",
              " 'ourselves',\n",
              " 'you',\n",
              " \"you're\",\n",
              " \"you've\",\n",
              " \"you'll\",\n",
              " \"you'd\",\n",
              " 'your',\n",
              " 'yours',\n",
              " 'yourself',\n",
              " 'yourselves',\n",
              " 'he',\n",
              " 'him',\n",
              " 'his',\n",
              " 'himself',\n",
              " 'she',\n",
              " \"she's\",\n",
              " 'her',\n",
              " 'hers',\n",
              " 'herself',\n",
              " 'it',\n",
              " \"it's\",\n",
              " 'its',\n",
              " 'itself',\n",
              " 'they',\n",
              " 'them',\n",
              " 'their',\n",
              " 'theirs',\n",
              " 'themselves',\n",
              " 'what',\n",
              " 'which',\n",
              " 'who',\n",
              " 'whom',\n",
              " 'this',\n",
              " 'that',\n",
              " \"that'll\",\n",
              " 'these',\n",
              " 'those',\n",
              " 'am',\n",
              " 'is',\n",
              " 'are',\n",
              " 'was',\n",
              " 'were',\n",
              " 'be',\n",
              " 'been',\n",
              " 'being',\n",
              " 'have',\n",
              " 'has',\n",
              " 'had',\n",
              " 'having',\n",
              " 'do',\n",
              " 'does',\n",
              " 'did',\n",
              " 'doing',\n",
              " 'a',\n",
              " 'an',\n",
              " 'the',\n",
              " 'and',\n",
              " 'but',\n",
              " 'if',\n",
              " 'or',\n",
              " 'because',\n",
              " 'as',\n",
              " 'until',\n",
              " 'while',\n",
              " 'of',\n",
              " 'at',\n",
              " 'by',\n",
              " 'for',\n",
              " 'with',\n",
              " 'about',\n",
              " 'against',\n",
              " 'between',\n",
              " 'into',\n",
              " 'through',\n",
              " 'during',\n",
              " 'before',\n",
              " 'after',\n",
              " 'above',\n",
              " 'below',\n",
              " 'to',\n",
              " 'from',\n",
              " 'up',\n",
              " 'down',\n",
              " 'in',\n",
              " 'out',\n",
              " 'on',\n",
              " 'off',\n",
              " 'over',\n",
              " 'under',\n",
              " 'again',\n",
              " 'further',\n",
              " 'then',\n",
              " 'once',\n",
              " 'here',\n",
              " 'there',\n",
              " 'when',\n",
              " 'where',\n",
              " 'why',\n",
              " 'how',\n",
              " 'all',\n",
              " 'any',\n",
              " 'both',\n",
              " 'each',\n",
              " 'few',\n",
              " 'more',\n",
              " 'most',\n",
              " 'other',\n",
              " 'some',\n",
              " 'such',\n",
              " 'no',\n",
              " 'nor',\n",
              " 'not',\n",
              " 'only',\n",
              " 'own',\n",
              " 'same',\n",
              " 'so',\n",
              " 'than',\n",
              " 'too',\n",
              " 'very',\n",
              " 's',\n",
              " 't',\n",
              " 'can',\n",
              " 'will',\n",
              " 'just',\n",
              " 'don',\n",
              " \"don't\",\n",
              " 'should',\n",
              " \"should've\",\n",
              " 'now',\n",
              " 'd',\n",
              " 'll',\n",
              " 'm',\n",
              " 'o',\n",
              " 're',\n",
              " 've',\n",
              " 'y',\n",
              " 'ain',\n",
              " 'aren',\n",
              " \"aren't\",\n",
              " 'couldn',\n",
              " \"couldn't\",\n",
              " 'didn',\n",
              " \"didn't\",\n",
              " 'doesn',\n",
              " \"doesn't\",\n",
              " 'hadn',\n",
              " \"hadn't\",\n",
              " 'hasn',\n",
              " \"hasn't\",\n",
              " 'haven',\n",
              " \"haven't\",\n",
              " 'isn',\n",
              " \"isn't\",\n",
              " 'ma',\n",
              " 'mightn',\n",
              " \"mightn't\",\n",
              " 'mustn',\n",
              " \"mustn't\",\n",
              " 'needn',\n",
              " \"needn't\",\n",
              " 'shan',\n",
              " \"shan't\",\n",
              " 'shouldn',\n",
              " \"shouldn't\",\n",
              " 'wasn',\n",
              " \"wasn't\",\n",
              " 'weren',\n",
              " \"weren't\",\n",
              " 'won',\n",
              " \"won't\",\n",
              " 'wouldn',\n",
              " \"wouldn't\"]"
            ]
          },
          "metadata": {
            "tags": []
          },
          "execution_count": 4
        }
      ]
    },
    {
      "cell_type": "code",
      "metadata": {
        "colab": {
          "base_uri": "https://localhost:8080/"
        },
        "id": "YvCpGaUns263",
        "outputId": "0c92cd63-b510-4858-b04d-241d5a8f1d0d"
      },
      "source": [
        "import nltk\n",
        "import re\n",
        "nltk.download(\"stopwords\")\n",
        "from nltk.corpus import stopwords"
      ],
      "execution_count": 3,
      "outputs": [
        {
          "output_type": "stream",
          "text": [
            "[nltk_data] Downloading package stopwords to /root/nltk_data...\n",
            "[nltk_data]   Unzipping corpora/stopwords.zip.\n"
          ],
          "name": "stdout"
        }
      ]
    },
    {
      "cell_type": "code",
      "metadata": {
        "id": "TYmaPezQs-V3"
      },
      "source": [
        ""
      ],
      "execution_count": null,
      "outputs": []
    }
  ]
}
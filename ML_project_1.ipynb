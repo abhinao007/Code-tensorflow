{
  "nbformat": 4,
  "nbformat_minor": 0,
  "metadata": {
    "colab": {
      "name": "ML project_1.ipynb",
      "provenance": [],
      "collapsed_sections": [],
      "authorship_tag": "ABX9TyPx41PX0K52J/Eg+eq2DIrc",
      "include_colab_link": true
    },
    "kernelspec": {
      "name": "python3",
      "display_name": "Python 3"
    },
    "language_info": {
      "name": "python"
    }
  },
  "cells": [
    {
      "cell_type": "markdown",
      "metadata": {
        "id": "view-in-github",
        "colab_type": "text"
      },
      "source": [
        "<a href=\"https://colab.research.google.com/github/abhinao007/Code-tensorflow/blob/main/ML_project_1.ipynb\" target=\"_parent\"><img src=\"https://colab.research.google.com/assets/colab-badge.svg\" alt=\"Open In Colab\"/></a>"
      ]
    },
    {
      "cell_type": "code",
      "metadata": {
        "id": "bsOiP2S9pksK"
      },
      "source": [
        "import numpy as np \n",
        "import pandas as pd \n",
        "from textblob import TextBlob\n",
        "import matplotlib.pyplot as plt\n",
        "from google.colab import files\n",
        "import keras\n",
        "import tensorflow as tf\n",
        "from keras.models import Sequential\n",
        "from keras.layers import Dense,LSTM,Dropout,Activation,Embedding,Bidirectional"
      ],
      "execution_count": 2,
      "outputs": []
    },
    {
      "cell_type": "code",
      "metadata": {
        "id": "Dlx9fDm58709",
        "colab": {
          "resources": {
            "http://localhost:8080/nbextensions/google.colab/files.js": {
              "data": "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",
              "ok": true,
              "headers": [
                [
                  "content-type",
                  "application/javascript"
                ]
              ],
              "status": 200,
              "status_text": ""
            }
          },
          "base_uri": "https://localhost:8080/",
          "height": 72
        },
        "outputId": "7984566e-e7c5-46b9-8200-800e42528866"
      },
      "source": [
        "\n",
        "\n",
        "# Install Kaggle library\n",
        "!pip install -q kaggle\n",
        "uploaded = files.upload()"
      ],
      "execution_count": 7,
      "outputs": [
        {
          "output_type": "display_data",
          "data": {
            "text/html": [
              "\n",
              "     <input type=\"file\" id=\"files-5a358445-0885-466d-b6a4-9cbe1dcd5d18\" name=\"files[]\" multiple disabled\n",
              "        style=\"border:none\" />\n",
              "     <output id=\"result-5a358445-0885-466d-b6a4-9cbe1dcd5d18\">\n",
              "      Upload widget is only available when the cell has been executed in the\n",
              "      current browser session. Please rerun this cell to enable.\n",
              "      </output>\n",
              "      <script src=\"/nbextensions/google.colab/files.js\"></script> "
            ],
            "text/plain": [
              "<IPython.core.display.HTML object>"
            ]
          },
          "metadata": {
            "tags": []
          }
        },
        {
          "output_type": "stream",
          "text": [
            "Saving kaggle.json to kaggle.json\n"
          ],
          "name": "stdout"
        }
      ]
    },
    {
      "cell_type": "code",
      "metadata": {
        "id": "QAmazcqO_0Ex"
      },
      "source": [
        "!mkdir -p ~/.kaggle\n",
        "!cp kaggle.json ~/.kaggle"
      ],
      "execution_count": 8,
      "outputs": []
    },
    {
      "cell_type": "code",
      "metadata": {
        "id": "ykQr3EAnAW30"
      },
      "source": [
        "!chmod 600 ~/.kaggle/kaggle.json"
      ],
      "execution_count": 9,
      "outputs": []
    },
    {
      "cell_type": "code",
      "metadata": {
        "colab": {
          "base_uri": "https://localhost:8080/"
        },
        "id": "rTw32u0yAoSH",
        "outputId": "35fbd9e0-fca2-47e1-c11f-556968a30fd4"
      },
      "source": [
        "!kaggle datasets download -d alaix14/bitcoin-tweets-20160101-to-20190329\n"
      ],
      "execution_count": 10,
      "outputs": [
        {
          "output_type": "stream",
          "text": [
            "Downloading bitcoin-tweets-20160101-to-20190329.zip to /content\n",
            "100% 1.58G/1.58G [00:14<00:00, 53.7MB/s]\n",
            "100% 1.58G/1.58G [00:14<00:00, 117MB/s] \n"
          ],
          "name": "stdout"
        }
      ]
    },
    {
      "cell_type": "code",
      "metadata": {
        "colab": {
          "base_uri": "https://localhost:8080/"
        },
        "id": "frxMw54hAzJF",
        "outputId": "590b9ef3-ec37-423c-823a-fcc6fd28f10f"
      },
      "source": [
        "\n",
        "from zipfile import ZipFile\n",
        "\n",
        "file_name = \"bitcoin-tweets-20160101-to-20190329.zip\"\n",
        "\n",
        "with ZipFile(file_name, \"r\") as zip:\n",
        "  zip.extractall()\n",
        "  print(\"done\")"
      ],
      "execution_count": 11,
      "outputs": [
        {
          "output_type": "stream",
          "text": [
            "done\n"
          ],
          "name": "stdout"
        }
      ]
    },
    {
      "cell_type": "code",
      "metadata": {
        "id": "l5sD1vTrFlHt"
      },
      "source": [
        "import pandas as pd\n",
        "df = pd.read_csv('tweets.csv', sep=';',nrows=20000)"
      ],
      "execution_count": 44,
      "outputs": []
    },
    {
      "cell_type": "code",
      "metadata": {
        "colab": {
          "base_uri": "https://localhost:8080/"
        },
        "id": "i9sDbi-WFtOT",
        "outputId": "2e961454-501d-4d1e-e686-a59c85aed5c1"
      },
      "source": [
        "#predit the language to filter for English \n",
        "!pip install whatthelang\n",
        "from whatthelang import WhatTheLang\n",
        "\n",
        "wtl = WhatTheLang()\n",
        "L=[]\n",
        "for row in df['text']:\n",
        "    if len(row)!=0:\n",
        "        L.append(wtl.predict_lang(row))\n",
        "    else:\n",
        "        L.append(None)\n",
        "        \n",
        "df['lang'] = L\n",
        "df.head()\n",
        "df = df[df[\"lang\"] == 'en']"
      ],
      "execution_count": 45,
      "outputs": [
        {
          "output_type": "stream",
          "text": [
            "Requirement already satisfied: whatthelang in /usr/local/lib/python3.7/dist-packages (1.0.1)\n",
            "Requirement already satisfied: Cython in /usr/local/lib/python3.7/dist-packages (from whatthelang) (0.29.23)\n",
            "Requirement already satisfied: cysignals in /usr/local/lib/python3.7/dist-packages (from whatthelang) (1.10.3)\n",
            "Requirement already satisfied: pyfasttext in /usr/local/lib/python3.7/dist-packages (from whatthelang) (0.4.6)\n",
            "Requirement already satisfied: future in /usr/local/lib/python3.7/dist-packages (from pyfasttext->whatthelang) (0.16.0)\n",
            "Requirement already satisfied: numpy in /usr/local/lib/python3.7/dist-packages (from pyfasttext->whatthelang) (1.19.5)\n"
          ],
          "name": "stdout"
        }
      ]
    },
    {
      "cell_type": "code",
      "metadata": {
        "colab": {
          "resources": {
            "http://localhost:8080/nbextensions/google.colab/files.js": {
              "data": "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",
              "ok": true,
              "headers": [
                [
                  "content-type",
                  "application/javascript"
                ]
              ],
              "status": 200,
              "status_text": ""
            }
          },
          "base_uri": "https://localhost:8080/",
          "height": 72
        },
        "id": "F6VFuX_yG0kT",
        "outputId": "079caba5-7c8e-4c9b-f2dc-127f87976fe0"
      },
      "source": [
        "#upload files for Bitcoin trading\n",
        "\n",
        "uploaded = files.upload()"
      ],
      "execution_count": 3,
      "outputs": [
        {
          "output_type": "display_data",
          "data": {
            "text/html": [
              "\n",
              "     <input type=\"file\" id=\"files-5a4159c0-fd6f-4138-8e32-85761da9eb58\" name=\"files[]\" multiple disabled\n",
              "        style=\"border:none\" />\n",
              "     <output id=\"result-5a4159c0-fd6f-4138-8e32-85761da9eb58\">\n",
              "      Upload widget is only available when the cell has been executed in the\n",
              "      current browser session. Please rerun this cell to enable.\n",
              "      </output>\n",
              "      <script src=\"/nbextensions/google.colab/files.js\"></script> "
            ],
            "text/plain": [
              "<IPython.core.display.HTML object>"
            ]
          },
          "metadata": {
            "tags": []
          }
        },
        {
          "output_type": "stream",
          "text": [
            "Saving BTC_USD_2013-10-01_2021-07-02-CoinDesk.csv to BTC_USD_2013-10-01_2021-07-02-CoinDesk.csv\n"
          ],
          "name": "stdout"
        }
      ]
    },
    {
      "cell_type": "code",
      "metadata": {
        "id": "Om2LeMc0G9Ls",
        "colab": {
          "base_uri": "https://localhost:8080/",
          "height": 204
        },
        "outputId": "5116ba1d-86af-44c7-8371-25d6bd203648"
      },
      "source": [
        "df_btc = pd.read_csv(\"BTC_USD_2013-10-01_2021-07-02-CoinDesk.csv\")\n",
        "df_btc.head()"
      ],
      "execution_count": 15,
      "outputs": [
        {
          "output_type": "execute_result",
          "data": {
            "text/html": [
              "<div>\n",
              "<style scoped>\n",
              "    .dataframe tbody tr th:only-of-type {\n",
              "        vertical-align: middle;\n",
              "    }\n",
              "\n",
              "    .dataframe tbody tr th {\n",
              "        vertical-align: top;\n",
              "    }\n",
              "\n",
              "    .dataframe thead th {\n",
              "        text-align: right;\n",
              "    }\n",
              "</style>\n",
              "<table border=\"1\" class=\"dataframe\">\n",
              "  <thead>\n",
              "    <tr style=\"text-align: right;\">\n",
              "      <th></th>\n",
              "      <th>Currency</th>\n",
              "      <th>Date</th>\n",
              "      <th>Closing Price (USD)</th>\n",
              "      <th>24h Open (USD)</th>\n",
              "      <th>24h High (USD)</th>\n",
              "      <th>24h Low (USD)</th>\n",
              "    </tr>\n",
              "  </thead>\n",
              "  <tbody>\n",
              "    <tr>\n",
              "      <th>0</th>\n",
              "      <td>BTC</td>\n",
              "      <td>2013-10-01</td>\n",
              "      <td>123.65499</td>\n",
              "      <td>124.30466</td>\n",
              "      <td>124.75166</td>\n",
              "      <td>122.56349</td>\n",
              "    </tr>\n",
              "    <tr>\n",
              "      <th>1</th>\n",
              "      <td>BTC</td>\n",
              "      <td>2013-10-02</td>\n",
              "      <td>125.45500</td>\n",
              "      <td>123.65499</td>\n",
              "      <td>125.75850</td>\n",
              "      <td>123.63383</td>\n",
              "    </tr>\n",
              "    <tr>\n",
              "      <th>2</th>\n",
              "      <td>BTC</td>\n",
              "      <td>2013-10-03</td>\n",
              "      <td>108.58483</td>\n",
              "      <td>125.45500</td>\n",
              "      <td>125.66566</td>\n",
              "      <td>83.32833</td>\n",
              "    </tr>\n",
              "    <tr>\n",
              "      <th>3</th>\n",
              "      <td>BTC</td>\n",
              "      <td>2013-10-04</td>\n",
              "      <td>118.67466</td>\n",
              "      <td>108.58483</td>\n",
              "      <td>118.67500</td>\n",
              "      <td>107.05816</td>\n",
              "    </tr>\n",
              "    <tr>\n",
              "      <th>4</th>\n",
              "      <td>BTC</td>\n",
              "      <td>2013-10-05</td>\n",
              "      <td>121.33866</td>\n",
              "      <td>118.67466</td>\n",
              "      <td>121.93633</td>\n",
              "      <td>118.00566</td>\n",
              "    </tr>\n",
              "  </tbody>\n",
              "</table>\n",
              "</div>"
            ],
            "text/plain": [
              "  Currency        Date  ...  24h High (USD)  24h Low (USD)\n",
              "0      BTC  2013-10-01  ...       124.75166      122.56349\n",
              "1      BTC  2013-10-02  ...       125.75850      123.63383\n",
              "2      BTC  2013-10-03  ...       125.66566       83.32833\n",
              "3      BTC  2013-10-04  ...       118.67500      107.05816\n",
              "4      BTC  2013-10-05  ...       121.93633      118.00566\n",
              "\n",
              "[5 rows x 6 columns]"
            ]
          },
          "metadata": {
            "tags": []
          },
          "execution_count": 15
        }
      ]
    },
    {
      "cell_type": "code",
      "metadata": {
        "id": "je1DxqORqkF0"
      },
      "source": [
        "df_btc[\"Date_Time\"]=pd.to_datetime(df_btc[\"Date\"], format='%Y%m%d', errors='ignore')"
      ],
      "execution_count": 18,
      "outputs": []
    },
    {
      "cell_type": "code",
      "metadata": {
        "colab": {
          "base_uri": "https://localhost:8080/",
          "height": 204
        },
        "id": "Vly4IKwmqk_9",
        "outputId": "edd45f7f-df5b-4cb6-db8d-57383b4c1173"
      },
      "source": [
        "df_btc['Date_Time']= pd.to_datetime(df_btc['Date'])\n",
        "df_btc.head()\n"
      ],
      "execution_count": 26,
      "outputs": [
        {
          "output_type": "execute_result",
          "data": {
            "text/html": [
              "<div>\n",
              "<style scoped>\n",
              "    .dataframe tbody tr th:only-of-type {\n",
              "        vertical-align: middle;\n",
              "    }\n",
              "\n",
              "    .dataframe tbody tr th {\n",
              "        vertical-align: top;\n",
              "    }\n",
              "\n",
              "    .dataframe thead th {\n",
              "        text-align: right;\n",
              "    }\n",
              "</style>\n",
              "<table border=\"1\" class=\"dataframe\">\n",
              "  <thead>\n",
              "    <tr style=\"text-align: right;\">\n",
              "      <th></th>\n",
              "      <th>Currency</th>\n",
              "      <th>Date</th>\n",
              "      <th>Closing Price (USD)</th>\n",
              "      <th>24h Open (USD)</th>\n",
              "      <th>24h High (USD)</th>\n",
              "      <th>24h Low (USD)</th>\n",
              "      <th>Date_Time</th>\n",
              "    </tr>\n",
              "  </thead>\n",
              "  <tbody>\n",
              "    <tr>\n",
              "      <th>0</th>\n",
              "      <td>BTC</td>\n",
              "      <td>2013-10-01</td>\n",
              "      <td>123.65499</td>\n",
              "      <td>124.30466</td>\n",
              "      <td>124.75166</td>\n",
              "      <td>122.56349</td>\n",
              "      <td>2013-10-01</td>\n",
              "    </tr>\n",
              "    <tr>\n",
              "      <th>1</th>\n",
              "      <td>BTC</td>\n",
              "      <td>2013-10-02</td>\n",
              "      <td>125.45500</td>\n",
              "      <td>123.65499</td>\n",
              "      <td>125.75850</td>\n",
              "      <td>123.63383</td>\n",
              "      <td>2013-10-02</td>\n",
              "    </tr>\n",
              "    <tr>\n",
              "      <th>2</th>\n",
              "      <td>BTC</td>\n",
              "      <td>2013-10-03</td>\n",
              "      <td>108.58483</td>\n",
              "      <td>125.45500</td>\n",
              "      <td>125.66566</td>\n",
              "      <td>83.32833</td>\n",
              "      <td>2013-10-03</td>\n",
              "    </tr>\n",
              "    <tr>\n",
              "      <th>3</th>\n",
              "      <td>BTC</td>\n",
              "      <td>2013-10-04</td>\n",
              "      <td>118.67466</td>\n",
              "      <td>108.58483</td>\n",
              "      <td>118.67500</td>\n",
              "      <td>107.05816</td>\n",
              "      <td>2013-10-04</td>\n",
              "    </tr>\n",
              "    <tr>\n",
              "      <th>4</th>\n",
              "      <td>BTC</td>\n",
              "      <td>2013-10-05</td>\n",
              "      <td>121.33866</td>\n",
              "      <td>118.67466</td>\n",
              "      <td>121.93633</td>\n",
              "      <td>118.00566</td>\n",
              "      <td>2013-10-05</td>\n",
              "    </tr>\n",
              "  </tbody>\n",
              "</table>\n",
              "</div>"
            ],
            "text/plain": [
              "  Currency        Date  ...  24h Low (USD)  Date_Time\n",
              "0      BTC  2013-10-01  ...      122.56349 2013-10-01\n",
              "1      BTC  2013-10-02  ...      123.63383 2013-10-02\n",
              "2      BTC  2013-10-03  ...       83.32833 2013-10-03\n",
              "3      BTC  2013-10-04  ...      107.05816 2013-10-04\n",
              "4      BTC  2013-10-05  ...      118.00566 2013-10-05\n",
              "\n",
              "[5 rows x 7 columns]"
            ]
          },
          "metadata": {
            "tags": []
          },
          "execution_count": 26
        }
      ]
    },
    {
      "cell_type": "code",
      "metadata": {
        "colab": {
          "base_uri": "https://localhost:8080/",
          "height": 204
        },
        "id": "sEg7AYk8s_MC",
        "outputId": "6a60b771-57e1-4044-c7e7-5f45970667c3"
      },
      "source": [
        "df['Date_Time']= pd.to_datetime(df['timestamp'], format='%Y-%m-%d')\n",
        "\n",
        "df['Date_Time']= pd.to_datetime(df['Date_Time']).dt.date\n",
        "df['Date_Time']= pd.to_datetime(df['Date_Time'])\n",
        "df.head()"
      ],
      "execution_count": 50,
      "outputs": [
        {
          "output_type": "execute_result",
          "data": {
            "text/html": [
              "<div>\n",
              "<style scoped>\n",
              "    .dataframe tbody tr th:only-of-type {\n",
              "        vertical-align: middle;\n",
              "    }\n",
              "\n",
              "    .dataframe tbody tr th {\n",
              "        vertical-align: top;\n",
              "    }\n",
              "\n",
              "    .dataframe thead th {\n",
              "        text-align: right;\n",
              "    }\n",
              "</style>\n",
              "<table border=\"1\" class=\"dataframe\">\n",
              "  <thead>\n",
              "    <tr style=\"text-align: right;\">\n",
              "      <th></th>\n",
              "      <th>id</th>\n",
              "      <th>user</th>\n",
              "      <th>fullname</th>\n",
              "      <th>url</th>\n",
              "      <th>timestamp</th>\n",
              "      <th>replies</th>\n",
              "      <th>likes</th>\n",
              "      <th>retweets</th>\n",
              "      <th>text</th>\n",
              "      <th>lang</th>\n",
              "      <th>Date_Time</th>\n",
              "    </tr>\n",
              "  </thead>\n",
              "  <tbody>\n",
              "    <tr>\n",
              "      <th>1</th>\n",
              "      <td>1132977073402736640</td>\n",
              "      <td>bitcointe</td>\n",
              "      <td>Bitcointe</td>\n",
              "      <td>NaN</td>\n",
              "      <td>2019-05-27 11:49:18+00</td>\n",
              "      <td>0</td>\n",
              "      <td>0</td>\n",
              "      <td>0</td>\n",
              "      <td>cardano digitize currencies eos co ktkqkebls r...</td>\n",
              "      <td>en</td>\n",
              "      <td>2019-05-27</td>\n",
              "    </tr>\n",
              "    <tr>\n",
              "      <th>2</th>\n",
              "      <td>1132977023893139456</td>\n",
              "      <td>3eyedbran</td>\n",
              "      <td>Bran - 3 Eyed Raven</td>\n",
              "      <td>NaN</td>\n",
              "      <td>2019-05-27 11:49:06+00</td>\n",
              "      <td>0</td>\n",
              "      <td>2</td>\n",
              "      <td>1</td>\n",
              "      <td>another test tweet caught stream bitcoin</td>\n",
              "      <td>en</td>\n",
              "      <td>2019-05-27</td>\n",
              "    </tr>\n",
              "    <tr>\n",
              "      <th>3</th>\n",
              "      <td>1132977089089556481</td>\n",
              "      <td>DetroitCrypto</td>\n",
              "      <td>J. Scardina</td>\n",
              "      <td>NaN</td>\n",
              "      <td>2019-05-27 11:49:22+00</td>\n",
              "      <td>0</td>\n",
              "      <td>0</td>\n",
              "      <td>0</td>\n",
              "      <td>current crypto prices btc usd eth usd ltc usd ...</td>\n",
              "      <td>en</td>\n",
              "      <td>2019-05-27</td>\n",
              "    </tr>\n",
              "    <tr>\n",
              "      <th>4</th>\n",
              "      <td>1132977092340191232</td>\n",
              "      <td>mmursaleen72</td>\n",
              "      <td>Muhammad Mursaleen</td>\n",
              "      <td>NaN</td>\n",
              "      <td>2019-05-27 11:49:23+00</td>\n",
              "      <td>0</td>\n",
              "      <td>0</td>\n",
              "      <td>0</td>\n",
              "      <td>spiv nosar baz bitcoin asset amp currency co f...</td>\n",
              "      <td>en</td>\n",
              "      <td>2019-05-27</td>\n",
              "    </tr>\n",
              "    <tr>\n",
              "      <th>6</th>\n",
              "      <td>1132977101638897665</td>\n",
              "      <td>evilrobotted</td>\n",
              "      <td>evilrobotted</td>\n",
              "      <td>NaN</td>\n",
              "      <td>2019-05-27 11:49:25+00</td>\n",
              "      <td>0</td>\n",
              "      <td>0</td>\n",
              "      <td>0</td>\n",
              "      <td>nwoodfine building real bitcoin sv building br...</td>\n",
              "      <td>en</td>\n",
              "      <td>2019-05-27</td>\n",
              "    </tr>\n",
              "  </tbody>\n",
              "</table>\n",
              "</div>"
            ],
            "text/plain": [
              "                    id           user  ... lang  Date_Time\n",
              "1  1132977073402736640      bitcointe  ...   en 2019-05-27\n",
              "2  1132977023893139456      3eyedbran  ...   en 2019-05-27\n",
              "3  1132977089089556481  DetroitCrypto  ...   en 2019-05-27\n",
              "4  1132977092340191232   mmursaleen72  ...   en 2019-05-27\n",
              "6  1132977101638897665   evilrobotted  ...   en 2019-05-27\n",
              "\n",
              "[5 rows x 11 columns]"
            ]
          },
          "metadata": {
            "tags": []
          },
          "execution_count": 50
        }
      ]
    },
    {
      "cell_type": "code",
      "metadata": {
        "colab": {
          "base_uri": "https://localhost:8080/"
        },
        "id": "hsbGVxwSusHS",
        "outputId": "8c2b3318-9d5c-4f61-d5ce-b884d703bf9d"
      },
      "source": [
        "len(df)"
      ],
      "execution_count": 40,
      "outputs": [
        {
          "output_type": "execute_result",
          "data": {
            "text/plain": [
              "11926"
            ]
          },
          "metadata": {
            "tags": []
          },
          "execution_count": 40
        }
      ]
    },
    {
      "cell_type": "code",
      "metadata": {
        "colab": {
          "base_uri": "https://localhost:8080/",
          "height": 295
        },
        "id": "Xnv69ieE20wJ",
        "outputId": "e9a40fb2-2155-431d-c45f-d41dcb123dec"
      },
      "source": [
        "!pip install nltk\n",
        "!pip install re\n",
        "\n",
        "import nltk\n",
        "import re\n",
        "nltk.download(\"stopwords\")\n",
        "from nltk.corpus import stopwords\n",
        "\n",
        "def text_cleaning(text):\n",
        "    forbidden_words = set(stopwords.words('english'))\n",
        "    text = ' '.join(text.split('.'))\n",
        "    text = re.sub('\\/',' ',text)\n",
        "    text = text.strip('\\'\"')\n",
        "    text = re.sub(r'@([^\\s]+)',r'\\1',text)\n",
        "    text = re.sub(r'\\\\',' ',text)\n",
        "    text = text.lower()\n",
        "    text = re.sub('[\\s]+', ' ', text)\n",
        "    text = re.sub(r'#([^\\s]+)', r'\\1', text)\n",
        "    text = re.sub('((www\\.[^\\s]+)|(https?://[^\\s]+))',' ',text)\n",
        "    text = re.sub(r'((http)\\S+)','',text)\n",
        "    text = re.sub(r'\\s+', ' ', re.sub('[^A-Za-z]', ' ', text.strip().lower())).strip()\n",
        "    text = re.sub(r'\\W+', ' ', text.strip().lower()).strip()\n",
        "    text = [word for word in text.split() if word not in forbidden_words]\n",
        "    return ' '.join(text)\n",
        "\n",
        "df['text'] = df['text'].apply(lambda text: text_cleaning(text))\n",
        "df.sample(3)"
      ],
      "execution_count": 47,
      "outputs": [
        {
          "output_type": "stream",
          "text": [
            "Requirement already satisfied: nltk in /usr/local/lib/python3.7/dist-packages (3.2.5)\n",
            "Requirement already satisfied: six in /usr/local/lib/python3.7/dist-packages (from nltk) (1.15.0)\n",
            "\u001b[31mERROR: Could not find a version that satisfies the requirement re (from versions: none)\u001b[0m\n",
            "\u001b[31mERROR: No matching distribution found for re\u001b[0m\n",
            "[nltk_data] Downloading package stopwords to /root/nltk_data...\n",
            "[nltk_data]   Package stopwords is already up-to-date!\n"
          ],
          "name": "stdout"
        },
        {
          "output_type": "execute_result",
          "data": {
            "text/html": [
              "<div>\n",
              "<style scoped>\n",
              "    .dataframe tbody tr th:only-of-type {\n",
              "        vertical-align: middle;\n",
              "    }\n",
              "\n",
              "    .dataframe tbody tr th {\n",
              "        vertical-align: top;\n",
              "    }\n",
              "\n",
              "    .dataframe thead th {\n",
              "        text-align: right;\n",
              "    }\n",
              "</style>\n",
              "<table border=\"1\" class=\"dataframe\">\n",
              "  <thead>\n",
              "    <tr style=\"text-align: right;\">\n",
              "      <th></th>\n",
              "      <th>id</th>\n",
              "      <th>user</th>\n",
              "      <th>fullname</th>\n",
              "      <th>url</th>\n",
              "      <th>timestamp</th>\n",
              "      <th>replies</th>\n",
              "      <th>likes</th>\n",
              "      <th>retweets</th>\n",
              "      <th>text</th>\n",
              "      <th>lang</th>\n",
              "      <th>Date_Time</th>\n",
              "    </tr>\n",
              "  </thead>\n",
              "  <tbody>\n",
              "    <tr>\n",
              "      <th>5540</th>\n",
              "      <td>1126830222622564357</td>\n",
              "      <td>bitcoinmate</td>\n",
              "      <td>Bitcoin Mate (BTC News)</td>\n",
              "      <td>NaN</td>\n",
              "      <td>2019-05-10 10:43:55+00</td>\n",
              "      <td>0</td>\n",
              "      <td>0</td>\n",
              "      <td>0</td>\n",
              "      <td>crypto wallet abra adds app support thousands ...</td>\n",
              "      <td>en</td>\n",
              "      <td>2019-05-10</td>\n",
              "    </tr>\n",
              "    <tr>\n",
              "      <th>4488</th>\n",
              "      <td>1126796716378918912</td>\n",
              "      <td>cryptoJunky6b</td>\n",
              "      <td>cryptoJunky</td>\n",
              "      <td>NaN</td>\n",
              "      <td>2019-05-10 10:28:38+00</td>\n",
              "      <td>0</td>\n",
              "      <td>5</td>\n",
              "      <td>1</td>\n",
              "      <td>alts good morning woke checked crypto first ki...</td>\n",
              "      <td>en</td>\n",
              "      <td>2019-05-10</td>\n",
              "    </tr>\n",
              "    <tr>\n",
              "      <th>14638</th>\n",
              "      <td>1126864479835295744</td>\n",
              "      <td>neoprice_</td>\n",
              "      <td>NEO Price</td>\n",
              "      <td>NaN</td>\n",
              "      <td>2019-05-10 13:00:02+00</td>\n",
              "      <td>0</td>\n",
              "      <td>0</td>\n",
              "      <td>0</td>\n",
              "      <td>neo worth btc neo co ifl bedsrv</td>\n",
              "      <td>en</td>\n",
              "      <td>2019-05-10</td>\n",
              "    </tr>\n",
              "  </tbody>\n",
              "</table>\n",
              "</div>"
            ],
            "text/plain": [
              "                        id           user  ... lang   Date_Time\n",
              "5540   1126830222622564357    bitcoinmate  ...   en  2019-05-10\n",
              "4488   1126796716378918912  cryptoJunky6b  ...   en  2019-05-10\n",
              "14638  1126864479835295744      neoprice_  ...   en  2019-05-10\n",
              "\n",
              "[3 rows x 11 columns]"
            ]
          },
          "metadata": {
            "tags": []
          },
          "execution_count": 47
        }
      ]
    },
    {
      "cell_type": "code",
      "metadata": {
        "id": "HlnjzCS54SoX"
      },
      "source": [
        "df_j = pd.merge(df, df_btc, how='left', on = 'Date_Time')"
      ],
      "execution_count": 56,
      "outputs": []
    },
    {
      "cell_type": "code",
      "metadata": {
        "colab": {
          "base_uri": "https://localhost:8080/",
          "height": 666
        },
        "id": "o1dwao0v_8iz",
        "outputId": "f501c9a9-8d07-4af4-ed81-67ca534fd19b"
      },
      "source": [
        "df_j.head()"
      ],
      "execution_count": 59,
      "outputs": [
        {
          "output_type": "execute_result",
          "data": {
            "text/html": [
              "<div>\n",
              "<style scoped>\n",
              "    .dataframe tbody tr th:only-of-type {\n",
              "        vertical-align: middle;\n",
              "    }\n",
              "\n",
              "    .dataframe tbody tr th {\n",
              "        vertical-align: top;\n",
              "    }\n",
              "\n",
              "    .dataframe thead th {\n",
              "        text-align: right;\n",
              "    }\n",
              "</style>\n",
              "<table border=\"1\" class=\"dataframe\">\n",
              "  <thead>\n",
              "    <tr style=\"text-align: right;\">\n",
              "      <th></th>\n",
              "      <th>id</th>\n",
              "      <th>user</th>\n",
              "      <th>fullname</th>\n",
              "      <th>url</th>\n",
              "      <th>timestamp</th>\n",
              "      <th>replies</th>\n",
              "      <th>likes</th>\n",
              "      <th>retweets</th>\n",
              "      <th>text</th>\n",
              "      <th>lang</th>\n",
              "      <th>Date_Time</th>\n",
              "      <th>Currency</th>\n",
              "      <th>Date</th>\n",
              "      <th>Closing Price (USD)</th>\n",
              "      <th>24h Open (USD)</th>\n",
              "      <th>24h High (USD)</th>\n",
              "      <th>24h Low (USD)</th>\n",
              "    </tr>\n",
              "  </thead>\n",
              "  <tbody>\n",
              "    <tr>\n",
              "      <th>0</th>\n",
              "      <td>1132977073402736640</td>\n",
              "      <td>bitcointe</td>\n",
              "      <td>Bitcointe</td>\n",
              "      <td>NaN</td>\n",
              "      <td>2019-05-27 11:49:18+00</td>\n",
              "      <td>0</td>\n",
              "      <td>0</td>\n",
              "      <td>0</td>\n",
              "      <td>cardano digitize currencies eos co ktkqkebls r...</td>\n",
              "      <td>en</td>\n",
              "      <td>2019-05-27</td>\n",
              "      <td>BTC</td>\n",
              "      <td>2019-05-27</td>\n",
              "      <td>8800.346606</td>\n",
              "      <td>8653.151802</td>\n",
              "      <td>8937.246491</td>\n",
              "      <td>8621.572192</td>\n",
              "    </tr>\n",
              "    <tr>\n",
              "      <th>1</th>\n",
              "      <td>1132977023893139456</td>\n",
              "      <td>3eyedbran</td>\n",
              "      <td>Bran - 3 Eyed Raven</td>\n",
              "      <td>NaN</td>\n",
              "      <td>2019-05-27 11:49:06+00</td>\n",
              "      <td>0</td>\n",
              "      <td>2</td>\n",
              "      <td>1</td>\n",
              "      <td>another test tweet caught stream bitcoin</td>\n",
              "      <td>en</td>\n",
              "      <td>2019-05-27</td>\n",
              "      <td>BTC</td>\n",
              "      <td>2019-05-27</td>\n",
              "      <td>8800.346606</td>\n",
              "      <td>8653.151802</td>\n",
              "      <td>8937.246491</td>\n",
              "      <td>8621.572192</td>\n",
              "    </tr>\n",
              "    <tr>\n",
              "      <th>2</th>\n",
              "      <td>1132977089089556481</td>\n",
              "      <td>DetroitCrypto</td>\n",
              "      <td>J. Scardina</td>\n",
              "      <td>NaN</td>\n",
              "      <td>2019-05-27 11:49:22+00</td>\n",
              "      <td>0</td>\n",
              "      <td>0</td>\n",
              "      <td>0</td>\n",
              "      <td>current crypto prices btc usd eth usd ltc usd ...</td>\n",
              "      <td>en</td>\n",
              "      <td>2019-05-27</td>\n",
              "      <td>BTC</td>\n",
              "      <td>2019-05-27</td>\n",
              "      <td>8800.346606</td>\n",
              "      <td>8653.151802</td>\n",
              "      <td>8937.246491</td>\n",
              "      <td>8621.572192</td>\n",
              "    </tr>\n",
              "    <tr>\n",
              "      <th>3</th>\n",
              "      <td>1132977092340191232</td>\n",
              "      <td>mmursaleen72</td>\n",
              "      <td>Muhammad Mursaleen</td>\n",
              "      <td>NaN</td>\n",
              "      <td>2019-05-27 11:49:23+00</td>\n",
              "      <td>0</td>\n",
              "      <td>0</td>\n",
              "      <td>0</td>\n",
              "      <td>spiv nosar baz bitcoin asset amp currency co f...</td>\n",
              "      <td>en</td>\n",
              "      <td>2019-05-27</td>\n",
              "      <td>BTC</td>\n",
              "      <td>2019-05-27</td>\n",
              "      <td>8800.346606</td>\n",
              "      <td>8653.151802</td>\n",
              "      <td>8937.246491</td>\n",
              "      <td>8621.572192</td>\n",
              "    </tr>\n",
              "    <tr>\n",
              "      <th>4</th>\n",
              "      <td>1132977101638897665</td>\n",
              "      <td>evilrobotted</td>\n",
              "      <td>evilrobotted</td>\n",
              "      <td>NaN</td>\n",
              "      <td>2019-05-27 11:49:25+00</td>\n",
              "      <td>0</td>\n",
              "      <td>0</td>\n",
              "      <td>0</td>\n",
              "      <td>nwoodfine building real bitcoin sv building br...</td>\n",
              "      <td>en</td>\n",
              "      <td>2019-05-27</td>\n",
              "      <td>BTC</td>\n",
              "      <td>2019-05-27</td>\n",
              "      <td>8800.346606</td>\n",
              "      <td>8653.151802</td>\n",
              "      <td>8937.246491</td>\n",
              "      <td>8621.572192</td>\n",
              "    </tr>\n",
              "  </tbody>\n",
              "</table>\n",
              "</div>"
            ],
            "text/plain": [
              "                    id           user  ... 24h High (USD) 24h Low (USD)\n",
              "0  1132977073402736640      bitcointe  ...    8937.246491   8621.572192\n",
              "1  1132977023893139456      3eyedbran  ...    8937.246491   8621.572192\n",
              "2  1132977089089556481  DetroitCrypto  ...    8937.246491   8621.572192\n",
              "3  1132977092340191232   mmursaleen72  ...    8937.246491   8621.572192\n",
              "4  1132977101638897665   evilrobotted  ...    8937.246491   8621.572192\n",
              "\n",
              "[5 rows x 17 columns]"
            ]
          },
          "metadata": {
            "tags": []
          },
          "execution_count": 59
        }
      ]
    },
    {
      "cell_type": "code",
      "metadata": {
        "colab": {
          "base_uri": "https://localhost:8080/",
          "height": 736
        },
        "id": "bHe8u131AKkC",
        "outputId": "b30ada0b-8abe-4aef-f591-f910328de33f"
      },
      "source": [
        "from textblob import TextBlob\n",
        "\n",
        "def sentiment(txt):\n",
        "    return TextBlob(txt).sentiment.polarity\n",
        "\n",
        "df_j['sentiment'] = df_j['text'].apply(lambda txt: sentiment(txt))      # new column of sentiment\n",
        "\n",
        "df_j.sample(10)"
      ],
      "execution_count": 60,
      "outputs": [
        {
          "output_type": "execute_result",
          "data": {
            "text/html": [
              "<div>\n",
              "<style scoped>\n",
              "    .dataframe tbody tr th:only-of-type {\n",
              "        vertical-align: middle;\n",
              "    }\n",
              "\n",
              "    .dataframe tbody tr th {\n",
              "        vertical-align: top;\n",
              "    }\n",
              "\n",
              "    .dataframe thead th {\n",
              "        text-align: right;\n",
              "    }\n",
              "</style>\n",
              "<table border=\"1\" class=\"dataframe\">\n",
              "  <thead>\n",
              "    <tr style=\"text-align: right;\">\n",
              "      <th></th>\n",
              "      <th>id</th>\n",
              "      <th>user</th>\n",
              "      <th>fullname</th>\n",
              "      <th>url</th>\n",
              "      <th>timestamp</th>\n",
              "      <th>replies</th>\n",
              "      <th>likes</th>\n",
              "      <th>retweets</th>\n",
              "      <th>text</th>\n",
              "      <th>lang</th>\n",
              "      <th>Date_Time</th>\n",
              "      <th>Currency</th>\n",
              "      <th>Date</th>\n",
              "      <th>Closing Price (USD)</th>\n",
              "      <th>24h Open (USD)</th>\n",
              "      <th>24h High (USD)</th>\n",
              "      <th>24h Low (USD)</th>\n",
              "      <th>sentiment</th>\n",
              "    </tr>\n",
              "  </thead>\n",
              "  <tbody>\n",
              "    <tr>\n",
              "      <th>3641</th>\n",
              "      <td>1126827139695824897</td>\n",
              "      <td>AlfathNafal</td>\n",
              "      <td>Crypto Signalist FRIEND</td>\n",
              "      <td>NaN</td>\n",
              "      <td>2019-05-10 10:31:40+00</td>\n",
              "      <td>0</td>\n",
              "      <td>0</td>\n",
              "      <td>0</td>\n",
              "      <td>rcn btc touched target achieved half day profi...</td>\n",
              "      <td>en</td>\n",
              "      <td>2019-05-10</td>\n",
              "      <td>BTC</td>\n",
              "      <td>2019-05-10</td>\n",
              "      <td>6387.829450</td>\n",
              "      <td>6159.689544</td>\n",
              "      <td>6426.831207</td>\n",
              "      <td>6098.157976</td>\n",
              "      <td>0.116667</td>\n",
              "    </tr>\n",
              "    <tr>\n",
              "      <th>1510</th>\n",
              "      <td>1132982336960770048</td>\n",
              "      <td>jilatarduna</td>\n",
              "      <td>Leslie Fedorenko</td>\n",
              "      <td>NaN</td>\n",
              "      <td>2019-05-27 12:10:13+00</td>\n",
              "      <td>0</td>\n",
              "      <td>0</td>\n",
              "      <td>0</td>\n",
              "      <td>along amazing rewards users obx also plan brin...</td>\n",
              "      <td>en</td>\n",
              "      <td>2019-05-27</td>\n",
              "      <td>BTC</td>\n",
              "      <td>2019-05-27</td>\n",
              "      <td>8800.346606</td>\n",
              "      <td>8653.151802</td>\n",
              "      <td>8937.246491</td>\n",
              "      <td>8621.572192</td>\n",
              "      <td>0.300000</td>\n",
              "    </tr>\n",
              "    <tr>\n",
              "      <th>7651</th>\n",
              "      <td>1126847321407406081</td>\n",
              "      <td>TheCryptoPadawa</td>\n",
              "      <td>TheCryptoPadawan</td>\n",
              "      <td>NaN</td>\n",
              "      <td>2019-05-10 11:51:51+00</td>\n",
              "      <td>0</td>\n",
              "      <td>0</td>\n",
              "      <td>0</td>\n",
              "      <td>bitfinex users unable withdraw funds million d...</td>\n",
              "      <td>en</td>\n",
              "      <td>2019-05-10</td>\n",
              "      <td>BTC</td>\n",
              "      <td>2019-05-10</td>\n",
              "      <td>6387.829450</td>\n",
              "      <td>6159.689544</td>\n",
              "      <td>6426.831207</td>\n",
              "      <td>6098.157976</td>\n",
              "      <td>-0.550000</td>\n",
              "    </tr>\n",
              "    <tr>\n",
              "      <th>4723</th>\n",
              "      <td>1126310803748028417</td>\n",
              "      <td>kerooke</td>\n",
              "      <td>Kevin Rooke</td>\n",
              "      <td>NaN</td>\n",
              "      <td>2019-05-09 00:19:56+00</td>\n",
              "      <td>13</td>\n",
              "      <td>217</td>\n",
              "      <td>57</td>\n",
              "      <td>bitcoin first hit usd oct bitcoin back changed...</td>\n",
              "      <td>en</td>\n",
              "      <td>2019-05-09</td>\n",
              "      <td>BTC</td>\n",
              "      <td>2019-05-09</td>\n",
              "      <td>6159.685902</td>\n",
              "      <td>5932.446285</td>\n",
              "      <td>6159.685902</td>\n",
              "      <td>5845.650918</td>\n",
              "      <td>0.125000</td>\n",
              "    </tr>\n",
              "    <tr>\n",
              "      <th>4460</th>\n",
              "      <td>1126830897418964992</td>\n",
              "      <td>CompumatrixUS</td>\n",
              "      <td>Compumatrix</td>\n",
              "      <td>NaN</td>\n",
              "      <td>2019-05-10 10:46:36+00</td>\n",
              "      <td>0</td>\n",
              "      <td>0</td>\n",
              "      <td>0</td>\n",
              "      <td>latest compumatrix today co vocxxp n thanks sa...</td>\n",
              "      <td>en</td>\n",
              "      <td>2019-05-10</td>\n",
              "      <td>BTC</td>\n",
              "      <td>2019-05-10</td>\n",
              "      <td>6387.829450</td>\n",
              "      <td>6159.689544</td>\n",
              "      <td>6426.831207</td>\n",
              "      <td>6098.157976</td>\n",
              "      <td>0.350000</td>\n",
              "    </tr>\n",
              "    <tr>\n",
              "      <th>7638</th>\n",
              "      <td>1126845925496897539</td>\n",
              "      <td>SandraHappyOd</td>\n",
              "      <td>Sandra</td>\n",
              "      <td>NaN</td>\n",
              "      <td>2019-05-10 11:46:19+00</td>\n",
              "      <td>0</td>\n",
              "      <td>0</td>\n",
              "      <td>0</td>\n",
              "      <td>qkc blockchain btc eth blockchaintechnology</td>\n",
              "      <td>en</td>\n",
              "      <td>2019-05-10</td>\n",
              "      <td>BTC</td>\n",
              "      <td>2019-05-10</td>\n",
              "      <td>6387.829450</td>\n",
              "      <td>6159.689544</td>\n",
              "      <td>6426.831207</td>\n",
              "      <td>6098.157976</td>\n",
              "      <td>0.000000</td>\n",
              "    </tr>\n",
              "    <tr>\n",
              "      <th>11643</th>\n",
              "      <td>1126864476702167040</td>\n",
              "      <td>NapalmDeathBot</td>\n",
              "      <td>Napalm Death Bot</td>\n",
              "      <td>NaN</td>\n",
              "      <td>2019-05-10 13:00:02+00</td>\n",
              "      <td>0</td>\n",
              "      <td>0</td>\n",
              "      <td>0</td>\n",
              "      <td>suffer bitcoin hit time remotely toggle rig ho...</td>\n",
              "      <td>en</td>\n",
              "      <td>2019-05-10</td>\n",
              "      <td>BTC</td>\n",
              "      <td>2019-05-10</td>\n",
              "      <td>6387.829450</td>\n",
              "      <td>6159.689544</td>\n",
              "      <td>6426.831207</td>\n",
              "      <td>6098.157976</td>\n",
              "      <td>-0.100000</td>\n",
              "    </tr>\n",
              "    <tr>\n",
              "      <th>12622</th>\n",
              "      <td>1126868469629313024</td>\n",
              "      <td>GayleU64</td>\n",
              "      <td>Gayle Ullmer</td>\n",
              "      <td>NaN</td>\n",
              "      <td>2019-05-10 13:15:54+00</td>\n",
              "      <td>0</td>\n",
              "      <td>0</td>\n",
              "      <td>0</td>\n",
              "      <td>dearmetenyearsago something called bitcoin lau...</td>\n",
              "      <td>en</td>\n",
              "      <td>2019-05-10</td>\n",
              "      <td>BTC</td>\n",
              "      <td>2019-05-10</td>\n",
              "      <td>6387.829450</td>\n",
              "      <td>6159.689544</td>\n",
              "      <td>6426.831207</td>\n",
              "      <td>6098.157976</td>\n",
              "      <td>0.300000</td>\n",
              "    </tr>\n",
              "    <tr>\n",
              "      <th>8963</th>\n",
              "      <td>1127277847725264896</td>\n",
              "      <td>TheePossibility</td>\n",
              "      <td>Imri</td>\n",
              "      <td>NaN</td>\n",
              "      <td>2019-05-11 16:22:37+00</td>\n",
              "      <td>0</td>\n",
              "      <td>0</td>\n",
              "      <td>0</td>\n",
              "      <td>smh</td>\n",
              "      <td>en</td>\n",
              "      <td>2019-05-11</td>\n",
              "      <td>BTC</td>\n",
              "      <td>2019-05-11</td>\n",
              "      <td>7254.805536</td>\n",
              "      <td>6347.706737</td>\n",
              "      <td>7337.322181</td>\n",
              "      <td>6346.331889</td>\n",
              "      <td>0.000000</td>\n",
              "    </tr>\n",
              "    <tr>\n",
              "      <th>3638</th>\n",
              "      <td>1126827114915880961</td>\n",
              "      <td>tnwrss</td>\n",
              "      <td>TNWRSS</td>\n",
              "      <td>NaN</td>\n",
              "      <td>2019-05-10 10:31:34+00</td>\n",
              "      <td>0</td>\n",
              "      <td>0</td>\n",
              "      <td>0</td>\n",
              "      <td>francis pouliot separates bitcoin blockchain c...</td>\n",
              "      <td>en</td>\n",
              "      <td>2019-05-10</td>\n",
              "      <td>BTC</td>\n",
              "      <td>2019-05-10</td>\n",
              "      <td>6387.829450</td>\n",
              "      <td>6159.689544</td>\n",
              "      <td>6426.831207</td>\n",
              "      <td>6098.157976</td>\n",
              "      <td>0.000000</td>\n",
              "    </tr>\n",
              "  </tbody>\n",
              "</table>\n",
              "</div>"
            ],
            "text/plain": [
              "                        id             user  ... 24h Low (USD) sentiment\n",
              "3641   1126827139695824897      AlfathNafal  ...   6098.157976  0.116667\n",
              "1510   1132982336960770048      jilatarduna  ...   8621.572192  0.300000\n",
              "7651   1126847321407406081  TheCryptoPadawa  ...   6098.157976 -0.550000\n",
              "4723   1126310803748028417          kerooke  ...   5845.650918  0.125000\n",
              "4460   1126830897418964992    CompumatrixUS  ...   6098.157976  0.350000\n",
              "7638   1126845925496897539    SandraHappyOd  ...   6098.157976  0.000000\n",
              "11643  1126864476702167040   NapalmDeathBot  ...   6098.157976 -0.100000\n",
              "12622  1126868469629313024         GayleU64  ...   6098.157976  0.300000\n",
              "8963   1127277847725264896  TheePossibility  ...   6346.331889  0.000000\n",
              "3638   1126827114915880961           tnwrss  ...   6098.157976  0.000000\n",
              "\n",
              "[10 rows x 18 columns]"
            ]
          },
          "metadata": {
            "tags": []
          },
          "execution_count": 60
        }
      ]
    },
    {
      "cell_type": "code",
      "metadata": {
        "colab": {
          "base_uri": "https://localhost:8080/"
        },
        "id": "SeUDLxH3BdsC",
        "outputId": "a05c6b6d-47ea-4be4-f8f2-c0236c5566d4"
      },
      "source": [
        "from numpy.random import RandomState\n",
        "\n",
        "rng = RandomState()\n",
        "train_data = df_j.sample(frac=0.8, random_state=rng)\n",
        "test_data = df_j.loc[~df_j.index.isin(train_data.index)]"
      ],
      "execution_count": 61,
      "outputs": [
        {
          "output_type": "stream",
          "text": [
            "La taille des données d entrinement: 12796\n",
            "La taille des données de test: 3199\n"
          ],
          "name": "stdout"
        }
      ]
    },
    {
      "cell_type": "code",
      "metadata": {
        "id": "Wi2VihRrDf9v"
      },
      "source": [
        "max_features = 20000  # Only consider the top 20k words\n",
        "maxlen = 200"
      ],
      "execution_count": 77,
      "outputs": []
    },
    {
      "cell_type": "code",
      "metadata": {
        "colab": {
          "base_uri": "https://localhost:8080/",
          "height": 855
        },
        "id": "vQcOw97BDiCv",
        "outputId": "e62d04bd-0b1c-4520-ee75-ed1c3dcd01a1"
      },
      "source": [
        "train_data['flag'] = 'TRAIN'\n",
        "test_data['flag'] = 'TEST'\n",
        "\n",
        "\n",
        "total_docs = pd.concat([train_data,test_data],axis = 0,ignore_index = True)\n",
        "phrases = total_docs['text'].tolist()\n",
        "\n",
        "total_docs.sample(10)"
      ],
      "execution_count": 66,
      "outputs": [
        {
          "output_type": "stream",
          "text": [
            "/usr/local/lib/python3.7/dist-packages/ipykernel_launcher.py:2: SettingWithCopyWarning: \n",
            "A value is trying to be set on a copy of a slice from a DataFrame.\n",
            "Try using .loc[row_indexer,col_indexer] = value instead\n",
            "\n",
            "See the caveats in the documentation: https://pandas.pydata.org/pandas-docs/stable/user_guide/indexing.html#returning-a-view-versus-a-copy\n",
            "  \n"
          ],
          "name": "stderr"
        },
        {
          "output_type": "execute_result",
          "data": {
            "text/html": [
              "<div>\n",
              "<style scoped>\n",
              "    .dataframe tbody tr th:only-of-type {\n",
              "        vertical-align: middle;\n",
              "    }\n",
              "\n",
              "    .dataframe tbody tr th {\n",
              "        vertical-align: top;\n",
              "    }\n",
              "\n",
              "    .dataframe thead th {\n",
              "        text-align: right;\n",
              "    }\n",
              "</style>\n",
              "<table border=\"1\" class=\"dataframe\">\n",
              "  <thead>\n",
              "    <tr style=\"text-align: right;\">\n",
              "      <th></th>\n",
              "      <th>id</th>\n",
              "      <th>user</th>\n",
              "      <th>fullname</th>\n",
              "      <th>url</th>\n",
              "      <th>timestamp</th>\n",
              "      <th>replies</th>\n",
              "      <th>likes</th>\n",
              "      <th>retweets</th>\n",
              "      <th>text</th>\n",
              "      <th>lang</th>\n",
              "      <th>Date_Time</th>\n",
              "      <th>Currency</th>\n",
              "      <th>Date</th>\n",
              "      <th>Closing Price (USD)</th>\n",
              "      <th>24h Open (USD)</th>\n",
              "      <th>24h High (USD)</th>\n",
              "      <th>24h Low (USD)</th>\n",
              "      <th>sentiment</th>\n",
              "      <th>flag</th>\n",
              "    </tr>\n",
              "  </thead>\n",
              "  <tbody>\n",
              "    <tr>\n",
              "      <th>5108</th>\n",
              "      <td>1126855830219845632</td>\n",
              "      <td>CharlieIsBig</td>\n",
              "      <td>Charlie Browner</td>\n",
              "      <td>NaN</td>\n",
              "      <td>2019-05-10 12:25:40+00</td>\n",
              "      <td>0</td>\n",
              "      <td>0</td>\n",
              "      <td>0</td>\n",
              "      <td>justinsuntron binance cz binance hero give btc...</td>\n",
              "      <td>en</td>\n",
              "      <td>2019-05-10</td>\n",
              "      <td>BTC</td>\n",
              "      <td>2019-05-10</td>\n",
              "      <td>6387.829450</td>\n",
              "      <td>6159.689544</td>\n",
              "      <td>6426.831207</td>\n",
              "      <td>6098.157976</td>\n",
              "      <td>0.500000</td>\n",
              "      <td>TRAIN</td>\n",
              "    </tr>\n",
              "    <tr>\n",
              "      <th>10734</th>\n",
              "      <td>1126861571899252738</td>\n",
              "      <td>wanderingsadhak</td>\n",
              "      <td>the wandering sadhaka</td>\n",
              "      <td>NaN</td>\n",
              "      <td>2019-05-10 12:48:29+00</td>\n",
              "      <td>0</td>\n",
              "      <td>0</td>\n",
              "      <td>0</td>\n",
              "      <td>possible ban btc bitcoin congress rep sherman ...</td>\n",
              "      <td>en</td>\n",
              "      <td>2019-05-10</td>\n",
              "      <td>BTC</td>\n",
              "      <td>2019-05-10</td>\n",
              "      <td>6387.829450</td>\n",
              "      <td>6159.689544</td>\n",
              "      <td>6426.831207</td>\n",
              "      <td>6098.157976</td>\n",
              "      <td>-0.050000</td>\n",
              "      <td>TRAIN</td>\n",
              "    </tr>\n",
              "    <tr>\n",
              "      <th>2328</th>\n",
              "      <td>1126830542073286656</td>\n",
              "      <td>BruceDayne</td>\n",
              "      <td>Khareem Sudlow</td>\n",
              "      <td>NaN</td>\n",
              "      <td>2019-05-10 10:45:11+00</td>\n",
              "      <td>0</td>\n",
              "      <td>0</td>\n",
              "      <td>0</td>\n",
              "      <td>cryptocurrency btcnews binance co ahyq kbo jpm...</td>\n",
              "      <td>en</td>\n",
              "      <td>2019-05-10</td>\n",
              "      <td>BTC</td>\n",
              "      <td>2019-05-10</td>\n",
              "      <td>6387.829450</td>\n",
              "      <td>6159.689544</td>\n",
              "      <td>6426.831207</td>\n",
              "      <td>6098.157976</td>\n",
              "      <td>0.000000</td>\n",
              "      <td>TRAIN</td>\n",
              "    </tr>\n",
              "    <tr>\n",
              "      <th>5604</th>\n",
              "      <td>1116850088347746305</td>\n",
              "      <td>AfricanCoinExch</td>\n",
              "      <td>African Coin Exchange</td>\n",
              "      <td>NaN</td>\n",
              "      <td>2019-04-12 23:46:25+00</td>\n",
              "      <td>0</td>\n",
              "      <td>65</td>\n",
              "      <td>55</td>\n",
              "      <td>africancoinexchange cryptocurrency buybtc cryp...</td>\n",
              "      <td>en</td>\n",
              "      <td>2019-04-12</td>\n",
              "      <td>BTC</td>\n",
              "      <td>2019-04-12</td>\n",
              "      <td>5077.515864</td>\n",
              "      <td>5042.402341</td>\n",
              "      <td>5098.606039</td>\n",
              "      <td>4894.733180</td>\n",
              "      <td>0.000000</td>\n",
              "      <td>TRAIN</td>\n",
              "    </tr>\n",
              "    <tr>\n",
              "      <th>12779</th>\n",
              "      <td>1126860842702602240</td>\n",
              "      <td>deYummyEvents</td>\n",
              "      <td>deYummy Events</td>\n",
              "      <td>NaN</td>\n",
              "      <td>2019-05-10 12:45:35+00</td>\n",
              "      <td>0</td>\n",
              "      <td>0</td>\n",
              "      <td>0</td>\n",
              "      <td>latest deyummy sexsational events co ctciugibc...</td>\n",
              "      <td>en</td>\n",
              "      <td>2019-05-10</td>\n",
              "      <td>BTC</td>\n",
              "      <td>2019-05-10</td>\n",
              "      <td>6387.829450</td>\n",
              "      <td>6159.689544</td>\n",
              "      <td>6426.831207</td>\n",
              "      <td>6098.157976</td>\n",
              "      <td>0.350000</td>\n",
              "      <td>TRAIN</td>\n",
              "    </tr>\n",
              "    <tr>\n",
              "      <th>15630</th>\n",
              "      <td>1126875252380897280</td>\n",
              "      <td>PrettyHatMech</td>\n",
              "      <td>🄿🅁🄴🅃🅃🅈 🄷🄰🅃 🄼🄰🄲🄷🄸🄽🄴</td>\n",
              "      <td>NaN</td>\n",
              "      <td>2019-05-10 13:42:51+00</td>\n",
              "      <td>0</td>\n",
              "      <td>0</td>\n",
              "      <td>0</td>\n",
              "      <td>khaleesi rises rationalwiki use paypal going s...</td>\n",
              "      <td>en</td>\n",
              "      <td>2019-05-10</td>\n",
              "      <td>BTC</td>\n",
              "      <td>2019-05-10</td>\n",
              "      <td>6387.829450</td>\n",
              "      <td>6159.689544</td>\n",
              "      <td>6426.831207</td>\n",
              "      <td>6098.157976</td>\n",
              "      <td>0.000000</td>\n",
              "      <td>TEST</td>\n",
              "    </tr>\n",
              "    <tr>\n",
              "      <th>860</th>\n",
              "      <td>1126842347336105984</td>\n",
              "      <td>KevinEllah1</td>\n",
              "      <td>Kevin</td>\n",
              "      <td>NaN</td>\n",
              "      <td>2019-05-10 11:32:05+00</td>\n",
              "      <td>0</td>\n",
              "      <td>0</td>\n",
              "      <td>0</td>\n",
              "      <td>fidelity stick top cryptos like bitcoin xrp sa...</td>\n",
              "      <td>en</td>\n",
              "      <td>2019-05-10</td>\n",
              "      <td>BTC</td>\n",
              "      <td>2019-05-10</td>\n",
              "      <td>6387.829450</td>\n",
              "      <td>6159.689544</td>\n",
              "      <td>6426.831207</td>\n",
              "      <td>6098.157976</td>\n",
              "      <td>0.500000</td>\n",
              "      <td>TRAIN</td>\n",
              "    </tr>\n",
              "    <tr>\n",
              "      <th>8646</th>\n",
              "      <td>1126859813617410049</td>\n",
              "      <td>SusantiNuris</td>\n",
              "      <td>nuris susanti</td>\n",
              "      <td>NaN</td>\n",
              "      <td>2019-05-10 12:41:30+00</td>\n",
              "      <td>0</td>\n",
              "      <td>0</td>\n",
              "      <td>0</td>\n",
              "      <td>win pxb amp btc sign awesome contest co pl jnb...</td>\n",
              "      <td>en</td>\n",
              "      <td>2019-05-10</td>\n",
              "      <td>BTC</td>\n",
              "      <td>2019-05-10</td>\n",
              "      <td>6387.829450</td>\n",
              "      <td>6159.689544</td>\n",
              "      <td>6426.831207</td>\n",
              "      <td>6098.157976</td>\n",
              "      <td>0.658333</td>\n",
              "      <td>TRAIN</td>\n",
              "    </tr>\n",
              "    <tr>\n",
              "      <th>9646</th>\n",
              "      <td>1126869022744563712</td>\n",
              "      <td>MercadosBitcoin</td>\n",
              "      <td>Mercados ฿itcoin</td>\n",
              "      <td>NaN</td>\n",
              "      <td>2019-05-10 13:18:05+00</td>\n",
              "      <td>0</td>\n",
              "      <td>0</td>\n",
              "      <td>0</td>\n",
              "      <td>holding back bitcoin venezuela group investiga...</td>\n",
              "      <td>en</td>\n",
              "      <td>2019-05-10</td>\n",
              "      <td>BTC</td>\n",
              "      <td>2019-05-10</td>\n",
              "      <td>6387.829450</td>\n",
              "      <td>6159.689544</td>\n",
              "      <td>6426.831207</td>\n",
              "      <td>6098.157976</td>\n",
              "      <td>0.000000</td>\n",
              "      <td>TRAIN</td>\n",
              "    </tr>\n",
              "    <tr>\n",
              "      <th>14634</th>\n",
              "      <td>1126853279009218564</td>\n",
              "      <td>PlanetaryDice</td>\n",
              "      <td>Demogorgon</td>\n",
              "      <td>NaN</td>\n",
              "      <td>2019-05-10 12:15:32+00</td>\n",
              "      <td>0</td>\n",
              "      <td>0</td>\n",
              "      <td>0</td>\n",
              "      <td>marvinchebbi thecryptomonk scrolling elf power...</td>\n",
              "      <td>en</td>\n",
              "      <td>2019-05-10</td>\n",
              "      <td>BTC</td>\n",
              "      <td>2019-05-10</td>\n",
              "      <td>6387.829450</td>\n",
              "      <td>6159.689544</td>\n",
              "      <td>6426.831207</td>\n",
              "      <td>6098.157976</td>\n",
              "      <td>0.400000</td>\n",
              "      <td>TEST</td>\n",
              "    </tr>\n",
              "  </tbody>\n",
              "</table>\n",
              "</div>"
            ],
            "text/plain": [
              "                        id             user  ... sentiment   flag\n",
              "5108   1126855830219845632     CharlieIsBig  ...  0.500000  TRAIN\n",
              "10734  1126861571899252738  wanderingsadhak  ... -0.050000  TRAIN\n",
              "2328   1126830542073286656       BruceDayne  ...  0.000000  TRAIN\n",
              "5604   1116850088347746305  AfricanCoinExch  ...  0.000000  TRAIN\n",
              "12779  1126860842702602240    deYummyEvents  ...  0.350000  TRAIN\n",
              "15630  1126875252380897280    PrettyHatMech  ...  0.000000   TEST\n",
              "860    1126842347336105984      KevinEllah1  ...  0.500000  TRAIN\n",
              "8646   1126859813617410049     SusantiNuris  ...  0.658333  TRAIN\n",
              "9646   1126869022744563712  MercadosBitcoin  ...  0.000000  TRAIN\n",
              "14634  1126853279009218564    PlanetaryDice  ...  0.400000   TEST\n",
              "\n",
              "[10 rows x 19 columns]"
            ]
          },
          "metadata": {
            "tags": []
          },
          "execution_count": 66
        }
      ]
    },
    {
      "cell_type": "code",
      "metadata": {
        "id": "Xs7bEl0BDkdd"
      },
      "source": [
        "from keras.preprocessing.text import one_hot\n",
        "vocab_size = 50000\n",
        "encoded_phrases = [one_hot(d, vocab_size) for d in phrases]\n",
        "total_docs['Phrase'] = encoded_phrases\n",
        "train_data = total_docs[total_docs['flag'] == 'TRAIN']\n",
        "test_data = total_docs[total_docs['flag'] == 'TEST']\n",
        "x_train = train_data['Phrase']\n",
        "y_train = train_data['sentiment']\n",
        "x_val = test_data['Phrase']\n",
        "y_val = test_data['sentiment']"
      ],
      "execution_count": 76,
      "outputs": []
    },
    {
      "cell_type": "code",
      "metadata": {
        "id": "2G_-pZYOEhl-"
      },
      "source": [
        "x_train = keras.preprocessing.sequence.pad_sequences(x_train, maxlen=maxlen)\n",
        "x_val = keras.preprocessing.sequence.pad_sequences(x_val, maxlen=maxlen)"
      ],
      "execution_count": 78,
      "outputs": []
    },
    {
      "cell_type": "code",
      "metadata": {
        "colab": {
          "base_uri": "https://localhost:8080/"
        },
        "id": "0jGIaQ9tEk-8",
        "outputId": "2d2d89a6-a780-48b2-9b0c-88b2d94b79e8"
      },
      "source": [
        "model = Sequential()\n",
        "inputs = keras.Input(shape=(None,), dtype=\"int32\")\n",
        "\n",
        "# Embed each integer in a 128-dimensional vector\n",
        "model.add(inputs)\n",
        "model.add(Embedding(50000, 32))\n",
        "model.add(LSTM(32, return_sequences=True))\n",
        "model.add(LSTM(32))\n",
        "\n",
        "# Add a classifier\n",
        "model.add(Dense(1, activation=\"sigmoid\"))\n",
        "\n",
        "model.summary()"
      ],
      "execution_count": 79,
      "outputs": [
        {
          "output_type": "stream",
          "text": [
            "WARNING:tensorflow:Please add `keras.layers.InputLayer` instead of `keras.Input` to Sequential model. `keras.Input` is intended to be used by Functional model.\n",
            "Model: \"sequential\"\n",
            "_________________________________________________________________\n",
            "Layer (type)                 Output Shape              Param #   \n",
            "=================================================================\n",
            "embedding (Embedding)        (None, None, 32)          1600000   \n",
            "_________________________________________________________________\n",
            "lstm (LSTM)                  (None, None, 32)          8320      \n",
            "_________________________________________________________________\n",
            "lstm_1 (LSTM)                (None, 32)                8320      \n",
            "_________________________________________________________________\n",
            "dense (Dense)                (None, 1)                 33        \n",
            "=================================================================\n",
            "Total params: 1,616,673\n",
            "Trainable params: 1,616,673\n",
            "Non-trainable params: 0\n",
            "_________________________________________________________________\n"
          ],
          "name": "stdout"
        }
      ]
    },
    {
      "cell_type": "code",
      "metadata": {
        "colab": {
          "base_uri": "https://localhost:8080/"
        },
        "id": "LIPokJPzGcIc",
        "outputId": "27eaae2c-3aad-4dc8-f0da-5cfd0ad916ef"
      },
      "source": [
        "model.compile(optimizer='rmsprop', \n",
        "              loss='binary_crossentropy', \n",
        "              metrics=[\"accuracy\"])\n",
        "\n",
        "model.fit(x_train, y_train, \n",
        "          batch_size=128, \n",
        "          epochs=20, \n",
        "          validation_data=(x_val, y_val),\n",
        "          validation_steps=20)"
      ],
      "execution_count": 80,
      "outputs": [
        {
          "output_type": "stream",
          "text": [
            "Epoch 1/20\n",
            "100/100 [==============================] - 49s 280ms/step - loss: 0.3659 - accuracy: 0.4874 - val_loss: 0.2566 - val_accuracy: 0.4945\n",
            "Epoch 2/20\n",
            "100/100 [==============================] - 27s 269ms/step - loss: 0.1991 - accuracy: 0.4981 - val_loss: 0.1502 - val_accuracy: 0.4949\n",
            "Epoch 3/20\n",
            "100/100 [==============================] - 27s 265ms/step - loss: 0.0762 - accuracy: 0.4989 - val_loss: 0.0980 - val_accuracy: 0.4953\n",
            "Epoch 4/20\n",
            "100/100 [==============================] - 27s 267ms/step - loss: 0.0460 - accuracy: 0.4984 - val_loss: 0.6406 - val_accuracy: 0.4945\n",
            "Epoch 5/20\n",
            "100/100 [==============================] - 27s 267ms/step - loss: 0.2743 - accuracy: 0.4951 - val_loss: 0.0378 - val_accuracy: 0.4957\n",
            "Epoch 6/20\n",
            "100/100 [==============================] - 27s 268ms/step - loss: -0.0982 - accuracy: 0.4989 - val_loss: -0.0140 - val_accuracy: 0.4957\n",
            "Epoch 7/20\n",
            "100/100 [==============================] - 27s 267ms/step - loss: -0.1871 - accuracy: 0.5029 - val_loss: -0.0707 - val_accuracy: 0.4961\n",
            "Epoch 8/20\n",
            "100/100 [==============================] - 27s 267ms/step - loss: -0.2316 - accuracy: 0.5022 - val_loss: -0.1383 - val_accuracy: 0.4965\n",
            "Epoch 9/20\n",
            "100/100 [==============================] - 27s 269ms/step - loss: -0.3333 - accuracy: 0.4954 - val_loss: -0.1779 - val_accuracy: 0.4965\n",
            "Epoch 10/20\n",
            "100/100 [==============================] - 27s 269ms/step - loss: -0.4117 - accuracy: 0.5050 - val_loss: -0.2406 - val_accuracy: 0.4969\n",
            "Epoch 11/20\n",
            "100/100 [==============================] - 27s 269ms/step - loss: -0.5105 - accuracy: 0.5041 - val_loss: -0.2530 - val_accuracy: 0.4973\n",
            "Epoch 12/20\n",
            "100/100 [==============================] - 27s 271ms/step - loss: -0.5924 - accuracy: 0.4990 - val_loss: -0.3196 - val_accuracy: 0.4969\n",
            "Epoch 13/20\n",
            "100/100 [==============================] - 27s 268ms/step - loss: -0.6509 - accuracy: 0.5056 - val_loss: -0.3702 - val_accuracy: 0.4969\n",
            "Epoch 14/20\n",
            "100/100 [==============================] - 27s 267ms/step - loss: -0.6456 - accuracy: 0.5138 - val_loss: -0.4386 - val_accuracy: 0.4965\n",
            "Epoch 15/20\n",
            "100/100 [==============================] - 27s 267ms/step - loss: -0.7713 - accuracy: 0.5003 - val_loss: -0.4807 - val_accuracy: 0.4961\n",
            "Epoch 16/20\n",
            "100/100 [==============================] - 27s 268ms/step - loss: -0.8260 - accuracy: 0.5076 - val_loss: -0.4865 - val_accuracy: 0.4957\n",
            "Epoch 17/20\n",
            "100/100 [==============================] - 27s 268ms/step - loss: -0.9579 - accuracy: 0.5020 - val_loss: -0.5807 - val_accuracy: 0.4957\n",
            "Epoch 18/20\n",
            "100/100 [==============================] - 27s 268ms/step - loss: -1.0030 - accuracy: 0.5004 - val_loss: -0.6410 - val_accuracy: 0.4953\n",
            "Epoch 19/20\n",
            "100/100 [==============================] - 27s 268ms/step - loss: -1.1298 - accuracy: 0.5053 - val_loss: -0.6642 - val_accuracy: 0.4961\n",
            "Epoch 20/20\n",
            "100/100 [==============================] - 27s 268ms/step - loss: -1.1039 - accuracy: 0.5003 - val_loss: -0.7142 - val_accuracy: 0.4961\n"
          ],
          "name": "stdout"
        },
        {
          "output_type": "execute_result",
          "data": {
            "text/plain": [
              "<keras.callbacks.History at 0x7f1fb6050050>"
            ]
          },
          "metadata": {
            "tags": []
          },
          "execution_count": 80
        }
      ]
    },
    {
      "cell_type": "code",
      "metadata": {
        "colab": {
          "base_uri": "https://localhost:8080/"
        },
        "id": "nOWgvK66GiOv",
        "outputId": "0b276c69-d4a3-45e3-8da7-a7f6e18e282e"
      },
      "source": [
        "test_loss, test_acc = model.evaluate(x=x_val, y=y_val)\n",
        "\n",
        "print('Test Loss: {}'.format(test_loss))\n",
        "print('Test Accuracy: {}'.format(test_acc))\n",
        "\n",
        "sample_text = ('Bitcoin just lost half its value overnight. Sorry all you savvy investors ')\n",
        "vocab_size = 50000\n",
        "\n",
        "model.predict(one_hot(sample_text, vocab_size))"
      ],
      "execution_count": 81,
      "outputs": [
        {
          "output_type": "stream",
          "text": [
            "100/100 [==============================] - 4s 36ms/step - loss: -0.6237 - accuracy: 0.4986\n",
            "Test Loss: -0.623680591583252\n",
            "Test Accuracy: 0.4985933005809784\n"
          ],
          "name": "stdout"
        },
        {
          "output_type": "execute_result",
          "data": {
            "text/plain": [
              "array([[1.0762587e-01],\n",
              "       [1.8603727e-01],\n",
              "       [1.5957099e-01],\n",
              "       [1.1550453e-09],\n",
              "       [2.2997433e-01],\n",
              "       [6.8857670e-02],\n",
              "       [1.8781424e-03],\n",
              "       [4.6504616e-11],\n",
              "       [1.3946167e-01],\n",
              "       [1.8456548e-02],\n",
              "       [5.9124231e-03],\n",
              "       [1.7454177e-02]], dtype=float32)"
            ]
          },
          "metadata": {
            "tags": []
          },
          "execution_count": 81
        }
      ]
    },
    {
      "cell_type": "code",
      "metadata": {
        "colab": {
          "base_uri": "https://localhost:8080/"
        },
        "id": "_8cEMZZeO_SO",
        "outputId": "3314fd03-9793-4547-c42e-7a5e339c69e8"
      },
      "source": [
        "stopwords.words('english')"
      ],
      "execution_count": 4,
      "outputs": [
        {
          "output_type": "execute_result",
          "data": {
            "text/plain": [
              "['i',\n",
              " 'me',\n",
              " 'my',\n",
              " 'myself',\n",
              " 'we',\n",
              " 'our',\n",
              " 'ours',\n",
              " 'ourselves',\n",
              " 'you',\n",
              " \"you're\",\n",
              " \"you've\",\n",
              " \"you'll\",\n",
              " \"you'd\",\n",
              " 'your',\n",
              " 'yours',\n",
              " 'yourself',\n",
              " 'yourselves',\n",
              " 'he',\n",
              " 'him',\n",
              " 'his',\n",
              " 'himself',\n",
              " 'she',\n",
              " \"she's\",\n",
              " 'her',\n",
              " 'hers',\n",
              " 'herself',\n",
              " 'it',\n",
              " \"it's\",\n",
              " 'its',\n",
              " 'itself',\n",
              " 'they',\n",
              " 'them',\n",
              " 'their',\n",
              " 'theirs',\n",
              " 'themselves',\n",
              " 'what',\n",
              " 'which',\n",
              " 'who',\n",
              " 'whom',\n",
              " 'this',\n",
              " 'that',\n",
              " \"that'll\",\n",
              " 'these',\n",
              " 'those',\n",
              " 'am',\n",
              " 'is',\n",
              " 'are',\n",
              " 'was',\n",
              " 'were',\n",
              " 'be',\n",
              " 'been',\n",
              " 'being',\n",
              " 'have',\n",
              " 'has',\n",
              " 'had',\n",
              " 'having',\n",
              " 'do',\n",
              " 'does',\n",
              " 'did',\n",
              " 'doing',\n",
              " 'a',\n",
              " 'an',\n",
              " 'the',\n",
              " 'and',\n",
              " 'but',\n",
              " 'if',\n",
              " 'or',\n",
              " 'because',\n",
              " 'as',\n",
              " 'until',\n",
              " 'while',\n",
              " 'of',\n",
              " 'at',\n",
              " 'by',\n",
              " 'for',\n",
              " 'with',\n",
              " 'about',\n",
              " 'against',\n",
              " 'between',\n",
              " 'into',\n",
              " 'through',\n",
              " 'during',\n",
              " 'before',\n",
              " 'after',\n",
              " 'above',\n",
              " 'below',\n",
              " 'to',\n",
              " 'from',\n",
              " 'up',\n",
              " 'down',\n",
              " 'in',\n",
              " 'out',\n",
              " 'on',\n",
              " 'off',\n",
              " 'over',\n",
              " 'under',\n",
              " 'again',\n",
              " 'further',\n",
              " 'then',\n",
              " 'once',\n",
              " 'here',\n",
              " 'there',\n",
              " 'when',\n",
              " 'where',\n",
              " 'why',\n",
              " 'how',\n",
              " 'all',\n",
              " 'any',\n",
              " 'both',\n",
              " 'each',\n",
              " 'few',\n",
              " 'more',\n",
              " 'most',\n",
              " 'other',\n",
              " 'some',\n",
              " 'such',\n",
              " 'no',\n",
              " 'nor',\n",
              " 'not',\n",
              " 'only',\n",
              " 'own',\n",
              " 'same',\n",
              " 'so',\n",
              " 'than',\n",
              " 'too',\n",
              " 'very',\n",
              " 's',\n",
              " 't',\n",
              " 'can',\n",
              " 'will',\n",
              " 'just',\n",
              " 'don',\n",
              " \"don't\",\n",
              " 'should',\n",
              " \"should've\",\n",
              " 'now',\n",
              " 'd',\n",
              " 'll',\n",
              " 'm',\n",
              " 'o',\n",
              " 're',\n",
              " 've',\n",
              " 'y',\n",
              " 'ain',\n",
              " 'aren',\n",
              " \"aren't\",\n",
              " 'couldn',\n",
              " \"couldn't\",\n",
              " 'didn',\n",
              " \"didn't\",\n",
              " 'doesn',\n",
              " \"doesn't\",\n",
              " 'hadn',\n",
              " \"hadn't\",\n",
              " 'hasn',\n",
              " \"hasn't\",\n",
              " 'haven',\n",
              " \"haven't\",\n",
              " 'isn',\n",
              " \"isn't\",\n",
              " 'ma',\n",
              " 'mightn',\n",
              " \"mightn't\",\n",
              " 'mustn',\n",
              " \"mustn't\",\n",
              " 'needn',\n",
              " \"needn't\",\n",
              " 'shan',\n",
              " \"shan't\",\n",
              " 'shouldn',\n",
              " \"shouldn't\",\n",
              " 'wasn',\n",
              " \"wasn't\",\n",
              " 'weren',\n",
              " \"weren't\",\n",
              " 'won',\n",
              " \"won't\",\n",
              " 'wouldn',\n",
              " \"wouldn't\"]"
            ]
          },
          "metadata": {
            "tags": []
          },
          "execution_count": 4
        }
      ]
    },
    {
      "cell_type": "code",
      "metadata": {
        "colab": {
          "base_uri": "https://localhost:8080/"
        },
        "id": "YvCpGaUns263",
        "outputId": "0c92cd63-b510-4858-b04d-241d5a8f1d0d"
      },
      "source": [
        "import nltk\n",
        "import re\n",
        "nltk.download(\"stopwords\")\n",
        "from nltk.corpus import stopwords"
      ],
      "execution_count": 3,
      "outputs": [
        {
          "output_type": "stream",
          "text": [
            "[nltk_data] Downloading package stopwords to /root/nltk_data...\n",
            "[nltk_data]   Unzipping corpora/stopwords.zip.\n"
          ],
          "name": "stdout"
        }
      ]
    },
    {
      "cell_type": "code",
      "metadata": {
        "id": "TYmaPezQs-V3"
      },
      "source": [
        ""
      ],
      "execution_count": null,
      "outputs": []
    }
  ]
}
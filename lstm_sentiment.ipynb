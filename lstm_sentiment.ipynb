{
  "nbformat": 4,
  "nbformat_minor": 0,
  "metadata": {
    "kernelspec": {
      "display_name": "Python 3",
      "language": "python",
      "name": "python3"
    },
    "language_info": {
      "codemirror_mode": {
        "name": "ipython",
        "version": 3
      },
      "file_extension": ".py",
      "mimetype": "text/x-python",
      "name": "python",
      "nbconvert_exporter": "python",
      "pygments_lexer": "ipython3",
      "version": "3.9.5"
    },
    "colab": {
      "name": "lstm_sentiment.ipynb",
      "provenance": [],
      "collapsed_sections": []
    }
  },
  "cells": [
    {
      "cell_type": "markdown",
      "metadata": {
        "id": "S3r8MmfaOpJ9"
      },
      "source": [
        "# Long Short-term Memory for Sentiment Classification"
      ]
    },
    {
      "cell_type": "markdown",
      "metadata": {
        "id": "04hx4J-HOpJ-"
      },
      "source": [
        "This notebook uses LSTM neural network on the [IMDB sentiment classification](https://keras.io/api/datasets/imdb/) task. This is a dataset for binary sentiment classification. 25,000 highly polar movie reviews are provided for training."
      ]
    },
    {
      "cell_type": "code",
      "metadata": {
        "id": "b8Ix235AOpJ-"
      },
      "source": [
        "%matplotlib inline\n",
        "import matplotlib.pyplot as plt\n",
        "import numpy as np\n",
        "\n",
        "import tensorflow as tf\n",
        "from tensorflow import keras\n",
        "from tensorflow.keras import layers\n",
        "from tensorflow.keras import optimizers\n",
        "from tensorflow.keras.datasets import imdb\n",
        "from tensorflow.keras.preprocessing import sequence\n"
      ],
      "execution_count": 1,
      "outputs": []
    },
    {
      "cell_type": "markdown",
      "metadata": {
        "id": "VTN9K18gOpJ_"
      },
      "source": [
        "## Dataset"
      ]
    },
    {
      "cell_type": "markdown",
      "metadata": {
        "id": "POieDi3GOpJ_"
      },
      "source": [
        "### Get the data\n",
        "IMDB sentiment dataset is available in keras.datasets."
      ]
    },
    {
      "cell_type": "code",
      "metadata": {
        "colab": {
          "base_uri": "https://localhost:8080/"
        },
        "id": "4AGrMP4ZOpJ_",
        "outputId": "39072039-ac2f-4891-d57a-af39819d93d3"
      },
      "source": [
        "help(imdb.load_data)"
      ],
      "execution_count": 2,
      "outputs": [
        {
          "output_type": "stream",
          "text": [
            "Help on function load_data in module tensorflow.python.keras.datasets.imdb:\n",
            "\n",
            "load_data(path='imdb.npz', num_words=None, skip_top=0, maxlen=None, seed=113, start_char=1, oov_char=2, index_from=3, **kwargs)\n",
            "    Loads the [IMDB dataset](https://ai.stanford.edu/~amaas/data/sentiment/).\n",
            "    \n",
            "    This is a dataset of 25,000 movies reviews from IMDB, labeled by sentiment\n",
            "    (positive/negative). Reviews have been preprocessed, and each review is\n",
            "    encoded as a list of word indexes (integers).\n",
            "    For convenience, words are indexed by overall frequency in the dataset,\n",
            "    so that for instance the integer \"3\" encodes the 3rd most frequent word in\n",
            "    the data. This allows for quick filtering operations such as:\n",
            "    \"only consider the top 10,000 most\n",
            "    common words, but eliminate the top 20 most common words\".\n",
            "    \n",
            "    As a convention, \"0\" does not stand for a specific word, but instead is used\n",
            "    to encode any unknown word.\n",
            "    \n",
            "    Args:\n",
            "      path: where to cache the data (relative to `~/.keras/dataset`).\n",
            "      num_words: integer or None. Words are\n",
            "          ranked by how often they occur (in the training set) and only\n",
            "          the `num_words` most frequent words are kept. Any less frequent word\n",
            "          will appear as `oov_char` value in the sequence data. If None,\n",
            "          all words are kept. Defaults to None, so all words are kept.\n",
            "      skip_top: skip the top N most frequently occurring words\n",
            "          (which may not be informative). These words will appear as\n",
            "          `oov_char` value in the dataset. Defaults to 0, so no words are\n",
            "          skipped.\n",
            "      maxlen: int or None. Maximum sequence length.\n",
            "          Any longer sequence will be truncated. Defaults to None, which\n",
            "          means no truncation.\n",
            "      seed: int. Seed for reproducible data shuffling.\n",
            "      start_char: int. The start of a sequence will be marked with this\n",
            "          character. Defaults to 1 because 0 is usually the padding character.\n",
            "      oov_char: int. The out-of-vocabulary character.\n",
            "          Words that were cut out because of the `num_words` or\n",
            "          `skip_top` limits will be replaced with this character.\n",
            "      index_from: int. Index actual words with this index and higher.\n",
            "      **kwargs: Used for backwards compatibility.\n",
            "    \n",
            "    Returns:\n",
            "      Tuple of Numpy arrays: `(x_train, y_train), (x_test, y_test)`.\n",
            "    \n",
            "    **x_train, x_test**: lists of sequences, which are lists of indexes\n",
            "      (integers). If the num_words argument was specific, the maximum\n",
            "      possible index value is `num_words - 1`. If the `maxlen` argument was\n",
            "      specified, the largest possible sequence length is `maxlen`.\n",
            "    \n",
            "    **y_train, y_test**: lists of integer labels (1 or 0).\n",
            "    \n",
            "    Raises:\n",
            "      ValueError: in case `maxlen` is so low\n",
            "          that no input sequence could be kept.\n",
            "    \n",
            "    Note that the 'out of vocabulary' character is only used for\n",
            "    words that were present in the training set but are not included\n",
            "    because they're not making the `num_words` cut here.\n",
            "    Words that were not seen in the training set but are in the test set\n",
            "    have simply been skipped.\n",
            "\n"
          ],
          "name": "stdout"
        }
      ]
    },
    {
      "cell_type": "code",
      "metadata": {
        "colab": {
          "base_uri": "https://localhost:8080/"
        },
        "id": "jMDO3KAoOpKA",
        "outputId": "8a559b08-5612-4846-d0a0-c462d8d540dd"
      },
      "source": [
        "max_features = 22000\n",
        "# cut texts after this number of words (among top max_features most common words)\n",
        "maxlen = 80\n",
        "batch_size = 32\n",
        "\n",
        "print('Loading data...')\n",
        "(X_train, y_train), (X_test, y_test) = imdb.load_data(num_words=max_features)\n",
        "print(len(X_train), 'train sequences')\n",
        "print(len(X_test), 'test sequences')"
      ],
      "execution_count": 3,
      "outputs": [
        {
          "output_type": "stream",
          "text": [
            "Loading data...\n",
            "Downloading data from https://storage.googleapis.com/tensorflow/tf-keras-datasets/imdb.npz\n",
            "17465344/17464789 [==============================] - 0s 0us/step\n"
          ],
          "name": "stdout"
        },
        {
          "output_type": "stream",
          "text": [
            "<string>:6: VisibleDeprecationWarning: Creating an ndarray from ragged nested sequences (which is a list-or-tuple of lists-or-tuples-or ndarrays with different lengths or shapes) is deprecated. If you meant to do this, you must specify 'dtype=object' when creating the ndarray\n",
            "/usr/local/lib/python3.7/dist-packages/tensorflow/python/keras/datasets/imdb.py:155: VisibleDeprecationWarning: Creating an ndarray from ragged nested sequences (which is a list-or-tuple of lists-or-tuples-or ndarrays with different lengths or shapes) is deprecated. If you meant to do this, you must specify 'dtype=object' when creating the ndarray\n",
            "  x_train, y_train = np.array(xs[:idx]), np.array(labels[:idx])\n"
          ],
          "name": "stderr"
        },
        {
          "output_type": "stream",
          "text": [
            "25000 train sequences\n",
            "25000 test sequences\n"
          ],
          "name": "stdout"
        },
        {
          "output_type": "stream",
          "text": [
            "/usr/local/lib/python3.7/dist-packages/tensorflow/python/keras/datasets/imdb.py:156: VisibleDeprecationWarning: Creating an ndarray from ragged nested sequences (which is a list-or-tuple of lists-or-tuples-or ndarrays with different lengths or shapes) is deprecated. If you meant to do this, you must specify 'dtype=object' when creating the ndarray\n",
            "  x_test, y_test = np.array(xs[idx:]), np.array(labels[idx:])\n"
          ],
          "name": "stderr"
        }
      ]
    },
    {
      "cell_type": "markdown",
      "metadata": {
        "id": "ao7wL3PhOpKB"
      },
      "source": [
        "### Data Preprocessing\n",
        "\n",
        "Keras has already preprocessed the data"
      ]
    },
    {
      "cell_type": "code",
      "metadata": {
        "colab": {
          "base_uri": "https://localhost:8080/"
        },
        "id": "FVK7kZvJOpKB",
        "outputId": "9a24cb2d-6856-479c-c317-cf94a690deec"
      },
      "source": [
        "print('Pad sequences (samples x time)')\n",
        "X_train = sequence.pad_sequences(X_train, maxlen=maxlen)\n",
        "X_test = sequence.pad_sequences(X_test, maxlen=maxlen)\n",
        "print('X_train shape:', X_train.shape)\n",
        "print('X_test shape:', X_test.shape)\n",
        "X_train[1]"
      ],
      "execution_count": 4,
      "outputs": [
        {
          "output_type": "stream",
          "text": [
            "Pad sequences (samples x time)\n",
            "X_train shape: (25000, 80)\n",
            "X_test shape: (25000, 80)\n"
          ],
          "name": "stdout"
        },
        {
          "output_type": "execute_result",
          "data": {
            "text/plain": [
              "array([ 125,   68,    2, 6853,   15,  349,  165, 4362,   98,    5,    4,\n",
              "        228,    9,   43,    2, 1157,   15,  299,  120,    5,  120,  174,\n",
              "         11,  220,  175,  136,   50,    9, 4373,  228, 8255,    5,    2,\n",
              "        656,  245, 2350,    5,    4, 9837,  131,  152,  491,   18,    2,\n",
              "         32, 7464, 1212,   14,    9,    6,  371,   78,   22,  625,   64,\n",
              "       1382,    9,    8,  168,  145,   23,    4, 1690,   15,   16,    4,\n",
              "       1355,    5,   28,    6,   52,  154,  462,   33,   89,   78,  285,\n",
              "         16,  145,   95], dtype=int32)"
            ]
          },
          "metadata": {
            "tags": []
          },
          "execution_count": 4
        }
      ]
    },
    {
      "cell_type": "markdown",
      "metadata": {
        "id": "J22Fk6SeOpKC"
      },
      "source": [
        "## RNN"
      ]
    },
    {
      "cell_type": "markdown",
      "metadata": {
        "id": "kAhP2JFpOpKC"
      },
      "source": [
        "### Build the RNN model"
      ]
    },
    {
      "cell_type": "code",
      "metadata": {
        "id": "jKG4xwAVOpKC"
      },
      "source": [
        "model = keras.Sequential()\n",
        "# Embedding layer turns vectors of integers into dense real vectors of fixed size\n",
        "model.add(layers.Embedding(max_features, 32))\n",
        "model.add(layers.SimpleRNN(64, dropout=0.2, recurrent_dropout=0.2))\n",
        "model.add(layers.Dense(1, activation='sigmoid'))\n",
        "\n",
        "optimizer = optimizers.RMSprop(learning_rate=0.001)\n",
        "model.compile(loss='binary_crossentropy',\n",
        "              optimizer=optimizer,\n",
        "              metrics=['accuracy'])"
      ],
      "execution_count": 5,
      "outputs": []
    },
    {
      "cell_type": "markdown",
      "metadata": {
        "id": "Ri350B_wOpKD"
      },
      "source": [
        "### Inspect the model\n",
        "\n",
        "Use the `.summary` method to print a simple description of the model"
      ]
    },
    {
      "cell_type": "code",
      "metadata": {
        "colab": {
          "base_uri": "https://localhost:8080/"
        },
        "id": "K0uKse_qOpKD",
        "outputId": "692decd8-9098-4d9e-ec19-ea5d2210778b"
      },
      "source": [
        "model.summary()"
      ],
      "execution_count": 6,
      "outputs": [
        {
          "output_type": "stream",
          "text": [
            "Model: \"sequential\"\n",
            "_________________________________________________________________\n",
            "Layer (type)                 Output Shape              Param #   \n",
            "=================================================================\n",
            "embedding (Embedding)        (None, None, 32)          704000    \n",
            "_________________________________________________________________\n",
            "simple_rnn (SimpleRNN)       (None, 64)                6208      \n",
            "_________________________________________________________________\n",
            "dense (Dense)                (None, 1)                 65        \n",
            "=================================================================\n",
            "Total params: 710,273\n",
            "Trainable params: 710,273\n",
            "Non-trainable params: 0\n",
            "_________________________________________________________________\n"
          ],
          "name": "stdout"
        }
      ]
    },
    {
      "cell_type": "markdown",
      "metadata": {
        "id": "AjoR8lPFOpKD"
      },
      "source": [
        "### Train the model"
      ]
    },
    {
      "cell_type": "code",
      "metadata": {
        "colab": {
          "base_uri": "https://localhost:8080/"
        },
        "id": "Ojgrp42TOpKD",
        "outputId": "acdf327d-cd00-4d64-9aa4-200590c6b1e3"
      },
      "source": [
        "EPOCHS = 16\n",
        "BATCH = 64\n",
        "\n",
        "early_stop = keras.callbacks.EarlyStopping(monitor='val_loss', patience=2)\n",
        "\n",
        "model.fit(X_train, y_train,\n",
        "          batch_size=BATCH,\n",
        "          epochs=EPOCHS,\n",
        "          validation_split=0.2,\n",
        "          verbose = 1,\n",
        "          callbacks = [early_stop])"
      ],
      "execution_count": 9,
      "outputs": [
        {
          "output_type": "stream",
          "text": [
            "Epoch 1/16\n",
            "313/313 [==============================] - 13s 43ms/step - loss: 0.2895 - accuracy: 0.8867 - val_loss: 0.6031 - val_accuracy: 0.8064\n",
            "Epoch 2/16\n",
            "313/313 [==============================] - 13s 42ms/step - loss: 0.2803 - accuracy: 0.8917 - val_loss: 0.4799 - val_accuracy: 0.8188\n",
            "Epoch 3/16\n",
            "313/313 [==============================] - 13s 42ms/step - loss: 0.2629 - accuracy: 0.8991 - val_loss: 0.5991 - val_accuracy: 0.8022\n",
            "Epoch 4/16\n",
            "313/313 [==============================] - 13s 43ms/step - loss: 0.2563 - accuracy: 0.9010 - val_loss: 0.4988 - val_accuracy: 0.8156\n"
          ],
          "name": "stdout"
        },
        {
          "output_type": "execute_result",
          "data": {
            "text/plain": [
              "<tensorflow.python.keras.callbacks.History at 0x7fc535323a10>"
            ]
          },
          "metadata": {
            "tags": []
          },
          "execution_count": 9
        }
      ]
    },
    {
      "cell_type": "code",
      "metadata": {
        "colab": {
          "base_uri": "https://localhost:8080/"
        },
        "id": "o2SkZxQbOpKD",
        "outputId": "696f613a-e7c1-4243-c113-94b80d25c6fe"
      },
      "source": [
        "_, acc = model.evaluate(X_test, y_test, batch_size=64, verbose = 0)\n",
        "print(\"Testing set accuracy: {:.2f}%\".format(acc*100))"
      ],
      "execution_count": 10,
      "outputs": [
        {
          "output_type": "stream",
          "text": [
            "Testing set accuracy: 81.93%\n"
          ],
          "name": "stdout"
        }
      ]
    },
    {
      "cell_type": "markdown",
      "metadata": {
        "id": "Nz3UJNkkOpKE"
      },
      "source": [
        "## RNN using the entire sequence instead of the last output"
      ]
    },
    {
      "cell_type": "code",
      "metadata": {
        "colab": {
          "base_uri": "https://localhost:8080/"
        },
        "id": "XQhmM7ogOpKE",
        "outputId": "83d8d70f-c490-4997-c46b-50360e834dda"
      },
      "source": [
        "model = keras.Sequential()\n",
        "# Embedding layer turns vectors of integers into dense real vectors of fixed size\n",
        "model.add(layers.Embedding(max_features, 16, input_length=maxlen))\n",
        "model.add(layers.SimpleRNN(64, return_sequences=True, dropout=0.2, recurrent_dropout=0.2))\n",
        "model.add(layers.Flatten())\n",
        "model.add(layers.Dense(1, activation='sigmoid'))\n",
        "\n",
        "optimizer = optimizers.RMSprop(learning_rate=0.001)\n",
        "model.compile(loss='binary_crossentropy',\n",
        "              optimizer=optimizer,\n",
        "              metrics=['accuracy'])\n",
        "model.summary()"
      ],
      "execution_count": 11,
      "outputs": [
        {
          "output_type": "stream",
          "text": [
            "Model: \"sequential_1\"\n",
            "_________________________________________________________________\n",
            "Layer (type)                 Output Shape              Param #   \n",
            "=================================================================\n",
            "embedding_1 (Embedding)      (None, 80, 16)            352000    \n",
            "_________________________________________________________________\n",
            "simple_rnn_1 (SimpleRNN)     (None, 80, 64)            5184      \n",
            "_________________________________________________________________\n",
            "flatten (Flatten)            (None, 5120)              0         \n",
            "_________________________________________________________________\n",
            "dense_1 (Dense)              (None, 1)                 5121      \n",
            "=================================================================\n",
            "Total params: 362,305\n",
            "Trainable params: 362,305\n",
            "Non-trainable params: 0\n",
            "_________________________________________________________________\n"
          ],
          "name": "stdout"
        }
      ]
    },
    {
      "cell_type": "code",
      "metadata": {
        "colab": {
          "base_uri": "https://localhost:8080/"
        },
        "id": "BpmrlTHcOpKE",
        "outputId": "5dde2eac-1005-4c91-f5fa-02e25c079818"
      },
      "source": [
        "EPOCHS = 16\n",
        "BATCH = 64\n",
        "\n",
        "early_stop = keras.callbacks.EarlyStopping(monitor='val_loss', patience=2)\n",
        "\n",
        "model.fit(X_train, y_train,\n",
        "          batch_size=BATCH,\n",
        "          epochs=EPOCHS,\n",
        "          validation_split=0.2,\n",
        "          verbose = 1,\n",
        "          callbacks = [early_stop])"
      ],
      "execution_count": 12,
      "outputs": [
        {
          "output_type": "stream",
          "text": [
            "Epoch 1/16\n",
            "313/313 [==============================] - 14s 40ms/step - loss: 0.7153 - accuracy: 0.5066 - val_loss: 0.6879 - val_accuracy: 0.5378\n",
            "Epoch 2/16\n",
            "313/313 [==============================] - 12s 40ms/step - loss: 0.6036 - accuracy: 0.6481 - val_loss: 0.4672 - val_accuracy: 0.7942\n",
            "Epoch 3/16\n",
            "313/313 [==============================] - 12s 39ms/step - loss: 0.3680 - accuracy: 0.8361 - val_loss: 0.3703 - val_accuracy: 0.8328\n",
            "Epoch 4/16\n",
            "313/313 [==============================] - 12s 40ms/step - loss: 0.2881 - accuracy: 0.8780 - val_loss: 0.3456 - val_accuracy: 0.8458\n",
            "Epoch 5/16\n",
            "313/313 [==============================] - 12s 40ms/step - loss: 0.2498 - accuracy: 0.8993 - val_loss: 0.3635 - val_accuracy: 0.8444\n",
            "Epoch 6/16\n",
            "313/313 [==============================] - 12s 40ms/step - loss: 0.2114 - accuracy: 0.9176 - val_loss: 0.3729 - val_accuracy: 0.8464\n"
          ],
          "name": "stdout"
        },
        {
          "output_type": "execute_result",
          "data": {
            "text/plain": [
              "<tensorflow.python.keras.callbacks.History at 0x7fc5352ffb50>"
            ]
          },
          "metadata": {
            "tags": []
          },
          "execution_count": 12
        }
      ]
    },
    {
      "cell_type": "code",
      "metadata": {
        "colab": {
          "base_uri": "https://localhost:8080/"
        },
        "id": "b8K171aVOpKE",
        "outputId": "08037876-ca4c-45e4-bc07-c38a724ae102"
      },
      "source": [
        "_, acc = model.evaluate(X_test, y_test, batch_size=64, verbose = 0)\n",
        "print(\"Testing set accuracy: {:.2f}%\".format(acc*100))"
      ],
      "execution_count": 13,
      "outputs": [
        {
          "output_type": "stream",
          "text": [
            "Testing set accuracy: 83.88%\n"
          ],
          "name": "stdout"
        }
      ]
    },
    {
      "cell_type": "markdown",
      "metadata": {
        "id": "m5Ia7nrCOpKF"
      },
      "source": [
        "## LSTM"
      ]
    },
    {
      "cell_type": "markdown",
      "metadata": {
        "id": "EcwTw7aJOpKF"
      },
      "source": [
        "### Build the model"
      ]
    },
    {
      "cell_type": "code",
      "metadata": {
        "tags": [],
        "id": "_eRtotR3OpKF"
      },
      "source": [
        "model = keras.Sequential()\n",
        "# Embedding layer turns vectors of integers into dense real vectors of fixed size\n",
        "model.add(layers.Embedding(max_features, 16))\n",
        "model.add(layers.LSTM(264, dropout=0.25, recurrent_dropout=0.25))\n",
        "model.add(layers.Dense(1, activation='sigmoid'))\n",
        "\n",
        "optimizer = optimizers.RMSprop(learning_rate=0.001)\n",
        "model.compile(loss='binary_crossentropy',\n",
        "              optimizer=optimizer,\n",
        "              metrics=['accuracy'])"
      ],
      "execution_count": 18,
      "outputs": []
    },
    {
      "cell_type": "markdown",
      "metadata": {
        "id": "3Y5xMBBwOpKF"
      },
      "source": [
        "### Inspect the model\n",
        "\n",
        "Use the `.summary` method to print a simple description of the model"
      ]
    },
    {
      "cell_type": "code",
      "metadata": {
        "id": "_LjhYVvQOpKF",
        "outputId": "9e0a4e57-042b-4ecc-ca0a-9c7843cd2580"
      },
      "source": [
        "model.summary()"
      ],
      "execution_count": null,
      "outputs": [
        {
          "output_type": "stream",
          "text": [
            "Model: \"sequential_2\"\n",
            "_________________________________________________________________\n",
            "Layer (type)                 Output Shape              Param #   \n",
            "=================================================================\n",
            "embedding_2 (Embedding)      (None, None, 16)          320000    \n",
            "_________________________________________________________________\n",
            "lstm (LSTM)                  (None, 128)               74240     \n",
            "_________________________________________________________________\n",
            "dense_2 (Dense)              (None, 1)                 129       \n",
            "=================================================================\n",
            "Total params: 394,369\n",
            "Trainable params: 394,369\n",
            "Non-trainable params: 0\n",
            "_________________________________________________________________\n"
          ],
          "name": "stdout"
        }
      ]
    },
    {
      "cell_type": "markdown",
      "metadata": {
        "id": "JdBbOMvPOpKF"
      },
      "source": [
        "### Train the model"
      ]
    },
    {
      "cell_type": "code",
      "metadata": {
        "colab": {
          "base_uri": "https://localhost:8080/"
        },
        "id": "uZsOD2aNOpKF",
        "outputId": "b102cb6c-2a1a-41ea-8c5a-74c319176d30"
      },
      "source": [
        "EPOCHS = 16\n",
        "BATCH = 64\n",
        "\n",
        "early_stop = keras.callbacks.EarlyStopping(monitor='val_loss', patience=2)\n",
        "\n",
        "model.fit(X_train, y_train,\n",
        "          batch_size=BATCH,\n",
        "          epochs=EPOCHS,\n",
        "          validation_split=0.2,\n",
        "          verbose = 1,\n",
        "          callbacks = [early_stop])"
      ],
      "execution_count": 20,
      "outputs": [
        {
          "output_type": "stream",
          "text": [
            "Epoch 1/16\n",
            "313/313 [==============================] - 246s 785ms/step - loss: 0.2302 - accuracy: 0.9111 - val_loss: 0.4248 - val_accuracy: 0.8350\n",
            "Epoch 2/16\n",
            "313/313 [==============================] - 247s 788ms/step - loss: 0.2136 - accuracy: 0.9201 - val_loss: 0.3660 - val_accuracy: 0.8514\n",
            "Epoch 3/16\n",
            "313/313 [==============================] - 247s 789ms/step - loss: 0.2004 - accuracy: 0.9244 - val_loss: 0.4205 - val_accuracy: 0.8464\n",
            "Epoch 4/16\n",
            "313/313 [==============================] - 246s 786ms/step - loss: 0.1885 - accuracy: 0.9284 - val_loss: 0.4122 - val_accuracy: 0.8446\n"
          ],
          "name": "stdout"
        },
        {
          "output_type": "execute_result",
          "data": {
            "text/plain": [
              "<tensorflow.python.keras.callbacks.History at 0x7fc5357991d0>"
            ]
          },
          "metadata": {
            "tags": []
          },
          "execution_count": 20
        }
      ]
    },
    {
      "cell_type": "code",
      "metadata": {
        "id": "6uaQxbMjOpKG",
        "outputId": "eea68825-bcf9-4303-9198-cd99fa27172c"
      },
      "source": [
        "_, acc = model.evaluate(X_test, y_test, batch_size=64, verbose = 0)\n",
        "print(\"Testing set accuracy: {:.2f}%\".format(acc*100))"
      ],
      "execution_count": null,
      "outputs": [
        {
          "output_type": "stream",
          "text": [
            "Testing set accuracy: 83.91%\n"
          ],
          "name": "stdout"
        }
      ]
    },
    {
      "cell_type": "markdown",
      "metadata": {
        "id": "LqQ2CGEeOpKG"
      },
      "source": [
        "## Stacked LSTM"
      ]
    },
    {
      "cell_type": "markdown",
      "metadata": {
        "id": "5yEoWB0XOpKG"
      },
      "source": [
        "### Build the model"
      ]
    },
    {
      "cell_type": "code",
      "metadata": {
        "tags": [],
        "id": "jlddL4yJOpKG",
        "outputId": "b9b693b1-903c-41ec-e0ad-ee9ade2b2bb2"
      },
      "source": [
        "model = keras.Sequential()\n",
        "# Embedding layer turns vectors of integers into dense real vectors of fixed size\n",
        "model.add(layers.Embedding(max_features, 16))\n",
        "model.add(layers.LSTM(128, return_sequences=True, dropout=0.2, recurrent_dropout=0.2))\n",
        "model.add(layers.LSTM(128, return_sequences=False, dropout=0.2, recurrent_dropout=0.2))\n",
        "model.add(layers.Dense(1, activation='sigmoid'))\n",
        "\n",
        "optimizer = optimizers.RMSprop(learning_rate=0.001)\n",
        "model.compile(loss='binary_crossentropy',\n",
        "              optimizer=optimizer,\n",
        "              metrics=['accuracy'])\n",
        "model.summary()"
      ],
      "execution_count": null,
      "outputs": [
        {
          "output_type": "stream",
          "text": [
            "Model: \"sequential_3\"\n",
            "_________________________________________________________________\n",
            "Layer (type)                 Output Shape              Param #   \n",
            "=================================================================\n",
            "embedding_3 (Embedding)      (None, None, 16)          320000    \n",
            "_________________________________________________________________\n",
            "lstm_1 (LSTM)                (None, None, 128)         74240     \n",
            "_________________________________________________________________\n",
            "lstm_2 (LSTM)                (None, 128)               131584    \n",
            "_________________________________________________________________\n",
            "dense_3 (Dense)              (None, 1)                 129       \n",
            "=================================================================\n",
            "Total params: 525,953\n",
            "Trainable params: 525,953\n",
            "Non-trainable params: 0\n",
            "_________________________________________________________________\n"
          ],
          "name": "stdout"
        }
      ]
    },
    {
      "cell_type": "markdown",
      "metadata": {
        "id": "ooBaW_mlOpKG"
      },
      "source": [
        "### Train the model"
      ]
    },
    {
      "cell_type": "code",
      "metadata": {
        "id": "L-A480iwOpKG",
        "outputId": "8c340095-4e83-4c0e-c323-75ae391d2a91"
      },
      "source": [
        "EPOCHS = 32\n",
        "BATCH = 64\n",
        "\n",
        "early_stop = keras.callbacks.EarlyStopping(monitor='val_loss', patience=2)\n",
        "\n",
        "model.fit(X_train, y_train,\n",
        "          batch_size=BATCH,\n",
        "          epochs=EPOCHS,\n",
        "          validation_split=0.2,\n",
        "          verbose = 1,\n",
        "          callbacks = [early_stop])"
      ],
      "execution_count": null,
      "outputs": [
        {
          "output_type": "stream",
          "text": [
            "Epoch 1/32\n",
            "313/313 [==============================] - 45s 132ms/step - loss: 0.5047 - accuracy: 0.7484 - val_loss: 0.4167 - val_accuracy: 0.8234\n",
            "Epoch 2/32\n",
            "313/313 [==============================] - 44s 139ms/step - loss: 0.3336 - accuracy: 0.8612 - val_loss: 0.5216 - val_accuracy: 0.8244\n",
            "Epoch 3/32\n",
            "313/313 [==============================] - 43s 138ms/step - loss: 0.2802 - accuracy: 0.8855 - val_loss: 0.3630 - val_accuracy: 0.8412\n",
            "Epoch 4/32\n",
            "313/313 [==============================] - 45s 144ms/step - loss: 0.2499 - accuracy: 0.9029 - val_loss: 0.5825 - val_accuracy: 0.8138\n",
            "Epoch 5/32\n",
            "313/313 [==============================] - 43s 138ms/step - loss: 0.2296 - accuracy: 0.9099 - val_loss: 0.3626 - val_accuracy: 0.8428\n",
            "Epoch 6/32\n",
            "313/313 [==============================] - 46s 147ms/step - loss: 0.2098 - accuracy: 0.9198 - val_loss: 0.5436 - val_accuracy: 0.8294\n",
            "Epoch 7/32\n",
            "313/313 [==============================] - 45s 144ms/step - loss: 0.1998 - accuracy: 0.9255 - val_loss: 0.3799 - val_accuracy: 0.8412\n"
          ],
          "name": "stdout"
        },
        {
          "output_type": "execute_result",
          "data": {
            "text/plain": [
              "<tensorflow.python.keras.callbacks.History at 0x7fa5926442e0>"
            ]
          },
          "metadata": {
            "tags": []
          },
          "execution_count": 17
        }
      ]
    },
    {
      "cell_type": "code",
      "metadata": {
        "id": "MTSV6ULbOpKG",
        "outputId": "9670d88e-b094-4bd6-bbfb-8fb86f566bf9"
      },
      "source": [
        "_, acc = model.evaluate(X_test, y_test, batch_size=64, verbose = 0)\n",
        "print(\"Testing set accuracy: {:.2f}%\".format(acc*100))"
      ],
      "execution_count": null,
      "outputs": [
        {
          "output_type": "stream",
          "text": [
            "Testing set accuracy: 83.40%\n"
          ],
          "name": "stdout"
        }
      ]
    },
    {
      "cell_type": "markdown",
      "metadata": {
        "id": "-NxqUL9zOpKG"
      },
      "source": [
        "## Bidirectional LSTM"
      ]
    },
    {
      "cell_type": "code",
      "metadata": {
        "tags": [],
        "id": "TcojWZY9OpKG",
        "outputId": "7311d232-2a5b-448d-8057-50b56e8da5e5"
      },
      "source": [
        "model = keras.Sequential()\n",
        "# Embedding layer turns vectors of integers into dense real vectors of fixed size\n",
        "model.add(layers.Embedding(max_features, 16))\n",
        "model.add(layers.􏲇􏱢􏱒􏱢􏱡􏱖􏱓􏱚􏱢􏱎􏱆􏱑􏱍􏲇􏱢􏱒􏱢􏱡􏱖􏱓􏱚􏱢􏱎􏱆􏱑􏱍Bidirectional(layers.LSTM(128, return_sequences=False, dropout=0.2, recurrent_dropout=0.2)))\n",
        "model.add(layers.Dense(1, activation='sigmoid'))\n",
        "\n",
        "optimizer = optimizers.RMSprop(learning_rate=0.001)\n",
        "model.compile(loss='binary_crossentropy',\n",
        "              optimizer=optimizer,\n",
        "              metrics=['accuracy'])\n",
        "model.summary()"
      ],
      "execution_count": null,
      "outputs": [
        {
          "output_type": "error",
          "ename": "SyntaxError",
          "evalue": "invalid non-printable character U+10FC87 (<ipython-input-19-e958e204a9bd>, line 4)",
          "traceback": [
            "\u001b[0;36m  File \u001b[0;32m\"<ipython-input-19-e958e204a9bd>\"\u001b[0;36m, line \u001b[0;32m4\u001b[0m\n\u001b[0;31m    model.add(layers.􏲇􏱢􏱒􏱢􏱡􏱖􏱓􏱚􏱢􏱎􏱆􏱑􏱍􏲇􏱢􏱒􏱢􏱡􏱖􏱓􏱚􏱢􏱎􏱆􏱑􏱍Bidirectional(layers.LSTM(128, return_sequences=False, dropout=0.2, recurrent_dropout=0.2)))\u001b[0m\n\u001b[0m                     ^\u001b[0m\n\u001b[0;31mSyntaxError\u001b[0m\u001b[0;31m:\u001b[0m invalid non-printable character U+10FC87\n"
          ]
        }
      ]
    },
    {
      "cell_type": "markdown",
      "metadata": {
        "id": "5vDnd9DSOpKH"
      },
      "source": [
        "### Train the model"
      ]
    },
    {
      "cell_type": "code",
      "metadata": {
        "id": "JZ9ab3xgOpKH"
      },
      "source": [
        "EPOCHS = 32\n",
        "BATCH = 64\n",
        "\n",
        "early_stop = keras.callbacks.EarlyStopping(monitor='val_loss', patience=2)\n",
        "\n",
        "model.fit(X_train, y_train,\n",
        "          batch_size=BATCH,\n",
        "          epochs=EPOCHS,\n",
        "          validation_split=0.2,\n",
        "          verbose = 1,\n",
        "          callbacks = [early_stop])\n",
        "\n",
        "_, acc = model.evaluate(X_test, y_test, batch_size=64, verbose = 0)\n",
        "print(\"Testing set accuracy: {:.2f}%\".format(acc*100))"
      ],
      "execution_count": null,
      "outputs": []
    }
  ]
}
{
 "cells": [
  {
   "cell_type": "markdown",
   "metadata": {},
   "source": [
    "# Dense Deep Neural Network: Handwritten Digit Recognition"
   ]
  },
  {
   "cell_type": "markdown",
   "metadata": {},
   "source": [
    "This notebook uses the classic [MNIST handwritten digit](http://yann.lecun.com/exdb/mnist/) dataset, which contains digit 0-9 images of size 28*28. We build a dense neural network to predict the class of digit."
   ]
  },
  {
   "cell_type": "code",
   "execution_count": 1,
   "metadata": {},
   "outputs": [],
   "source": [
    "import matplotlib.pyplot as plt\n",
    "import numpy as np\n",
    "import pandas as pd\n",
    "import time\n",
    "\n",
    "import tensorflow as tf\n",
    "from tensorflow import keras\n",
    "from tensorflow.keras import layers\n",
    "from tensorflow.keras.datasets import mnist"
   ]
  },
  {
   "cell_type": "markdown",
   "metadata": {},
   "source": [
    "## The MNIST dataset"
   ]
  },
  {
   "cell_type": "markdown",
   "metadata": {},
   "source": [
    "### Get the data\n",
    "MNIST dataset is provided by Keras directly. The following codes show how to load it. "
   ]
  },
  {
   "cell_type": "code",
   "execution_count": 2,
   "metadata": {},
   "outputs": [
    {
     "name": "stdout",
     "output_type": "stream",
     "text": [
      "Help on function load_data in module tensorflow.python.keras.datasets.mnist:\n",
      "\n",
      "load_data(path='mnist.npz')\n",
      "    Loads the MNIST dataset.\n",
      "    \n",
      "    This is a dataset of 60,000 28x28 grayscale images of the 10 digits,\n",
      "    along with a test set of 10,000 images.\n",
      "    More info can be found at the\n",
      "    [MNIST homepage](http://yann.lecun.com/exdb/mnist/).\n",
      "    \n",
      "    Args:\n",
      "      path: path where to cache the dataset locally\n",
      "        (relative to `~/.keras/datasets`).\n",
      "    \n",
      "    Returns:\n",
      "      Tuple of NumPy arrays: `(x_train, y_train), (x_test, y_test)`.\n",
      "    \n",
      "    **x_train**: uint8 NumPy array of grayscale image data with shapes\n",
      "      `(60000, 28, 28)`, containing the training data. Pixel values range\n",
      "      from 0 to 255.\n",
      "    \n",
      "    **y_train**: uint8 NumPy array of digit labels (integers in range 0-9)\n",
      "      with shape `(60000,)` for the training data.\n",
      "    \n",
      "    **x_test**: uint8 NumPy array of grayscale image data with shapes\n",
      "      (10000, 28, 28), containing the test data. Pixel values range\n",
      "      from 0 to 255.\n",
      "    \n",
      "    **y_test**: uint8 NumPy array of digit labels (integers in range 0-9)\n",
      "      with shape `(10000,)` for the test data.\n",
      "    \n",
      "    Example:\n",
      "    \n",
      "    ```python\n",
      "    (x_train, y_train), (x_test, y_test) = keras.datasets.mnist.load_data()\n",
      "    assert x_train.shape == (60000, 28, 28)\n",
      "    assert x_test.shape == (10000, 28, 28)\n",
      "    assert y_train.shape == (60000,)\n",
      "    assert y_test.shape == (10000,)\n",
      "    ```\n",
      "    \n",
      "    License:\n",
      "      Yann LeCun and Corinna Cortes hold the copyright of MNIST dataset,\n",
      "      which is a derivative work from original NIST datasets.\n",
      "      MNIST dataset is made available under the terms of the\n",
      "      [Creative Commons Attribution-Share Alike 3.0 license.](\n",
      "      https://creativecommons.org/licenses/by-sa/3.0/)\n",
      "\n"
     ]
    }
   ],
   "source": [
    "help(mnist.load_data)"
   ]
  },
  {
   "cell_type": "code",
   "execution_count": 3,
   "metadata": {
    "tags": []
   },
   "outputs": [],
   "source": [
    "# the data, shuffled and split between train and test sets \n",
    "(X_train_pre, y_train_pre), (X_test_pre, y_test_pre) = mnist.load_data()"
   ]
  },
  {
   "cell_type": "markdown",
   "metadata": {},
   "source": [
    "### Reshape and normalize the features"
   ]
  },
  {
   "cell_type": "code",
   "execution_count": 4,
   "metadata": {},
   "outputs": [
    {
     "name": "stdout",
     "output_type": "stream",
     "text": [
      "training data shape: (60000, 784)\n",
      "60000 train samples, 10000 test samples\n"
     ]
    }
   ],
   "source": [
    "input_dim = 784 # 28*28\n",
    "X_train = X_train_pre.reshape(X_train_pre.shape[0], input_dim) \n",
    "X_test = X_test_pre.reshape(X_test_pre.shape[0], input_dim) \n",
    "X_train = X_train.astype('float32') \n",
    "X_test = X_test.astype('float32') \n",
    "X_train /= 255. \n",
    "X_test /= 255.\n",
    "\n",
    "print('training data shape:', X_train.shape)\n",
    "print('{} train samples, {} test samples'.format(X_train.shape[0], X_test.shape[0]))"
   ]
  },
  {
   "cell_type": "markdown",
   "metadata": {},
   "source": [
    "### convert class vectors to binary class matrices\n",
    "convert class label to one-hot coding"
   ]
  },
  {
   "cell_type": "code",
   "execution_count": 5,
   "metadata": {},
   "outputs": [
    {
     "data": {
      "text/plain": [
       "array([[0., 0., 0., 0., 0., 1., 0., 0., 0., 0.],\n",
       "       [1., 0., 0., 0., 0., 0., 0., 0., 0., 0.],\n",
       "       [0., 0., 0., 0., 1., 0., 0., 0., 0., 0.],\n",
       "       [0., 1., 0., 0., 0., 0., 0., 0., 0., 0.],\n",
       "       [0., 0., 0., 0., 0., 0., 0., 0., 0., 1.]], dtype=float32)"
      ]
     },
     "execution_count": 5,
     "metadata": {},
     "output_type": "execute_result"
    }
   ],
   "source": [
    "num_classes = 10 # 0-9\n",
    "y_train = keras.utils.to_categorical(y_train_pre, num_classes)\n",
    "y_test = keras.utils.to_categorical(y_test_pre, num_classes)\n",
    "# the first 5 samples are 5,0,4,1,9\n",
    "y_train[:5,] "
   ]
  },
  {
   "cell_type": "code",
   "execution_count": 6,
   "metadata": {},
   "outputs": [
    {
     "name": "stdout",
     "output_type": "stream",
     "text": [
      "training data shape: (50000, 784)\n",
      "50000 train samples, 10000 validation samples, 10000 test samples\n"
     ]
    }
   ],
   "source": [
    "validation_split = 0.166667\n",
    "index = np.random.permutation(X_train.shape[0])\n",
    "\n",
    "train_idx = int(X_train.shape[0]*validation_split)\n",
    "\n",
    "X_val, X_train = X_train[index[:train_idx]], X_train[index[train_idx:]]\n",
    "y_val, y_train = y_train[index[:train_idx]], y_train[index[train_idx:]]\n",
    "\n",
    "print('training data shape:', X_train.shape)\n",
    "print('{} train samples, {} validation samples, {} test samples'\\\n",
    "      .format(X_train.shape[0], X_val.shape[0], X_test.shape[0]))"
   ]
  },
  {
   "cell_type": "markdown",
   "metadata": {},
   "source": [
    "## The model"
   ]
  },
  {
   "cell_type": "markdown",
   "metadata": {},
   "source": [
    "### Build the model"
   ]
  },
  {
   "cell_type": "code",
   "execution_count": 7,
   "metadata": {},
   "outputs": [],
   "source": [
    "#from keras.layers import Dropout\n",
    "\n",
    "model = keras.Sequential()\n",
    "model.add(layers.Dense(512, activation='relu', input_shape=(784,)))\n",
    "model.add(layers.Dense(128, activation='relu')) \n",
    "model.add(layers.Dense(10, activation='softmax'))\n",
    "model.compile(loss='categorical_crossentropy',\n",
    "              optimizer=keras.optimizers.RMSprop(0.001),\n",
    "              metrics=['accuracy'])"
   ]
  },
  {
   "cell_type": "markdown",
   "metadata": {},
   "source": [
    "### Inspect the model\n",
    "\n",
    "Use the `.summary` method to print a simple description of the model"
   ]
  },
  {
   "cell_type": "code",
   "execution_count": 8,
   "metadata": {},
   "outputs": [
    {
     "name": "stdout",
     "output_type": "stream",
     "text": [
      "Model: \"sequential\"\n",
      "_________________________________________________________________\n",
      "Layer (type)                 Output Shape              Param #   \n",
      "=================================================================\n",
      "dense (Dense)                (None, 512)               401920    \n",
      "_________________________________________________________________\n",
      "dense_1 (Dense)              (None, 128)               65664     \n",
      "_________________________________________________________________\n",
      "dense_2 (Dense)              (None, 10)                1290      \n",
      "=================================================================\n",
      "Total params: 468,874\n",
      "Trainable params: 468,874\n",
      "Non-trainable params: 0\n",
      "_________________________________________________________________\n"
     ]
    }
   ],
   "source": [
    "model.summary()"
   ]
  },
  {
   "cell_type": "markdown",
   "metadata": {},
   "source": [
    "### Train the model"
   ]
  },
  {
   "cell_type": "code",
   "execution_count": 9,
   "metadata": {},
   "outputs": [
    {
     "name": "stdout",
     "output_type": "stream",
     "text": [
      "Epoch 1/20\n",
      "391/391 [==============================] - 2s 4ms/step - loss: 0.2609 - accuracy: 0.9210 - val_loss: 0.1559 - val_accuracy: 0.9525\n",
      "Epoch 2/20\n",
      "391/391 [==============================] - 2s 4ms/step - loss: 0.0967 - accuracy: 0.9702 - val_loss: 0.1002 - val_accuracy: 0.9693\n",
      "Epoch 3/20\n",
      "391/391 [==============================] - 2s 4ms/step - loss: 0.0610 - accuracy: 0.9814 - val_loss: 0.0891 - val_accuracy: 0.9726\n",
      "Epoch 4/20\n",
      "391/391 [==============================] - 2s 5ms/step - loss: 0.0443 - accuracy: 0.9861 - val_loss: 0.1081 - val_accuracy: 0.9711\n",
      "Epoch 5/20\n",
      "391/391 [==============================] - 2s 5ms/step - loss: 0.0314 - accuracy: 0.9905 - val_loss: 0.1018 - val_accuracy: 0.9742\n",
      "Epoch 6/20\n",
      "391/391 [==============================] - 2s 6ms/step - loss: 0.0231 - accuracy: 0.9927 - val_loss: 0.1206 - val_accuracy: 0.9701\n",
      "Epoch 7/20\n",
      "391/391 [==============================] - 3s 6ms/step - loss: 0.0178 - accuracy: 0.9945 - val_loss: 0.0893 - val_accuracy: 0.9788\n",
      "Epoch 8/20\n",
      "391/391 [==============================] - 2s 6ms/step - loss: 0.0137 - accuracy: 0.9956 - val_loss: 0.1033 - val_accuracy: 0.9790\n",
      "Epoch 9/20\n",
      "391/391 [==============================] - 2s 5ms/step - loss: 0.0110 - accuracy: 0.9965 - val_loss: 0.1029 - val_accuracy: 0.9811\n",
      "Epoch 10/20\n",
      "391/391 [==============================] - 2s 6ms/step - loss: 0.0093 - accuracy: 0.9967 - val_loss: 0.1185 - val_accuracy: 0.9785\n",
      "Epoch 11/20\n",
      "391/391 [==============================] - 2s 6ms/step - loss: 0.0069 - accuracy: 0.9978 - val_loss: 0.1323 - val_accuracy: 0.9784\n",
      "Epoch 12/20\n",
      "391/391 [==============================] - 3s 6ms/step - loss: 0.0065 - accuracy: 0.9980 - val_loss: 0.1186 - val_accuracy: 0.9794\n",
      "Epoch 13/20\n",
      "391/391 [==============================] - 2s 6ms/step - loss: 0.0055 - accuracy: 0.9981 - val_loss: 0.1331 - val_accuracy: 0.9790\n",
      "Epoch 14/20\n",
      "391/391 [==============================] - 3s 7ms/step - loss: 0.0060 - accuracy: 0.9980 - val_loss: 0.1337 - val_accuracy: 0.9789\n",
      "Epoch 15/20\n",
      "391/391 [==============================] - 3s 7ms/step - loss: 0.0042 - accuracy: 0.9987 - val_loss: 0.1303 - val_accuracy: 0.9802\n",
      "Epoch 16/20\n",
      "391/391 [==============================] - 3s 7ms/step - loss: 0.0047 - accuracy: 0.9984 - val_loss: 0.1545 - val_accuracy: 0.9790\n",
      "Epoch 17/20\n",
      "391/391 [==============================] - 3s 7ms/step - loss: 0.0045 - accuracy: 0.9985 - val_loss: 0.1477 - val_accuracy: 0.9816\n",
      "Epoch 18/20\n",
      "391/391 [==============================] - 3s 7ms/step - loss: 0.0033 - accuracy: 0.9991 - val_loss: 0.1707 - val_accuracy: 0.9771\n",
      "Epoch 19/20\n",
      "391/391 [==============================] - 3s 7ms/step - loss: 0.0037 - accuracy: 0.9989 - val_loss: 0.1912 - val_accuracy: 0.9775\n",
      "Epoch 20/20\n",
      "391/391 [==============================] - 3s 7ms/step - loss: 0.0042 - accuracy: 0.9988 - val_loss: 0.1783 - val_accuracy: 0.9786\n"
     ]
    }
   ],
   "source": [
    "EPOCHS = 20\n",
    "\n",
    "history = model.fit(X_train, y_train,\n",
    "                    batch_size=128, epochs=EPOCHS,\n",
    "                    validation_data=(X_val, y_val))"
   ]
  },
  {
   "cell_type": "code",
   "execution_count": 10,
   "metadata": {},
   "outputs": [
    {
     "data": {
      "image/png": "[encoded data removed]",
      "text/plain": [
       "<Figure size 432x288 with 1 Axes>"
      ]
     },
     "metadata": {
      "needs_background": "light"
     },
     "output_type": "display_data"
    }
   ],
   "source": [
    "def plot_history(history):\n",
    "    hist = pd.DataFrame(history.history)\n",
    "    hist['epoch'] = history.epoch\n",
    "    hist.tail()\n",
    "\n",
    "    plt.figure()\n",
    "    plt.xlabel('Epoch')\n",
    "    plt.ylabel('Accuracy')\n",
    "    plt.plot(hist['epoch'], hist['accuracy'], label=\"train\")\n",
    "    plt.plot(hist['epoch'], hist['val_accuracy'], label=\"val\")\n",
    "    plt.legend()\n",
    "    plt.show()\n",
    "\n",
    "plot_history(history)"
   ]
  },
  {
   "cell_type": "markdown",
   "metadata": {},
   "source": [
    "### Make predictions"
   ]
  },
  {
   "cell_type": "markdown",
   "metadata": {},
   "source": [
    "Calculate the classification accuracy for testing set"
   ]
  },
  {
   "cell_type": "code",
   "execution_count": 11,
   "metadata": {},
   "outputs": [
    {
     "name": "stdout",
     "output_type": "stream",
     "text": [
      "Testing set accuracy: 97.90%\n"
     ]
    }
   ],
   "source": [
    "_, acc = model.evaluate(X_test, y_test, verbose=0)\n",
    "\n",
    "print(\"Testing set accuracy: {:.2f}%\".format(acc*100))"
   ]
  },
  {
   "cell_type": "markdown",
   "metadata": {},
   "source": [
    "Make predictions for testing data"
   ]
  },
  {
   "cell_type": "code",
   "execution_count": 12,
   "metadata": {},
   "outputs": [
    {
     "data": {
      "text/plain": [
       "array([7, 2, 1, 0, 4])"
      ]
     },
     "execution_count": 12,
     "metadata": {},
     "output_type": "execute_result"
    }
   ],
   "source": [
    "y_pred = np.argmax(model.predict(X_test), axis=-1)\n",
    "y_pred[:5]"
   ]
  },
  {
   "cell_type": "markdown",
   "metadata": {},
   "source": [
    "Visualize predictions"
   ]
  },
  {
   "cell_type": "code",
   "execution_count": 13,
   "metadata": {},
   "outputs": [
    {
     "data": {
      "image/png": "[encoded data removed]",
      "text/plain": [
       "<Figure size 648x648 with 9 Axes>"
      ]
     },
     "metadata": {},
     "output_type": "display_data"
    }
   ],
   "source": [
    "fig = plt.figure(figsize=(9, 9))\n",
    "col = 3\n",
    "row = 3\n",
    "for i in range(1, col*row +1):\n",
    "    pred = y_pred[i]\n",
    "    img = X_test_pre[i,:]\n",
    "    fig.add_subplot(row, col, i)\n",
    "    plt.title('Predicted label is {}'.format(pred))\n",
    "    plt.xticks([])\n",
    "    plt.yticks([])\n",
    "    plt.imshow(img, cmap='gray')\n",
    "plt.show()"
   ]
  },
  {
   "cell_type": "markdown",
   "metadata": {},
   "source": [
    "## Early Stopping"
   ]
  },
  {
   "cell_type": "code",
   "execution_count": 14,
   "metadata": {},
   "outputs": [
    {
     "name": "stdout",
     "output_type": "stream",
     "text": [
      "Epoch 1/20\n",
      "391/391 [==============================] - 3s 7ms/step - loss: 0.0031 - accuracy: 0.9990 - val_loss: 0.1608 - val_accuracy: 0.9807\n",
      "Epoch 2/20\n",
      "391/391 [==============================] - 3s 7ms/step - loss: 0.0032 - accuracy: 0.9991 - val_loss: 0.1748 - val_accuracy: 0.9810\n",
      "Epoch 3/20\n",
      "391/391 [==============================] - 3s 7ms/step - loss: 0.0025 - accuracy: 0.9992 - val_loss: 0.1872 - val_accuracy: 0.9797\n"
     ]
    }
   ],
   "source": [
    "EPOCHS = 20\n",
    "\n",
    "early_stop = keras.callbacks.EarlyStopping(monitor='val_loss', patience=2)\n",
    "\n",
    "\n",
    "history = model.fit(X_train, y_train,\n",
    "                    batch_size=128, epochs=EPOCHS,\n",
    "                    validation_data=(X_val, y_val),\n",
    "                    callbacks=[early_stop])"
   ]
  },
  {
   "cell_type": "code",
   "execution_count": 15,
   "metadata": {},
   "outputs": [
    {
     "name": "stdout",
     "output_type": "stream",
     "text": [
      "Testing set accuracy: 98.07%\n"
     ]
    }
   ],
   "source": [
    "_, acc = model.evaluate(X_test, y_test, verbose=0)\n",
    "\n",
    "print(\"Testing set accuracy: {:.2f}%\".format(acc*100))"
   ]
  }
 ],
 "metadata": {
  "kernelspec": {
   "display_name": "Python 3",
   "language": "python",
   "name": "python3"
  },
  "language_info": {
   "codemirror_mode": {
    "name": "ipython",
    "version": 3
   },
   "file_extension": ".py",
   "mimetype": "text/x-python",
   "name": "python",
   "nbconvert_exporter": "python",
   "pygments_lexer": "ipython3",
   "version": "3.9.5"
  }
 },
 "nbformat": 4,
 "nbformat_minor": 4
}
